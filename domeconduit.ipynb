{
 "cells": [
  {
   "cell_type": "code",
   "execution_count": 1,
   "id": "emotional-documentation",
   "metadata": {},
   "outputs": [],
   "source": [
    "import numpy as np\n",
    "from scipy import special as sp\n",
    "import csv\n",
    "\n",
    "#need matlab to check\n",
    "import matlab.engine\n",
    "eng = matlab.engine.start_matlab()\n"
   ]
  },
  {
   "cell_type": "code",
   "execution_count": 2,
   "id": "moral-tragedy",
   "metadata": {},
   "outputs": [],
   "source": [
    "path = '../domeconduit/Code/TimeDependent/'\n",
    "eng.addpath (path, nargout= 0 )"
   ]
  },
  {
   "cell_type": "code",
   "execution_count": 315,
   "id": "early-jordan",
   "metadata": {},
   "outputs": [],
   "source": [
    "# Model parameters\n",
    "m = {}\n",
    "\n",
    "Tvec = np.array((950, 900, 850, 800, 750))\n",
    "m['Ti'] = 3\n",
    "m['T'] = np.float(Tvec[m['Ti']-1] + 273.15)  # temperature [K]\n",
    "\n",
    "# densities\n",
    "m['rho_s']  = 2600.\n",
    "m['rho_l']  = 2200.\n",
    "m['rho_hd'] = 2200.\n",
    "m['rho_cd'] = 2200.\n",
    "\n",
    "# gas constants\n",
    "m['Rw'] = 461.5 # J/(kg K)\n",
    "m['Rc'] = 188.9 # J/(kg K)\n",
    "\n",
    "\n",
    "# initialise solid fraction curves\n",
    "fname = 'chis_ti' + str(m['Ti']) + '.csv'\n",
    "with open(fname, newline='') as f:\n",
    "    reader = np.array(list(csv.reader(f)),dtype=np.float)\n",
    "\n",
    "pp = {}\n",
    "pp['breaks'] = np.array(reader[:,0]).reshape(len(reader),1)\n",
    "pp['coefs'] = reader[:-1,1:]\n",
    "m['pf'] = pp\n",
    "\n",
    "\n",
    "\n"
   ]
  },
  {
   "cell_type": "code",
   "execution_count": 336,
   "id": "thousand-stereo",
   "metadata": {},
   "outputs": [],
   "source": [
    "def mat_to_py(var):\n",
    "  # converts matlab arrays to numpy arrays and makes sure everything is shape Nx1\n",
    "  val = np.array(var)\n",
    "  if len(val.shape) < 2:\n",
    "    val = val[:,np.newaxis]\n",
    "    L, W = val.shape\n",
    "    \n",
    "  if L < W:\n",
    "    val = val.T\n",
    "  return val"
   ]
  },
  {
   "cell_type": "code",
   "execution_count": 194,
   "id": "resident-algebra",
   "metadata": {},
   "outputs": [],
   "source": [
    "\n",
    "def viscosity(h2o_d, phi_s_eta, gdot, m):\n",
    "    \"\"\"\n",
    "    Calculates viscosity of silicate melt using \n",
    "    - dacite melt viscosity model from Whittington 2009\n",
    "    - crystal content relative viscosity model from Costa 2005\n",
    "    \n",
    "    h2o_d in wt%\n",
    "    phi_s_eta = phi_s / (phi_s + phi_l)\n",
    "    gdot is strain rate\n",
    "    \"\"\"\n",
    "    \n",
    "    h2o_arg = np.log10(h2o_d + 0.26)\n",
    "    logeta_m = -4.43 + (7618.3 - 17.25*h2o_arg)/(m['T'] - 406.1 + (292.6*h2o_arg))\n",
    "    eta_m = np.power(10,logeta_m)\n",
    "    \n",
    "    if gdot == 0:\n",
    "        #values from Costa 2005b and 2007b\n",
    "        kappa   = 0.999916\n",
    "        phistar = 0.673\n",
    "        gamma   = 3.98937\n",
    "        delta   = 16.9386\n",
    "    else:\n",
    "        # strain-rate dependent values from Costa 2005 and Caricchi 2007\n",
    "        phistar = -0.066499*np.tanh(0.913424*np.log10(gdot)+3.850623) + 0.591806\n",
    "        delta   = -6.301095*np.tanh(0.818496*np.log10(gdot)+2.86)     + 7.462405\n",
    "        kappa   = -0.000378*np.tanh(1.148101*np.log10(gdot)+3.92)     + 0.999572\n",
    "        gamma   =  3.987815*np.tanh(0.890800*np.log10(gdot)+3.24)     + 5.099645\n",
    "        \n",
    "    pih = np.sqrt(np.pi)\n",
    "    B   = 2.5\n",
    "    \n",
    "    phifr = phi_s_eta/phistar\n",
    "    \n",
    "    top = (1. + np.power(phifr,delta))    #numerator\n",
    "    efarg = 0.5*pih*phifr/kappa*(1. + np.power(phifr,gamma))  #error function argument\n",
    "    eta_phi = top/np.power((1. - kappa*sp.erf(efarg)), B*phistar)\n",
    "\n",
    "    eta = eta_m*eta_phi\n",
    "        \n",
    "    return eta, eta_m, eta_phi\n",
    "\n"
   ]
  },
  {
   "cell_type": "code",
   "execution_count": 26,
   "id": "nuclear-proceeding",
   "metadata": {},
   "outputs": [
    {
     "name": "stdout",
     "output_type": "stream",
     "text": [
      "-5.0 -5.0\n"
     ]
    }
   ],
   "source": [
    "print(np.log10(gdot), eng.log10(gdot))"
   ]
  },
  {
   "cell_type": "code",
   "execution_count": 202,
   "id": "horizontal-visitor",
   "metadata": {},
   "outputs": [
    {
     "name": "stdout",
     "output_type": "stream",
     "text": [
      "233815.67501426488 5832.851929387548 40.08599529781234\n",
      "233815.67501426488 5832.851929387548 40.08599529781234\n"
     ]
    }
   ],
   "source": [
    "h2o_d = 5.\n",
    "phi_s_eta = 0.5\n",
    "gdot = 1.0e-5\n",
    "\n",
    "eta1, eta_m1, eta_phi1 = viscosity(h2o_d, phi_s_eta, gdot, m)\n",
    "eta2, eta_m2, eta_phi2 = eng.tdcFV('calc_eta', h2o_d*0.01, phi_s_eta, m['T'], 2, gdot, nargout=3)\n",
    "\n",
    "print(eta1, eta_m1, eta_phi1)\n",
    "print(eta2, eta_m2, eta_phi2)\n",
    "\n"
   ]
  },
  {
   "cell_type": "code",
   "execution_count": 203,
   "id": "incorporate-marking",
   "metadata": {},
   "outputs": [],
   "source": [
    "def solubility(p, mh, m):\n",
    "    \"\"\"\n",
    "    calculate dissolved h2o and co2 using pressure, temperature, mole fraction water\n",
    "    using constitutive relations from Liu et al 2005\n",
    "    Be careful with units!\n",
    "    \n",
    "    p    pressure in Pa\n",
    "    mh   mole fraction water (range 0 to 1)\n",
    "    m    dictionary of values\n",
    "    \n",
    "    h2o_d   dissolved h2o in wt%\n",
    "    co2_d   dissolved co2 in ppm\n",
    "    \n",
    "    \"\"\"\n",
    "    \n",
    "    # convert p to MPa\n",
    "    p = 1e-6*p\n",
    "    \n",
    "    T = m['T']\n",
    "    \n",
    "    # Precompute for speed.\n",
    "    Pw      = p*mh\n",
    "    Pc      = p*(1-mh)\n",
    "    sqrtPw  = np.sqrt(Pw)\n",
    "    Pw15    = Pw*sqrtPw # Pw^1.5\n",
    "\n",
    "    # These equations require MPa, Kelvin, and return wt% and ppm in weight. Assuming saturation!\n",
    "    h2o_d = (354.94*sqrtPw + 9.623*Pw - 1.5223*Pw15)/T + 0.0012439*Pw15 + Pc*(-1.084e-4*sqrtPw - 1.362e-5*Pw)\n",
    "    co2_d = Pc*(5668 - 55.99*Pw)/T + Pc*(0.4133*sqrtPw + 2.041e-3*Pw15)\n",
    "    \n",
    "    return h2o_d, co2_d\n",
    "    "
   ]
  },
  {
   "cell_type": "code",
   "execution_count": 212,
   "id": "celtic-melissa",
   "metadata": {},
   "outputs": [
    {
     "name": "stdout",
     "output_type": "stream",
     "text": [
      "3.6514262684227448 62.23487438438163\n",
      "3.6514262684227448 62.23487438438163\n"
     ]
    }
   ],
   "source": [
    "p = 100.e6\n",
    "mh = 0.9\n",
    "\n",
    "h2o_d1, co2_d1 = solubility(p, mh, m)\n",
    "h2o_d2, co2_d2 = eng.tdcFV('solubility_liu_explicit', p, m['T'], mh, nargout=2)\n",
    "\n",
    "print(h2o_d1, co2_d1)\n",
    "print(h2o_d2, co2_d2)"
   ]
  },
  {
   "cell_type": "code",
   "execution_count": 429,
   "id": "foster-mounting",
   "metadata": {},
   "outputs": [],
   "source": [
    "def solid_mass_frac(pMPA, pp):\n",
    "    \"\"\"\n",
    "    Calculate solid mass fraction for specified pressure using piecewise polynomials \n",
    "    Pressure in MPa here\n",
    "    \n",
    "    NB the shapes of these may become a problem. \n",
    "    NEEDS TO BE CHECKED!!!\n",
    "    \"\"\"    \n",
    "    \n",
    "    # check where the the pressure is between the two breakpoints\n",
    "    ppbreak = pp['breaks'].transpose()\n",
    "    tmp = np.all([pMPA>=ppbreak[0,:-1], pMPA<ppbreak[0,1:]], axis=0)\n",
    "    \n",
    "    # gather index of polynomial for each pressure in pMPA\n",
    "    chi_ind = mat_to_py(np.argmax(tmp, axis=1))\n",
    "    \n",
    "    # make dp and coef matrices of size pMPA. Can't figure out how to make the coeffs in one line\n",
    "    dp  = pMPA - pp['breaks'][chi_ind,0]\n",
    "    cf0 = pp['coefs'][chi_ind,0]\n",
    "    cf1 = pp['coefs'][chi_ind,1]\n",
    "    cf2 = pp['coefs'][chi_ind,2]\n",
    "    cf3 = pp['coefs'][chi_ind,3]\n",
    "    \n",
    "    # calculate piecewise polynomial\n",
    "    chi_s = cf0*np.power(dp,3) + cf1*np.power(dp,2) + cf2*dp + cf3\n",
    "    \n",
    "    # check at low pressure, chi_s = 1\n",
    "    chi_s[pMPA<pp['breaks'][ 0]] = pp['coefs'][0,3]\n",
    "    \n",
    "    # check that there are no negative values at extremely high pressures\n",
    "    chi_s[chi_s<0] = 0\n",
    "    \n",
    "    return chi_s"
   ]
  },
  {
   "cell_type": "code",
   "execution_count": 326,
   "id": "prospective-floor",
   "metadata": {},
   "outputs": [],
   "source": [
    "def density (p, phi_g, mh, m):\n",
    "    \"\"\"\n",
    "    calculate magma density given pressure, porosity and mole fraction water\n",
    "    \"\"\"\n",
    "    \n",
    "    # get dissolved volatiles\n",
    "    h2o_d, co2_d = solubility_liu(p, mh, m)\n",
    "    \n",
    "    # convert to mass fractions\n",
    "    h2o_d = 1e-2*h2o_d\n",
    "    co2_d = 1e-6*co2_d\n",
    "    \n",
    "    c1  = 1/(1 - h2o_d - co2_d)\n",
    "    c2  = 1/(1 + h2o_d*c1*(m['rho_l']/m['rho_hd']) + co2_d*c1*(m['rho_l']/m['rho_cd']))\n",
    "    c12 = c1*c2\n",
    "    \n",
    "    chi_s = solid_mass_frac(p*1e-6, m['pf'])\n",
    "    \n",
    "    phi_s = chi_s*m['rho_l']*c12*(1-phi_g)/(m['rho_s'] + chi_s*(c12*m['rho_l']-m['rho_s']))\n",
    "    phi_s_eta = phi_s/(1-phi_g)\n",
    "    \n",
    "    phi_l = (1 - phi_s - phi_g)*c2 \n",
    "    rho_g = p*(mh/(m['Rw']*m['T']) + (1-mh)/(m['Rc']*m['T']))\n",
    "    \n",
    "    rho = m['rho_s']*phi_s + m['rho_l']*phi_l*c1 + rho_g*phi_g\n",
    "    \n",
    "    return rho\n",
    "    "
   ]
  },
  {
   "cell_type": "code",
   "execution_count": 430,
   "id": "level-timothy",
   "metadata": {},
   "outputs": [
    {
     "name": "stdout",
     "output_type": "stream",
     "text": [
      "[[0.4775866 ]\n",
      " [0.58105453]]\n"
     ]
    }
   ],
   "source": [
    "p = mat_to_py(np.array([100e6,50e6]))\n",
    "\n",
    "chi_s = solid_mass_frac(1e-6*p, m['pf'])\n",
    "print(chi_s)\n",
    "\n",
    "# matlab values:\n",
    "# 0.477586596754590   0.581054531506694\n"
   ]
  },
  {
   "cell_type": "code",
   "execution_count": 427,
   "id": "reliable-launch",
   "metadata": {},
   "outputs": [
    {
     "name": "stdout",
     "output_type": "stream",
     "text": [
      "[[2219.93476839]\n",
      " [2219.30516675]]\n"
     ]
    }
   ],
   "source": [
    "\n",
    "\n",
    "p = mat_to_py(np.array([1.054280000e8,  1.052828331167970e8]))\n",
    "phi_g = mat_to_py(np.array([0.070420583176296,0.070739299110460]))\n",
    "mh = mat_to_py(np.array([0.934573912110104,0.934790009940851]))\n",
    "\n",
    "rho = density(p, phi_g, mh, m)\n",
    "print(rho)\n",
    "\n",
    "# matlab values:\n",
    "#  2219.934768390909 2219.305166750766"
   ]
  },
  {
   "cell_type": "code",
   "execution_count": 428,
   "id": "ordinary-dancing",
   "metadata": {},
   "outputs": [
    {
     "name": "stdout",
     "output_type": "stream",
     "text": [
      "(101, 1)\n",
      "(101, 1)\n",
      "(101, 1)\n"
     ]
    }
   ],
   "source": [
    "p = np.linspace(1e6,100e6,num=101)\n",
    "p = mat_to_py(p)\n",
    "\n",
    "print(p.shape)\n",
    "mh = 0.9\n",
    "\n",
    "# need to reshape pressure\n",
    "\n",
    "pMPa = p*1e-6\n",
    "\n",
    "h2o_d, co2_d = solubility_liu(p, mh, m)\n",
    "print(h2o_d.shape)\n",
    "\n",
    "chi_s = solid_mass_frac(pMPa, m['pf'])\n",
    "\n",
    "rho = density(p, 0.1, mh, m)\n",
    "\n",
    "print(chi_s.shape)"
   ]
  }
 ],
 "metadata": {
  "kernelspec": {
   "display_name": "Python 3",
   "language": "python",
   "name": "python3"
  },
  "language_info": {
   "codemirror_mode": {
    "name": "ipython",
    "version": 3
   },
   "file_extension": ".py",
   "mimetype": "text/x-python",
   "name": "python",
   "nbconvert_exporter": "python",
   "pygments_lexer": "ipython3",
   "version": "3.7.10"
  }
 },
 "nbformat": 4,
 "nbformat_minor": 5
}
