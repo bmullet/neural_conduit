{
 "cells": [
  {
   "cell_type": "markdown",
   "id": "pretty-tunisia",
   "metadata": {},
   "source": [
    "# TIme depeNdent ConduiT flow neUral netwoRk Emulator (TINCTURE)\n",
    "\n",
    "A collaboration between Ying Qi Wong, PhD and Ben Mullet"
   ]
  },
  {
   "cell_type": "code",
   "execution_count": 1,
   "id": "painted-breed",
   "metadata": {},
   "outputs": [],
   "source": [
    "import hashlib\n",
    "import matplotlib.pyplot as plt\n",
    "import numpy as np\n",
    "import os\n",
    "import pathlib\n",
    "import pickle\n",
    "import tqdm\n",
    "import json\n",
    "\n",
    "import tensorflow as tf\n",
    "from tensorflow import keras\n",
    "from tensorflow.keras.layers import Dense\n",
    "\n",
    "import matlab.engine\n",
    "\n",
    "import domegoveqn\n",
    "import constitutive\n",
    "import utils"
   ]
  },
  {
   "cell_type": "code",
   "execution_count": 2,
   "id": "skilled-aruba",
   "metadata": {},
   "outputs": [],
   "source": [
    "%load_ext autoreload\n",
    "%autoreload 2"
   ]
  },
  {
   "cell_type": "markdown",
   "id": "laughing-background",
   "metadata": {},
   "source": [
    "## Gather training data\n",
    "\n",
    "(This section is adapted from YQ's notebook \"RunModel\")"
   ]
  },
  {
   "cell_type": "code",
   "execution_count": 3,
   "id": "informative-yield",
   "metadata": {},
   "outputs": [],
   "source": [
    "eng = matlab.engine.start_matlab()\n",
    "\n",
    "path_to_domeconduit_code = \"/home/bmullet/Research/software/domeconduit/Code/\"  # on Ben's machine\n",
    "path_to_domeconduit_code = \"../domeconduit/Code/\"  # on YQ's machine\n",
    "\n",
    "eng.addpath (eng.genpath(path_to_domeconduit_code), nargout= 0 )"
   ]
  },
  {
   "cell_type": "code",
   "execution_count": null,
   "id": "26a3e986-6f6c-4a2a-a6c7-8d61444c8384",
   "metadata": {},
   "outputs": [],
   "source": []
  },
  {
   "cell_type": "markdown",
   "id": "quick-stationery",
   "metadata": {},
   "source": [
    "### Run time-dependent conduit model by calling matlab functions \n",
    "\n",
    "First start matlab and add paths for model functions\n"
   ]
  },
  {
   "cell_type": "markdown",
   "id": "human-graham",
   "metadata": {},
   "source": [
    "#### Run the full time-dependent model using default parameters"
   ]
  },
  {
   "cell_type": "code",
   "execution_count": 4,
   "id": "blocked-representative",
   "metadata": {},
   "outputs": [],
   "source": [
    "def n_by_1(array):\n",
    "  \"\"\"Transform array to Nx1\"\"\"\n",
    "  array = np.array(array)\n",
    "  \n",
    "  assert len(array.shape) <= 2, \"Array dim should be <= 2\"\n",
    "  \n",
    "  if len(array.shape) < 2:\n",
    "    array = array[:,np.newaxis]\n",
    "  \n",
    "  L, W = array.shape\n",
    "  if L < W:\n",
    "    array = array.T\n",
    "    \n",
    "  return array\n",
    "\n"
   ]
  },
  {
   "cell_type": "code",
   "execution_count": 5,
   "id": "respiratory-capacity",
   "metadata": {},
   "outputs": [
    {
     "ename": "NameError",
     "evalue": "name 'o' is not defined",
     "output_type": "error",
     "traceback": [
      "\u001b[0;31m---------------------------------------------------------------------------\u001b[0m",
      "\u001b[0;31mNameError\u001b[0m                                 Traceback (most recent call last)",
      "\u001b[0;32m<ipython-input-5-afebfb0c3eaa>\u001b[0m in \u001b[0;36m<module>\u001b[0;34m\u001b[0m\n\u001b[0;32m----> 1\u001b[0;31m \u001b[0mp\u001b[0m \u001b[0;34m=\u001b[0m \u001b[0mo\u001b[0m\u001b[0;34m.\u001b[0m\u001b[0mcopy\u001b[0m\u001b[0;34m(\u001b[0m\u001b[0;34m)\u001b[0m\u001b[0;34m\u001b[0m\u001b[0;34m\u001b[0m\u001b[0m\n\u001b[0m\u001b[1;32m      2\u001b[0m \u001b[0mp\u001b[0m\u001b[0;34m[\u001b[0m\u001b[0;34m\"V\"\u001b[0m\u001b[0;34m]\u001b[0m \u001b[0;34m=\u001b[0m \u001b[0;36m0\u001b[0m\u001b[0;34m\u001b[0m\u001b[0;34m\u001b[0m\u001b[0m\n\u001b[1;32m      3\u001b[0m \u001b[0;34m\u001b[0m\u001b[0m\n\u001b[1;32m      4\u001b[0m \u001b[0mhash\u001b[0m\u001b[0;34m(\u001b[0m\u001b[0mjson\u001b[0m\u001b[0;34m.\u001b[0m\u001b[0mdumps\u001b[0m\u001b[0;34m(\u001b[0m\u001b[0mo\u001b[0m\u001b[0;34m,\u001b[0m \u001b[0msort_keys\u001b[0m\u001b[0;34m=\u001b[0m\u001b[0;32mTrue\u001b[0m\u001b[0;34m)\u001b[0m\u001b[0;34m)\u001b[0m\u001b[0;34m\u001b[0m\u001b[0;34m\u001b[0m\u001b[0m\n\u001b[1;32m      5\u001b[0m \u001b[0mhash\u001b[0m\u001b[0;34m(\u001b[0m\u001b[0mjson\u001b[0m\u001b[0;34m.\u001b[0m\u001b[0mdumps\u001b[0m\u001b[0;34m(\u001b[0m\u001b[0mp\u001b[0m\u001b[0;34m,\u001b[0m \u001b[0msort_keys\u001b[0m\u001b[0;34m=\u001b[0m\u001b[0;32mTrue\u001b[0m\u001b[0;34m)\u001b[0m\u001b[0;34m)\u001b[0m\u001b[0;34m\u001b[0m\u001b[0;34m\u001b[0m\u001b[0m\n",
      "\u001b[0;31mNameError\u001b[0m: name 'o' is not defined"
     ]
    }
   ],
   "source": [
    "p = o.copy()\n",
    "p[\"V\"] = 0\n",
    "\n",
    "hash(json.dumps(o, sort_keys=True))\n",
    "hash(json.dumps(p, sort_keys=True))\n",
    "\n",
    "hash_object = hashlib.sha1(json.dumps(p, sort_keys=True).encode())\n",
    "print(hash_object.hexdigest())"
   ]
  },
  {
   "cell_type": "code",
   "execution_count": 15,
   "id": "sustainable-advertising",
   "metadata": {},
   "outputs": [],
   "source": [
    "#TODO: Collect relevant pieces into a class that keeps list of inputs/outputs neat and clean\n",
    "\n",
    "# Global constants\n",
    "CONDUIT_VAR_NAMES = [\"p\", \"v\", \"phi_g\", \"mh\"] # TODO: change to mh\n",
    "DEFAULT_PARAMS = eng.tdcFV('setdef', nargout=1)\n",
    "DEFAULT_PARAMS['phi_gc'] = 0\n",
    "MODEL_PARAM_VARIABLES = DEFAULT_PARAMS.keys()\n",
    "DATA_CACHE_DIR = \"./data_cache\"\n",
    "\n",
    "# Make sure the cache directory exists\n",
    "pathlib.Path(DATA_CACHE_DIR).mkdir(parents=False, exist_ok=True)\n",
    "\n",
    "def check_model_params(params):\n",
    "  \"\"\"\n",
    "  Makes sure an object is a valid params dict\n",
    "  \"\"\"\n",
    "  assert DEFAULT_PARAMS.keys() == params.keys(), \"model params dict is not valid\"\n",
    "\n",
    "class matlab_conduit_data_loader():\n",
    "  \n",
    "  # Default parameter\n",
    "  Nz = 401\n",
    "    \n",
    "  def __init__(self,\n",
    "               model_params=DEFAULT_PARAMS,\n",
    "               use_cache=True\n",
    "               ):\n",
    "    \n",
    "    check_model_params(model_params)\n",
    "    \n",
    "    self.model_params = model_params\n",
    "    \n",
    "    # Make a file name from hasing the input dictionary\n",
    "    hash_code = hashlib.sha1(json.dumps(self.model_params, sort_keys=True).encode()).hexdigest()\n",
    "    self.file_name = os.path.join(DATA_CACHE_DIR, hash_code)\n",
    "    \n",
    "    # Load data\n",
    "    loaded_data = False\n",
    "    if pathlib.Path(self.file_name).is_file() and use_cache:\n",
    "      # We've already computed this and cached the values, so load the cached data\n",
    "      try:\n",
    "        with open(self.file_name, \"rb\") as f:\n",
    "          saved_data = pickle.load(f)\n",
    "          self.ss     = saved_data['ss']\n",
    "          self.opts   = saved_data['opts']\n",
    "          self.ssflag = saved_data['ss_flag']\n",
    "        loaded_data = True\n",
    "      except Exception as e:\n",
    "        print(\"Caught Exception:\", e)\n",
    "        print(\"Cannot load data. Will generate it from scratch.\")\n",
    "        \n",
    "    if not loaded_data:\n",
    "      \n",
    "      # Compute data\n",
    "      #model_params['Nz'] = matlab_conduit_data_loader.Nz\n",
    "      \n",
    "      # run steady-state model - YQ I tried doing this but it couldn't work for some reason.\n",
    "      #model_params  = eng.tdcFV('ss_init', model_params, nargout=1)\n",
    "      #model_params['Nz'] = matlab_conduit_data_loader.Nz\n",
    "      #ss, opts, ssflag = eng.tdcFV('run_ssc_opts', model_params, nargout=3)\n",
    "      \n",
    "      #self.ss     = ss\n",
    "      #self.opts   = opts\n",
    "      #self.ssflag = ssflag\n",
    "      \n",
    "      ss, opts, ssflag = eng.tdcFV('run_ssc', model_params, nargout=3)\n",
    "      self.ss     = ss\n",
    "      self.opts   = ss['m']\n",
    "      self.ssflag = ssflag\n",
    "      \n",
    "      \n",
    "      # Cache data\n",
    "      if use_cache:\n",
    "        with open(self.file_name, \"wb\") as f:\n",
    "          data_to_save = {\"ss\" : self.ss, \"opts\" : self.opts, \n",
    "                          \"ss_flag\": self.ssflag}\n",
    "          pickle.dump(data_to_save, f)\n",
    "  \n",
    "  def get_transformed_data(self):\n",
    "    return conduit_data_transformer(self)\n",
    "          \n",
    "\n",
    "class conduit_data_transformer():\n",
    "  # Transform matlab conduit data into python and TF objects\n",
    "  \n",
    " \n",
    "  def __init__(self, ml_conduit_data):\n",
    "    \n",
    "    # Extract the variables and gradients\n",
    "    self.vars, self.grads = utils.get_steady_state_vars_and_grads(ml_conduit_data.ss)\n",
    "    \n",
    "    self.model_params = ml_conduit_data.model_params\n",
    "  \n",
    "  def create_tf_dataset(self):\n",
    "    \n",
    "    # create a dict to store the data\n",
    "    tf_dict = {}\n",
    "    \n",
    "    # adds z, p, phi_g, v, m_w\n",
    "    tf_dict.update({key : np.squeeze(var).astype(np.float32) for key, var in self.vars.items()})\n",
    "    \n",
    "    # adds gradients as nested dictionaries\n",
    "    tf_dict[\"gradients\"] = {key : np.squeeze(grad).astype(np.float32) for key, grad in self.grads.items()}\n",
    "    \n",
    "    # adds model parameters\n",
    "    # get dummy array to broadcast model params\n",
    "    # YQ: the model params input to get_physics should be opts, not model_params\n",
    "    dummy = np.ones_like(tf_dict[\"z\"][:,np.newaxis]).astype(np.float32)\n",
    "    tf_dict[\"model_params\"] = {key : (dummy*val).astype(np.float32) for key, val in self.model_params.items()}\n",
    "       \n",
    "    # Get boundary conditions\n",
    "    bottom_idx = np.argmin(tf_dict[\"z\"])\n",
    "    top_idx = np.argmax(tf_dict[\"z\"])\n",
    "    \n",
    "    # Conduit bottom boundary conditions are set on p, phi_g, and m_h (not v)\n",
    "    bottom_bcs = [\"p\", \"phi_g\", \"mh\"]\n",
    "    \n",
    "    # Conduit top boundary conditions are only set on p\n",
    "    top_bcs = [\"p\"]\n",
    "\n",
    "    # Creates a mask for those entries which are also boundary conditions\n",
    "    conduit_bcs = {}\n",
    "    for var in CONDUIT_VAR_NAMES:\n",
    "      conduit_bcs[var] = np.zeros_like(tf_dict[\"z\"]).astype(np.float32)\n",
    "      if var in bottom_bcs:\n",
    "        conduit_bcs[var][bottom_idx] = 1.0\n",
    "      if var in top_bcs:\n",
    "        conduit_bcs[var][top_idx] = 1.0\n",
    "    \n",
    "    tf_dict.update({\"boundary_conditions\" : conduit_bcs})\n",
    "    \n",
    "    # Create tf dataset\n",
    "    dataset = tf.data.Dataset.from_tensor_slices(tf_dict)\n",
    "    \n",
    "    return dataset \n",
    "  \n",
    "def data_assembler_template(input_vars=[\"z\"], input_model_params=[], output_vars=CONDUIT_VAR_NAMES):\n",
    "  \"\"\"\n",
    "  Creates a convenience function for splitting the dataset\n",
    "  Inputs:\n",
    "    input_vars: list of primary vars (z, phi_g, mh, p, v) to include in input to model\n",
    "    input_model_params: list of model params to include in input to model\n",
    "    output_vars: list of primary vars (z, phi_g, mh, p, v) to predict with model\n",
    "  Output:\n",
    "    data_assembler function\n",
    "  \"\"\"\n",
    "  \n",
    "  assert input_vars[0] == \"z\", \"First input variable needs to be z\"\n",
    "  \n",
    "  def data_assembler(dataset):\n",
    "    \"\"\"Convenience function for splitting up a tf.dataset\n",
    "    Inputs:\n",
    "      dataset of the form created by conduit_data_transformer\n",
    "    Outputs:\n",
    "      model_input: tensor that matches input_vars\n",
    "      model_output: tensor that matches output_vars\n",
    "      model_output_gradients: d()/dz gradients for output_vars\n",
    "      model_params: dict of model_params tensors\n",
    "      boundary_conditions: boundary conditions tensor mask\n",
    "    \"\"\"\n",
    "    \n",
    "    model_input = tf.stack([dataset[var] for var in input_vars], axis=1)\n",
    "    if len(input_model_params) > 0:\n",
    "      model_input_model_params = tf.stack([dataset[\"model_params\"][var] for var in input_model_params], axis=1)\n",
    "      model_input = tf.concatenate(model_input, model_input_model_params, axis=1)\n",
    "    \n",
    "    model_output = tf.stack([dataset[var] for var in output_vars], axis=1)\n",
    "\n",
    "    model_output_gradients = dataset[\"gradients\"]\n",
    "    model_params = {key : val[:,None] for key, val in dataset[\"model_params\"].items()}\n",
    "\n",
    "    boundary_conditions = tf.stack([dataset[\"boundary_conditions\"][var] for var in output_vars], axis=1)\n",
    "    \n",
    "    return model_input, model_output, model_output_gradients, model_params, boundary_conditions\n",
    "  \n",
    "  return data_assembler\n",
    "\n",
    "def plot_batch(model_input, model_output_true, model_output_pred=None):\n",
    "    \"\"\"Plot some output, given in_array and out_array\"\"\"\n",
    "    \n",
    "    # Cast to numpy\n",
    "    if isinstance(model_input, tf.Tensor):\n",
    "      model_input = model_input.numpy()\n",
    "    if isinstance(model_output_true, tf.Tensor):\n",
    "      model_output_true = model_output_true.numpy()\n",
    "    if isinstance(model_output_pred, tf.Tensor):\n",
    "      model_output_pred = model_output_pred.numpy()\n",
    "      \n",
    "    z = model_input[:,0]\n",
    "    \n",
    "    plt.figure(figsize=(15, 3))\n",
    "    nsub = len(CONDUIT_VAR_NAMES)\n",
    "    \n",
    "    for i, var_name in enumerate(CONDUIT_VAR_NAMES):\n",
    "      arrayi = model_output_true[:,i]\n",
    "    \n",
    "      plt.subplot(1, nsub, i+1)\n",
    "      lines = plt.plot(arrayi, z)\n",
    "\n",
    "      if model_output_pred is not None:\n",
    "        arrayi2 = model_output_pred[:,i]\n",
    "        plt.plot(arrayi2, z, \"--r\")\n",
    "        \n",
    "      plt.xlabel(var_name)\n",
    "      plt.ylabel(\"z\")\n",
    "      \n",
    "    plt.tight_layout()\n",
    "    plt.show()\n",
    "\n",
    "class data_transformer():\n",
    "\n",
    "  def __init__(self, variable_bounds):\n",
    "    \"\"\"\n",
    "    Create functions to normalize (and undimensionalize) and unnormalize our data\n",
    "    Input:\n",
    "      variable_bounds: dict of maxes and mins for normalizing\n",
    "    Output:\n",
    "      to_nondim: function for nondimensionalizing data\n",
    "      to_dim: function for dimensionalizing data\n",
    "    \"\"\"\n",
    "\n",
    "    mins  = tf.constant([variable_bounds[var][\"min\"] for var in CONDUIT_VAR_NAMES], dtype=tf.float32)\n",
    "    maxes = tf.constant([variable_bounds[var][\"max\"] for var in CONDUIT_VAR_NAMES], dtype=tf.float32)\n",
    "\n",
    "    def to_nondim(dimensional_tensor):\n",
    "      return (dimensional_tensor - mins)/(maxes - mins)\n",
    "\n",
    "    def to_dim(nondimensional_tensor):\n",
    "      return (nondimensional_tensor*(maxes-mins) + mins)\n",
    "    \n",
    "    self.to_nondim = to_nondim\n",
    "    self.to_dim = to_dim\n",
    "    "
   ]
  },
  {
   "cell_type": "code",
   "execution_count": 16,
   "id": "liquid-programming",
   "metadata": {},
   "outputs": [
    {
     "name": "stdout",
     "output_type": "stream",
     "text": [
      "['p', 'v', 'phi_g', 'mh']\n",
      "{'ys': {'phi0': 0.5, 'phim': 0.75, 'tauc': 1000000.0, 'tauys': 1500000.0, 'gamma': 1.0}, 'fr': {'v_ref': 1e-05, 'f0': 0.1, 'a': 0.01}, 'slv': {'fd': 1e-06, 'fdo': 2.0, 'zero': {'tolx': 1e-10}, 'de': {'reltol': 1e-10, 'abstol': 1e-20}, 'verbose': 1.0, 'max_time': inf, 'use_mex': 1.0, 'mexFunc': 'smf_rad_mex'}, 'p_top': 100000.0, 'ch': {'V0': 100000000000.0, 'Omega': 0.0, 'pdeep': 105428000.0, 'AR': 0.66, 'a': 3798.462470659509, 'depth': 7798.46247065951, 'chi_s': 0.3116, 'mu': 20000000000.0, 'beta_fixed': 0.0, 'beta': 1e-08, 'beta_ch': 3.947304656325095e-11, 'x0': 0.0, 'y0': 0.0}, 'R': 50.0, 'g': 9.81, 'conduit_length': 4000.0, 'chi_ch': {'total': {'h2o': 5.0, 'co2': 2000.0}}, 'Ti': 3.0, 'T': 1123.15, 'pf': {'p': matlab.double([[0.1],[24.03970450917165],[43.28049620951068],[44.10751206064783],[45.89937973811165],[48.24259131633357],[49.896623018607855],[51.8263266712612],[55.823569951757406],[64.64507236388697],[77.05031013094418],[107.6498966230186],[168.29772570640938],[200.0]]), 'chi': matlab.double([[1.0],[1.0],[0.6404329219863203],[0.629646551177105],[0.6100323624595468],[0.5904117457515518],[0.5815423339695184],[0.5733549083063646],[0.559615057060126],[0.5360286415584008],[0.5128740135127464],[0.4659640970320581],[0.3682820236218293],[0.31158041113280943]]), 'pp': {'form': 'pp', 'breaks': matlab.double([[0.1,24.03970450917165,43.28049620951068,44.10751206064783,45.89937973811165,48.24259131633357,49.896623018607855,51.8263266712612,55.823569951757406,64.64507236388697,77.05031013094418,107.6498966230186,168.29772570640938,200.0]]), 'coefs': matlab.double([[0.0,0.0,0.0,1.0],[6.160156078615844e-05,-0.002156519537966867,0.0,1.0],[-0.0007558449986846625,0.0024721976496175704,-0.01457010254931337,0.6404329219863203],[9.828270895893918e-05,0.0004297808704732933,-0.012031901655179433,0.629646551177105],[0.00013574520012333934,0.0001819172438771242,-0.009544985404269327,0.6100323624595468],[-0.00017669174428490005,0.0009537654927270702,-0.006456459939446127,0.5904117457515518],[-2.9697325929537083e-05,0.0003209191010881241,-0.0047515341022766645,0.5815423339695184],[-1.614652060589324e-06,0.00010837480656085729,-0.0038447333826327817,0.5733549083063646],[9.144713807497647e-07,3.523486824684126e-05,-0.0030557289563239456,0.559615057060126],[-1.2644134840364261e-06,4.422734437609238e-05,-0.0022205905218803455,0.5360286415584008],[-2.2172802045307203e-07,1.2471334432746343e-05,-0.0017070305614043338,0.5128740135127464],[-1.3487835597971929e-08,9.2276028928886e-08,-0.0015666301223160352,0.4659640970320581],[2.3103449475511915e-08,-3.391465777547185e-06,-0.0017042686593207867,0.3682820236218293]]), 'pieces': 13.0, 'order': 4.0, 'dim': 1.0}}, 'rho_l': 2200.0, 'rho_hd': 2200.0, 'rho_cd': 2200.0, 'rho_s': 2600.0, 'rho_c': 741.0, 'Rw': 461.5, 'Rc': 188.9, 'B': 0.4094523971824585, 'sig': {'slope': 16677.0, 'offset': 1000000.0}, 'expn': 1.0, 'eta': {'melt': 2.0, 'use_strain': 1.0}, 'k_lat_model': 2.0, 'plug_gas_loss': 1.0, 'k_lat': 1e-13, 'eta_g': 0.0001, 'use_phi_s_ratio': 1.0, 'phydro': {'slope': 9810.0}, 'L_diff': 50.0, 'phi_gc': 0, 'klw': {'use': True, 'top': 1e-14, 'mi': 3.2, 'L': 50.0}, 'use_k_vert': 1.0, 'model': 'newtonian', 'newtonian': {'vvfrac_thr': 0.5}, 'p_ch': 105428000.0, 'v_ch_guess': 0.005725, 'mw_ch': 0.9345739121101044, 'phi_g_ch': 0.07042058317629579, 'blk': {'is': {'p': 1.0, 'v': 2.0, 'phi_g': 3.0, 'mw': 4.0}, 'lb': matlab.double([[1000.0],[0.0],[0.0],[0.001]]), 'ub': matlab.double([[115970800.00000001],[inf],[0.999999],[1.0]]), 'fs': {'mb': 1.0, 'nv': 2.0, 'h2o': 3.0, 'co2': 4.0}}, 'Nz': 601.0, 'sy': matlab.double([[10542800.0],[0.1],[0.1],[1.0]]), 'syp': matlab.double([[-2635.7],[-2.5e-05],[-2.5e-05],[-0.00025]]), 'sF': matlab.double([[26357.0],[0.06],[0.055],[0.055]])}\n"
     ]
    }
   ],
   "source": [
    "print(CONDUIT_VAR_NAMES)\n",
    "\n",
    "c = matlab_conduit_data_loader()\n",
    "print(c.opts)\n",
    "d = c.get_transformed_data()"
   ]
  },
  {
   "cell_type": "code",
   "execution_count": 17,
   "id": "a15d26e1-adc2-4c17-8973-f37e325386e0",
   "metadata": {},
   "outputs": [
    {
     "name": "stdout",
     "output_type": "stream",
     "text": [
      "<__main__.conduit_data_transformer object at 0x19a5df4f0>\n",
      "1123.15\n"
     ]
    }
   ],
   "source": [
    "print(d)\n",
    "print(c.opts['T'])"
   ]
  },
  {
   "cell_type": "code",
   "execution_count": 18,
   "id": "hungry-collection",
   "metadata": {},
   "outputs": [],
   "source": [
    "mins_and_maxes = {}\n",
    "for var in CONDUIT_VAR_NAMES:\n",
    "  mins_and_maxes[var] = {\n",
    "    \"min\" : np.min(d.vars[var]),\n",
    "    \"max\" : np.max(d.vars[var])}\n",
    "  \n",
    "normalizer = data_transformer(mins_and_maxes)"
   ]
  },
  {
   "cell_type": "code",
   "execution_count": 19,
   "id": "hearing-casting",
   "metadata": {},
   "outputs": [
    {
     "ename": "TypeError",
     "evalue": "unsupported operand type(s) for *: 'float' and 'dict'",
     "output_type": "error",
     "traceback": [
      "\u001b[0;31m---------------------------------------------------------------------------\u001b[0m",
      "\u001b[0;31mTypeError\u001b[0m                                 Traceback (most recent call last)",
      "\u001b[0;32m<ipython-input-19-542eb4158448>\u001b[0m in \u001b[0;36m<module>\u001b[0;34m\u001b[0m\n\u001b[0;32m----> 1\u001b[0;31m \u001b[0mdataset\u001b[0m \u001b[0;34m=\u001b[0m \u001b[0md\u001b[0m\u001b[0;34m.\u001b[0m\u001b[0mcreate_tf_dataset\u001b[0m\u001b[0;34m(\u001b[0m\u001b[0;34m)\u001b[0m\u001b[0;34m\u001b[0m\u001b[0;34m\u001b[0m\u001b[0m\n\u001b[0m\u001b[1;32m      2\u001b[0m \u001b[0;34m\u001b[0m\u001b[0m\n\u001b[1;32m      3\u001b[0m \u001b[0;31m# Shows what one element of the dataset looks like\u001b[0m\u001b[0;34m\u001b[0m\u001b[0;34m\u001b[0m\u001b[0;34m\u001b[0m\u001b[0m\n\u001b[1;32m      4\u001b[0m \u001b[0mprint\u001b[0m\u001b[0;34m(\u001b[0m\u001b[0mdataset\u001b[0m\u001b[0;34m.\u001b[0m\u001b[0melement_spec\u001b[0m\u001b[0;34m)\u001b[0m\u001b[0;34m\u001b[0m\u001b[0;34m\u001b[0m\u001b[0m\n",
      "\u001b[0;32m<ipython-input-15-9e0b6056400e>\u001b[0m in \u001b[0;36mcreate_tf_dataset\u001b[0;34m(self)\u001b[0m\n\u001b[1;32m    106\u001b[0m     \u001b[0;31m# get dummy array to broadcast model params\u001b[0m\u001b[0;34m\u001b[0m\u001b[0;34m\u001b[0m\u001b[0;34m\u001b[0m\u001b[0m\n\u001b[1;32m    107\u001b[0m     \u001b[0mdummy\u001b[0m \u001b[0;34m=\u001b[0m \u001b[0mnp\u001b[0m\u001b[0;34m.\u001b[0m\u001b[0mones_like\u001b[0m\u001b[0;34m(\u001b[0m\u001b[0mtf_dict\u001b[0m\u001b[0;34m[\u001b[0m\u001b[0;34m\"z\"\u001b[0m\u001b[0;34m]\u001b[0m\u001b[0;34m[\u001b[0m\u001b[0;34m:\u001b[0m\u001b[0;34m,\u001b[0m\u001b[0mnp\u001b[0m\u001b[0;34m.\u001b[0m\u001b[0mnewaxis\u001b[0m\u001b[0;34m]\u001b[0m\u001b[0;34m)\u001b[0m\u001b[0;34m.\u001b[0m\u001b[0mastype\u001b[0m\u001b[0;34m(\u001b[0m\u001b[0mnp\u001b[0m\u001b[0;34m.\u001b[0m\u001b[0mfloat32\u001b[0m\u001b[0;34m)\u001b[0m\u001b[0;34m\u001b[0m\u001b[0;34m\u001b[0m\u001b[0m\n\u001b[0;32m--> 108\u001b[0;31m     \u001b[0mtf_dict\u001b[0m\u001b[0;34m[\u001b[0m\u001b[0;34m\"model_params\"\u001b[0m\u001b[0;34m]\u001b[0m \u001b[0;34m=\u001b[0m \u001b[0;34m{\u001b[0m\u001b[0mkey\u001b[0m \u001b[0;34m:\u001b[0m \u001b[0;34m(\u001b[0m\u001b[0mdummy\u001b[0m\u001b[0;34m*\u001b[0m\u001b[0mval\u001b[0m\u001b[0;34m)\u001b[0m\u001b[0;34m.\u001b[0m\u001b[0mastype\u001b[0m\u001b[0;34m(\u001b[0m\u001b[0mnp\u001b[0m\u001b[0;34m.\u001b[0m\u001b[0mfloat32\u001b[0m\u001b[0;34m)\u001b[0m \u001b[0;32mfor\u001b[0m \u001b[0mkey\u001b[0m\u001b[0;34m,\u001b[0m \u001b[0mval\u001b[0m \u001b[0;32min\u001b[0m \u001b[0mself\u001b[0m\u001b[0;34m.\u001b[0m\u001b[0mmodel_params\u001b[0m\u001b[0;34m.\u001b[0m\u001b[0mitems\u001b[0m\u001b[0;34m(\u001b[0m\u001b[0;34m)\u001b[0m\u001b[0;34m}\u001b[0m\u001b[0;34m\u001b[0m\u001b[0;34m\u001b[0m\u001b[0m\n\u001b[0m\u001b[1;32m    109\u001b[0m \u001b[0;34m\u001b[0m\u001b[0m\n\u001b[1;32m    110\u001b[0m     \u001b[0;31m# Get boundary conditions\u001b[0m\u001b[0;34m\u001b[0m\u001b[0;34m\u001b[0m\u001b[0;34m\u001b[0m\u001b[0m\n",
      "\u001b[0;32m<ipython-input-15-9e0b6056400e>\u001b[0m in \u001b[0;36m<dictcomp>\u001b[0;34m(.0)\u001b[0m\n\u001b[1;32m    106\u001b[0m     \u001b[0;31m# get dummy array to broadcast model params\u001b[0m\u001b[0;34m\u001b[0m\u001b[0;34m\u001b[0m\u001b[0;34m\u001b[0m\u001b[0m\n\u001b[1;32m    107\u001b[0m     \u001b[0mdummy\u001b[0m \u001b[0;34m=\u001b[0m \u001b[0mnp\u001b[0m\u001b[0;34m.\u001b[0m\u001b[0mones_like\u001b[0m\u001b[0;34m(\u001b[0m\u001b[0mtf_dict\u001b[0m\u001b[0;34m[\u001b[0m\u001b[0;34m\"z\"\u001b[0m\u001b[0;34m]\u001b[0m\u001b[0;34m[\u001b[0m\u001b[0;34m:\u001b[0m\u001b[0;34m,\u001b[0m\u001b[0mnp\u001b[0m\u001b[0;34m.\u001b[0m\u001b[0mnewaxis\u001b[0m\u001b[0;34m]\u001b[0m\u001b[0;34m)\u001b[0m\u001b[0;34m.\u001b[0m\u001b[0mastype\u001b[0m\u001b[0;34m(\u001b[0m\u001b[0mnp\u001b[0m\u001b[0;34m.\u001b[0m\u001b[0mfloat32\u001b[0m\u001b[0;34m)\u001b[0m\u001b[0;34m\u001b[0m\u001b[0;34m\u001b[0m\u001b[0m\n\u001b[0;32m--> 108\u001b[0;31m     \u001b[0mtf_dict\u001b[0m\u001b[0;34m[\u001b[0m\u001b[0;34m\"model_params\"\u001b[0m\u001b[0;34m]\u001b[0m \u001b[0;34m=\u001b[0m \u001b[0;34m{\u001b[0m\u001b[0mkey\u001b[0m \u001b[0;34m:\u001b[0m \u001b[0;34m(\u001b[0m\u001b[0mdummy\u001b[0m\u001b[0;34m*\u001b[0m\u001b[0mval\u001b[0m\u001b[0;34m)\u001b[0m\u001b[0;34m.\u001b[0m\u001b[0mastype\u001b[0m\u001b[0;34m(\u001b[0m\u001b[0mnp\u001b[0m\u001b[0;34m.\u001b[0m\u001b[0mfloat32\u001b[0m\u001b[0;34m)\u001b[0m \u001b[0;32mfor\u001b[0m \u001b[0mkey\u001b[0m\u001b[0;34m,\u001b[0m \u001b[0mval\u001b[0m \u001b[0;32min\u001b[0m \u001b[0mself\u001b[0m\u001b[0;34m.\u001b[0m\u001b[0mmodel_params\u001b[0m\u001b[0;34m.\u001b[0m\u001b[0mitems\u001b[0m\u001b[0;34m(\u001b[0m\u001b[0;34m)\u001b[0m\u001b[0;34m}\u001b[0m\u001b[0;34m\u001b[0m\u001b[0;34m\u001b[0m\u001b[0m\n\u001b[0m\u001b[1;32m    109\u001b[0m \u001b[0;34m\u001b[0m\u001b[0m\n\u001b[1;32m    110\u001b[0m     \u001b[0;31m# Get boundary conditions\u001b[0m\u001b[0;34m\u001b[0m\u001b[0;34m\u001b[0m\u001b[0;34m\u001b[0m\u001b[0m\n",
      "\u001b[0;31mTypeError\u001b[0m: unsupported operand type(s) for *: 'float' and 'dict'"
     ]
    }
   ],
   "source": [
    "dataset = d.create_tf_dataset()\n",
    "\n",
    "# Shows what one element of the dataset looks like\n",
    "print(dataset.element_spec)"
   ]
  },
  {
   "cell_type": "code",
   "execution_count": 20,
   "id": "reliable-equity",
   "metadata": {},
   "outputs": [
    {
     "data": {
      "image/png": "[encoded data removed]",
      "text/plain": [
       "<Figure size 1080x216 with 4 Axes>"
      ]
     },
     "metadata": {
      "needs_background": "light"
     },
     "output_type": "display_data"
    }
   ],
   "source": [
    "assembler = data_assembler_template(input_vars=[\"z\"], input_model_params=[], output_vars=CONDUIT_VAR_NAMES)\n",
    "batcher = dataset.batch(601)\n",
    "\n",
    "for batch in batcher:\n",
    "  model_input, model_output, model_output_gradients, model_params, boundary_conditions = assembler(batch)\n",
    "  plot_batch(model_input, model_output, model_output)\n",
    "  break"
   ]
  },
  {
   "cell_type": "markdown",
   "id": "mobile-punch",
   "metadata": {},
   "source": [
    "### Set up model"
   ]
  },
  {
   "cell_type": "code",
   "execution_count": 11,
   "id": "fallen-consolidation",
   "metadata": {},
   "outputs": [],
   "source": [
    "# Neural network model\n",
    "\n",
    "class PDENeuralNet(tf.keras.Model):\n",
    "  def __init__(self, n_inputs, n_outputs):\n",
    "    super().__init__()\n",
    "    \n",
    "    self.n_inputs = n_inputs\n",
    "    self.n_outputs = n_outputs\n",
    "  \n",
    "    self.nn_model = tf.keras.Sequential([\n",
    "      Dense(100, activation=tf.nn.elu),\n",
    "      Dense(100, activation=tf.nn.elu),\n",
    "      Dense(40, activation=tf.nn.elu),\n",
    "      Dense(30, activation=tf.nn.elu),\n",
    "      Dense(10, activation=tf.nn.elu),\n",
    "      Dense(self.n_outputs, activation=None), # No activation last layer matches PINN paper\n",
    "    ])\n",
    "\n",
    "    self(tf.zeros([1, self.n_inputs]))  # dummy call to build the model\n",
    "\n",
    "  @tf.function\n",
    "  def call(self, x):\n",
    "    z = self.nn_model(x)\n",
    "    return z"
   ]
  },
  {
   "cell_type": "code",
   "execution_count": 12,
   "id": "black-uzbekistan",
   "metadata": {},
   "outputs": [],
   "source": [
    "# Neural network parameters\n",
    "N_INPUTS = 1\n",
    "N_OUTPUTS = 4\n"
   ]
  },
  {
   "cell_type": "code",
   "execution_count": 13,
   "id": "behind-assurance",
   "metadata": {},
   "outputs": [],
   "source": [
    "OUTPUT_SCALING = tf.constant([1e7, 1e-3, 1/3, 0.95], dtype=tf.float32) # A dumb normalization for scaling the loss\n",
    "\n",
    "def get_optimzer(type=\"Adam\", lr=2e-3):\n",
    "  \"\"\"Sets up NN model optimizer\"\"\"\n",
    "  if type==\"Adam\":\n",
    "    trainer = tf.keras.optimizers.Adam(learning_rate = lr)\n",
    "  else:\n",
    "    trainer = tf.keras.optimizers.SGD(learning_rate = lr)\n",
    "  return trainer\n",
    "\n",
    "trainer = get_optimzer()\n",
    "\n",
    "def get_conduit_vals(p, u, A):\n",
    "  \n",
    "  raise NotImplementedError\n",
    "\n",
    "  return \n",
    "\n",
    "\n",
    "def get_physics(x, y, dydx, modelparams):\n",
    "  \"\"\"Get the the governing equations.\n",
    "  Inputs:\n",
    "    x: (N x K) tensor of (z, [input_variables]) \n",
    "    y: (N x 4) tensor of (p,v,phi_g,m_g) primary conduit variables\n",
    "    dydx: 4 element list of gradients\n",
    "    modelparams: dictionary of model parameters\n",
    "  Returns:\n",
    "    F: (N x M) tensor for the M governing equations for each of the N samples.\n",
    "       Each entry should equal zero if the physics are satisfied.\n",
    "  \n",
    "  See the note at the bottom of this notebook for an explanation.\n",
    "  \"\"\"\n",
    "      \n",
    "  z = x[:,0][:,None] # Enforce Nx1\n",
    "  \n",
    "  conduit_values = [val for val in split_tensor(y)]\n",
    "  conduit_variables = {var : conduit_values[i] for i, var in enumerate(CONDUIT_VAR_NAMES)}\n",
    "  conduit_gradients = {var : {\"z\" : dydx[i][:,0][:,None]} \n",
    "                       for i, var in enumerate(CONDUIT_VAR_NAMES)}\n",
    "  \n",
    "  # Variables are accessible in the conduit_variables dictionary by key equal to their variable name\n",
    "  #    e.g. conduit_variables[\"p\"] is (Nx1) tensor for pressure\n",
    "  # Gradients are accessible in the \"conduit_gradients\" two-level dictionary. First key is variable name;\n",
    "  # second is the variable with respect to which to take the derivative.\n",
    "  #    e.g. conduit_gradients[\"p\"][\"t\"] is (Nx1) tensor for dpdt\n",
    "  # Feel free to rename these variables/use as desired!\n",
    "\n",
    "  ####### YING QI'S CODE HERE #############\n",
    "  F, msl, mh2o, mco2, iplug, mbe, phi, h2o, co2, rho = domegoveqn.ssc(z, conduit_variables, conduit_gradients, modelparams)\n",
    "  \n",
    "  \n",
    "  #########################################\n",
    "  #raise NotImplementedError\n",
    "  \n",
    "  return F\n",
    "\n",
    "def split_tensor(tensor):\n",
    "  \"\"\"Splits NxM tensor into M Nx1 dimensional tensors\"\"\"\n",
    "  vectors = tf.unstack(tensor,axis=1)\n",
    "  for v in vectors:\n",
    "    yield v[:,None]\n",
    "  \n",
    "  \n",
    "def conduit_loss(x, y, dydx, y_true, model_output_gradients, model_params, bc_mask, iteration):\n",
    "  \"\"\"Calculate the loss function\"\"\"\n",
    "  \n",
    "  # Start training by just trying to match the matlab output\n",
    "  if iteration < N_DATA_EPOCHS:    \n",
    "    \n",
    "    loss = tf.reduce_mean(tf.square((normalizer.to_nondim(y) - normalizer.to_nondim(y_true))))\n",
    "    \n",
    "  # After a certain number of steps, switch to a \"physics-informed\" loss\n",
    "  else:\n",
    "    # We can multiply each of the equations by a constant to make sure they are\n",
    "    # weighted equally (i.e. do a simple normalization)\n",
    "    loss_multipliers = tf.constant([1, 1, 1, 1], dtype=tf.float32)\n",
    "    \n",
    "    # F should be (Nx4), for the 4 governing equations\n",
    "    F = get_physics(x, y, dydx, model_params)\n",
    "    \n",
    "    # loss_multipliers will broadcast to multiply F\n",
    "    physics_loss = tf.reduce_mean(tf.square(F*loss_multipliers))\n",
    "    \n",
    "    # Boundary condition loss. We use a binary mask to mask out all contributions\n",
    "    # except for the values that represent the boundary conditions. (Note this\n",
    "    # assumes that the matlab solution [in y_truey] satisfied the BCs.)\n",
    "    bc_loss = tf.reduce_mean(tf.square(y - y_true) * bc_mask)\n",
    "    \n",
    "    loss = physics_loss + bc_loss\n",
    " \n",
    "  return loss\n",
    "      \n",
    "def train(model, dataset):\n",
    "  trainer = get_optimzer()\n",
    "  \n",
    "  assembler = data_assembler_template(input_vars=[\"z\"], input_model_params=[], output_vars=CONDUIT_VAR_NAMES)\n",
    "  \n",
    "  loss_best = 1e6 # arbitrary high number\n",
    "  \n",
    "  lr_counter = 0\n",
    "  \n",
    "\n",
    "  # Iterate over epochs\n",
    "  for i in tqdm.trange(N_EPOCHS, desc=\"Training\"):\n",
    "    \n",
    "    batches = dataset.batch(601)\n",
    "    \n",
    "    # Iterate over training set\n",
    "    for batch in batches:\n",
    "      x, y_true, gradients_true, model_params, bc_mask = assembler(batch)\n",
    "      \n",
    "      with tf.GradientTape(persistent=True) as t:\n",
    "        t.watch(x)\n",
    "\n",
    "        # forward pass of the model\n",
    "        y = model(x)\n",
    "        y = normalizer.to_dim(y) # output of the nn is non-dimensional\n",
    "        \n",
    "        outs = [tensor for tensor in split_tensor(y)]\n",
    "\n",
    "        # get gradients with respect to z\n",
    "        dydx = []\n",
    "        for j in range(len(outs)):\n",
    "          dydx.append(t.gradient(outs[j], x))\n",
    "\n",
    "        # Calculate loss\n",
    "        loss = conduit_loss(x, y, dydx, y_true, gradients_true, model_params, bc_mask, i)\n",
    "\n",
    "      # Reduce the learning rate if we hit a plateau\n",
    "      if loss < 0.9*loss_best:\n",
    "        lr_counter = 0\n",
    "        loss_best = loss\n",
    "      else:\n",
    "        lr_counter += 1\n",
    "\n",
    "      if lr_counter > 1000:\n",
    "        print(\"Reducing learning rate\")\n",
    "        lr_counter = 0\n",
    "        learning_rate = trainer.lr.numpy()*0.5\n",
    "        trainer.lr.assign(learning_rate)\n",
    "\n",
    "      # Get gradients for model\n",
    "      gradients = t.gradient(loss, model.weights)\n",
    "\n",
    "      # Switch to new optimzer when we switch loss functions (see loss definition)\n",
    "      if i == N_DATA_EPOCHS:\n",
    "        trainer = get_optimzer(\"SGD\")\n",
    "\n",
    "      # Apply gradients to model\n",
    "      trainer.apply_gradients(zip(gradients, model.weights))\n",
    "\n",
    "    # Plot every so often\n",
    "    if i % 1000 == 0:\n",
    "      print(f\"Step {i} loss is {loss}\")\n",
    "\n",
    "      plot_batch(x, normalizer.to_nondim(y), normalizer.to_nondim(y_true))\n",
    "\n",
    "    "
   ]
  },
  {
   "cell_type": "code",
   "execution_count": null,
   "id": "3000f588-a626-44cc-8111-80bcf277e893",
   "metadata": {},
   "outputs": [],
   "source": []
  },
  {
   "cell_type": "code",
   "execution_count": 14,
   "id": "changing-museum",
   "metadata": {},
   "outputs": [
    {
     "name": "stderr",
     "output_type": "stream",
     "text": [
      "Training:   0%|          | 0/100000 [00:00<?, ?it/s]"
     ]
    },
    {
     "name": "stdout",
     "output_type": "stream",
     "text": [
      "WARNING:tensorflow:Calling GradientTape.gradient on a persistent tape inside its context is significantly less efficient than calling it outside the context (it causes the gradient ops to be recorded on the tape, leading to increased CPU and memory usage). Only call GradientTape.gradient inside the context if you actually want to trace the gradient in order to compute higher order derivatives.\n",
      "Step 0 loss is 2712.04150390625\n"
     ]
    },
    {
     "data": {
      "image/png": "[encoded data removed]",
      "text/plain": [
       "<Figure size 1080x216 with 4 Axes>"
      ]
     },
     "metadata": {
      "needs_background": "light"
     },
     "output_type": "display_data"
    },
    {
     "name": "stderr",
     "output_type": "stream",
     "text": [
      "Training:   0%|          | 100/100000 [00:03<1:02:39, 26.57it/s]\n"
     ]
    },
    {
     "ename": "KeyError",
     "evalue": "'T'",
     "output_type": "error",
     "traceback": [
      "\u001b[0;31m---------------------------------------------------------------------------\u001b[0m",
      "\u001b[0;31mKeyError\u001b[0m                                  Traceback (most recent call last)",
      "\u001b[0;32m<ipython-input-14-628123e74acc>\u001b[0m in \u001b[0;36m<module>\u001b[0;34m\u001b[0m\n\u001b[1;32m      4\u001b[0m \u001b[0mconduit_nn\u001b[0m \u001b[0;34m=\u001b[0m \u001b[0mPDENeuralNet\u001b[0m\u001b[0;34m(\u001b[0m\u001b[0mN_INPUTS\u001b[0m\u001b[0;34m,\u001b[0m\u001b[0mN_OUTPUTS\u001b[0m\u001b[0;34m)\u001b[0m \u001b[0;31m# First output is pressure, second is u\u001b[0m\u001b[0;34m\u001b[0m\u001b[0;34m\u001b[0m\u001b[0m\n\u001b[1;32m      5\u001b[0m \u001b[0;34m\u001b[0m\u001b[0m\n\u001b[0;32m----> 6\u001b[0;31m \u001b[0mtrain\u001b[0m\u001b[0;34m(\u001b[0m\u001b[0mconduit_nn\u001b[0m\u001b[0;34m,\u001b[0m \u001b[0mdataset\u001b[0m\u001b[0;34m)\u001b[0m\u001b[0;34m\u001b[0m\u001b[0;34m\u001b[0m\u001b[0m\n\u001b[0m",
      "\u001b[0;32m<ipython-input-13-e8218f9aa2eb>\u001b[0m in \u001b[0;36mtrain\u001b[0;34m(model, dataset)\u001b[0m\n\u001b[1;32m    125\u001b[0m \u001b[0;34m\u001b[0m\u001b[0m\n\u001b[1;32m    126\u001b[0m         \u001b[0;31m# Calculate loss\u001b[0m\u001b[0;34m\u001b[0m\u001b[0;34m\u001b[0m\u001b[0;34m\u001b[0m\u001b[0m\n\u001b[0;32m--> 127\u001b[0;31m         \u001b[0mloss\u001b[0m \u001b[0;34m=\u001b[0m \u001b[0mconduit_loss\u001b[0m\u001b[0;34m(\u001b[0m\u001b[0mx\u001b[0m\u001b[0;34m,\u001b[0m \u001b[0my\u001b[0m\u001b[0;34m,\u001b[0m \u001b[0mdydx\u001b[0m\u001b[0;34m,\u001b[0m \u001b[0my_true\u001b[0m\u001b[0;34m,\u001b[0m \u001b[0mgradients_true\u001b[0m\u001b[0;34m,\u001b[0m \u001b[0mmodel_params\u001b[0m\u001b[0;34m,\u001b[0m \u001b[0mbc_mask\u001b[0m\u001b[0;34m,\u001b[0m \u001b[0mi\u001b[0m\u001b[0;34m)\u001b[0m\u001b[0;34m\u001b[0m\u001b[0;34m\u001b[0m\u001b[0m\n\u001b[0m\u001b[1;32m    128\u001b[0m \u001b[0;34m\u001b[0m\u001b[0m\n\u001b[1;32m    129\u001b[0m       \u001b[0;31m# Reduce the learning rate if we hit a plateau\u001b[0m\u001b[0;34m\u001b[0m\u001b[0;34m\u001b[0m\u001b[0;34m\u001b[0m\u001b[0m\n",
      "\u001b[0;32m<ipython-input-13-e8218f9aa2eb>\u001b[0m in \u001b[0;36mconduit_loss\u001b[0;34m(x, y, dydx, y_true, model_output_gradients, model_params, bc_mask, iteration)\u001b[0m\n\u001b[1;32m     77\u001b[0m \u001b[0;34m\u001b[0m\u001b[0m\n\u001b[1;32m     78\u001b[0m     \u001b[0;31m# F should be (Nx4), for the 4 governing equations\u001b[0m\u001b[0;34m\u001b[0m\u001b[0;34m\u001b[0m\u001b[0;34m\u001b[0m\u001b[0m\n\u001b[0;32m---> 79\u001b[0;31m     \u001b[0mF\u001b[0m \u001b[0;34m=\u001b[0m \u001b[0mget_physics\u001b[0m\u001b[0;34m(\u001b[0m\u001b[0mx\u001b[0m\u001b[0;34m,\u001b[0m \u001b[0my\u001b[0m\u001b[0;34m,\u001b[0m \u001b[0mdydx\u001b[0m\u001b[0;34m,\u001b[0m \u001b[0mmodel_params\u001b[0m\u001b[0;34m)\u001b[0m\u001b[0;34m\u001b[0m\u001b[0;34m\u001b[0m\u001b[0m\n\u001b[0m\u001b[1;32m     80\u001b[0m \u001b[0;34m\u001b[0m\u001b[0m\n\u001b[1;32m     81\u001b[0m     \u001b[0;31m# loss_multipliers will broadcast to multiply F\u001b[0m\u001b[0;34m\u001b[0m\u001b[0;34m\u001b[0m\u001b[0;34m\u001b[0m\u001b[0m\n",
      "\u001b[0;32m<ipython-input-13-e8218f9aa2eb>\u001b[0m in \u001b[0;36mget_physics\u001b[0;34m(x, y, dydx, modelparams)\u001b[0m\n\u001b[1;32m     47\u001b[0m \u001b[0;34m\u001b[0m\u001b[0m\n\u001b[1;32m     48\u001b[0m   \u001b[0;31m####### YING QI'S CODE HERE #############\u001b[0m\u001b[0;34m\u001b[0m\u001b[0;34m\u001b[0m\u001b[0;34m\u001b[0m\u001b[0m\n\u001b[0;32m---> 49\u001b[0;31m   \u001b[0mF\u001b[0m\u001b[0;34m,\u001b[0m \u001b[0mmsl\u001b[0m\u001b[0;34m,\u001b[0m \u001b[0mmh2o\u001b[0m\u001b[0;34m,\u001b[0m \u001b[0mmco2\u001b[0m\u001b[0;34m,\u001b[0m \u001b[0miplug\u001b[0m\u001b[0;34m,\u001b[0m \u001b[0mmbe\u001b[0m\u001b[0;34m,\u001b[0m \u001b[0mphi\u001b[0m\u001b[0;34m,\u001b[0m \u001b[0mh2o\u001b[0m\u001b[0;34m,\u001b[0m \u001b[0mco2\u001b[0m\u001b[0;34m,\u001b[0m \u001b[0mrho\u001b[0m \u001b[0;34m=\u001b[0m \u001b[0mdomegoveqn\u001b[0m\u001b[0;34m.\u001b[0m\u001b[0mssc\u001b[0m\u001b[0;34m(\u001b[0m\u001b[0mz\u001b[0m\u001b[0;34m,\u001b[0m \u001b[0mconduit_variables\u001b[0m\u001b[0;34m,\u001b[0m \u001b[0mconduit_gradients\u001b[0m\u001b[0;34m,\u001b[0m \u001b[0mmodelparams\u001b[0m\u001b[0;34m)\u001b[0m\u001b[0;34m\u001b[0m\u001b[0;34m\u001b[0m\u001b[0m\n\u001b[0m\u001b[1;32m     50\u001b[0m \u001b[0;34m\u001b[0m\u001b[0m\n\u001b[1;32m     51\u001b[0m \u001b[0;34m\u001b[0m\u001b[0m\n",
      "\u001b[0;32m~/Documents/Projects/MSHConduit/Code/neural_conduit/domegoveqn.py\u001b[0m in \u001b[0;36mssc\u001b[0;34m(z, var, grad, m)\u001b[0m\n\u001b[1;32m     22\u001b[0m \u001b[0;34m\u001b[0m\u001b[0m\n\u001b[1;32m     23\u001b[0m     \u001b[0;31m# necessary constitutive relations\u001b[0m\u001b[0;34m\u001b[0m\u001b[0;34m\u001b[0m\u001b[0;34m\u001b[0m\u001b[0m\n\u001b[0;32m---> 24\u001b[0;31m     \u001b[0mh2o\u001b[0m\u001b[0;34m,\u001b[0m \u001b[0mco2\u001b[0m\u001b[0;34m,\u001b[0m \u001b[0mc\u001b[0m\u001b[0;34m,\u001b[0m \u001b[0mphi\u001b[0m\u001b[0;34m,\u001b[0m \u001b[0mrho\u001b[0m \u001b[0;34m=\u001b[0m \u001b[0mconstitutive\u001b[0m\u001b[0;34m.\u001b[0m\u001b[0mdensity\u001b[0m\u001b[0;34m(\u001b[0m\u001b[0mvar\u001b[0m\u001b[0;34m[\u001b[0m\u001b[0;34m'p'\u001b[0m\u001b[0;34m]\u001b[0m\u001b[0;34m,\u001b[0m \u001b[0mvar\u001b[0m\u001b[0;34m[\u001b[0m\u001b[0;34m'phi_g'\u001b[0m\u001b[0;34m]\u001b[0m\u001b[0;34m,\u001b[0m \u001b[0mvar\u001b[0m\u001b[0;34m[\u001b[0m\u001b[0;34m'mh'\u001b[0m\u001b[0;34m]\u001b[0m\u001b[0;34m,\u001b[0m \u001b[0mm\u001b[0m\u001b[0;34m)\u001b[0m\u001b[0;34m\u001b[0m\u001b[0;34m\u001b[0m\u001b[0m\n\u001b[0m\u001b[1;32m     25\u001b[0m     \u001b[0mgamma\u001b[0m \u001b[0;34m=\u001b[0m \u001b[0mconstitutive\u001b[0m\u001b[0;34m.\u001b[0m\u001b[0mexsolvedco2h2o\u001b[0m\u001b[0;34m(\u001b[0m\u001b[0mvar\u001b[0m\u001b[0;34m[\u001b[0m\u001b[0;34m'mh'\u001b[0m\u001b[0;34m]\u001b[0m\u001b[0;34m,\u001b[0m\u001b[0mm\u001b[0m\u001b[0;34m)\u001b[0m\u001b[0;34m\u001b[0m\u001b[0;34m\u001b[0m\u001b[0m\n\u001b[1;32m     26\u001b[0m     \u001b[0mdegas\u001b[0m \u001b[0;34m=\u001b[0m \u001b[0;36m1.\u001b[0m\u001b[0;34m\u001b[0m\u001b[0;34m\u001b[0m\u001b[0m\n",
      "\u001b[0;32m~/Documents/Projects/MSHConduit/Code/neural_conduit/constitutive.py\u001b[0m in \u001b[0;36mdensity\u001b[0;34m(p, phi_g, mh, m)\u001b[0m\n\u001b[1;32m     77\u001b[0m \u001b[0;34m\u001b[0m\u001b[0m\n\u001b[1;32m     78\u001b[0m     \u001b[0;31m# get dissolved volatiles\u001b[0m\u001b[0;34m\u001b[0m\u001b[0;34m\u001b[0m\u001b[0;34m\u001b[0m\u001b[0m\n\u001b[0;32m---> 79\u001b[0;31m     \u001b[0mh2o\u001b[0m\u001b[0;34m,\u001b[0m \u001b[0mco2\u001b[0m \u001b[0;34m=\u001b[0m \u001b[0msolubility\u001b[0m\u001b[0;34m(\u001b[0m\u001b[0mp\u001b[0m\u001b[0;34m,\u001b[0m \u001b[0mmh\u001b[0m\u001b[0;34m,\u001b[0m \u001b[0mm\u001b[0m\u001b[0;34m)\u001b[0m\u001b[0;34m\u001b[0m\u001b[0;34m\u001b[0m\u001b[0m\n\u001b[0m\u001b[1;32m     80\u001b[0m \u001b[0;34m\u001b[0m\u001b[0m\n\u001b[1;32m     81\u001b[0m     \u001b[0mc\u001b[0m       \u001b[0;34m=\u001b[0m \u001b[0;34m{\u001b[0m\u001b[0;34m}\u001b[0m\u001b[0;34m\u001b[0m\u001b[0;34m\u001b[0m\u001b[0m\n",
      "\u001b[0;32m~/Documents/Projects/MSHConduit/Code/neural_conduit/constitutive.py\u001b[0m in \u001b[0;36msolubility\u001b[0;34m(p, mh, m)\u001b[0m\n\u001b[1;32m    140\u001b[0m     \u001b[0mp\u001b[0m \u001b[0;34m=\u001b[0m \u001b[0;36m1e-6\u001b[0m\u001b[0;34m*\u001b[0m\u001b[0mp\u001b[0m\u001b[0;34m\u001b[0m\u001b[0;34m\u001b[0m\u001b[0m\n\u001b[1;32m    141\u001b[0m \u001b[0;34m\u001b[0m\u001b[0m\n\u001b[0;32m--> 142\u001b[0;31m     \u001b[0mT\u001b[0m \u001b[0;34m=\u001b[0m \u001b[0mm\u001b[0m\u001b[0;34m[\u001b[0m\u001b[0;34m'T'\u001b[0m\u001b[0;34m]\u001b[0m\u001b[0;34m\u001b[0m\u001b[0;34m\u001b[0m\u001b[0m\n\u001b[0m\u001b[1;32m    143\u001b[0m \u001b[0;34m\u001b[0m\u001b[0m\n\u001b[1;32m    144\u001b[0m     \u001b[0;31m# Precompute for speed.\u001b[0m\u001b[0;34m\u001b[0m\u001b[0;34m\u001b[0m\u001b[0;34m\u001b[0m\u001b[0m\n",
      "\u001b[0;31mKeyError\u001b[0m: 'T'"
     ]
    }
   ],
   "source": [
    "N_EPOCHS=100000\n",
    "N_DATA_EPOCHS=100\n",
    "\n",
    "conduit_nn = PDENeuralNet(N_INPUTS,N_OUTPUTS) # First output is pressure, second is u\n",
    "\n",
    "train(conduit_nn, dataset)"
   ]
  },
  {
   "cell_type": "markdown",
   "id": "tropical-iraqi",
   "metadata": {},
   "source": [
    "# How to add the physics"
   ]
  },
  {
   "cell_type": "markdown",
   "id": "necessary-reaction",
   "metadata": {},
   "source": [
    "As a reminder, the neural network is set up to mimic the function $f(z,t) = [p, v, \\phi_g, m_h](z,t)$, which is a map $\\mathbb{R}^2 \\to \\mathbb{R}^4$.\n",
    "\n",
    "In practice, we train the neural network with a \"batch\" of $(z,t)$ samples. This adds an extra dimension to the tensors being passed in and out of the model, where different elements of a batch are stacked along the first axis. Therefore, during training we expect inputs of size $(N,2)$ (2 because of z and t) and outputs of size $(N,4)$ (4 because of the conduit model outputs), where $N$ is the batch size.\n",
    "\n",
    "## Steady-State Governing Equations\n",
    "\n",
    "We can write the governing equations for the steady-state conduit model in the form (YQ is working on this)\n",
    "\n",
    "$$F(z, [\\nu, \\partial_z \\nu]) = 0$$\n",
    "\n",
    "where $F$ is a matrix of size $(M,1)$ governing equations and $[\\nu, \\partial_z \\nu]$ is a 8-element vector containing the primary conduit variables and their gradients with respect to $z$, e.g. a vector $[p, v, \\phi_g, m_h, \\partial_z p, \\partial_z v, \\partial_z \\phi_g, \\partial_z m_h]$. If we want to write this as a matrix-vector equation, we can express it as \n",
    "\n",
    "$$ F(z, [\\nu, \\partial_z \\nu]) = J(z, \\nu) \\frac{\\partial \\nu}{\\partial z} + Q(z, \\nu, \\partial_z p) = 0, $$\n",
    "\n",
    "where $ J(z, \\nu)$ is a matrix of size $(M,4)$ containing the coefficients for $\\partial_z \\nu$ in the $M$ governing equations. However, one issue is that in the  momentum balance equation, $\\partial_z p$ appears in the sinh function for the frictional velocity and is therefore not linear in $\\partial_z p$, thus  $Q_{mbe}$ does contain the $\\partial_z p$ term. \n",
    "\n",
    "**Q for Ben**: can we just rewrite the equations in the form $F(z, \\nu) = 0$, instead of $J(z, \\nu) \\frac{\\partial \\nu}{\\partial z} + Q(\\nu) = 0$? Since $Q(\\nu)$ is so weird and contains $\\partial_z p$. Seems like the loss only calculates $F$ anyway. Maybe it would help if you just write down what the loss calculation would be?\n",
    "\n",
    "Also, how to implement boundary conditions?\n",
    "\n",
    "**A for YQ**: yes! We can definitely do that. No tensorflow reason to do one or the other -- I just figured you would have written the equations in the $J$, etc. way in your matlab code. I've re-written the loss function to show how that's done.\n",
    "\n",
    "The tensorflow code will produce conduit variables and their associated derivatives of size (N x 1) (where $N$ is the batch size). From these variables it is easy to assemble the vector $\\nu$.\n",
    "\n",
    "**What we still need:** a function that takes in these variables and gradients, and assembles the matrix $J$. \n",
    "\n",
    "Note that because of the batch dimension, $J$ will no longer be of size $(M,12)$, but should be of size $(N,M,12)$. We can then take this tensor and multiply it with $\\nu$ to get the governing equations.\n",
    "\n",
    "\n",
    "\n",
    "\n",
    "## Time-Dependent Governing Equations\n",
    "The time-dependent governing equations can be rewritten as \n",
    "\n",
    "$$H(t, z, [\\nu, \\partial_z \\nu, \\partial_t \\nu]) = 0, $$\n",
    "\n",
    "where $H$ is a matrix of size $(M,1)$ governing equations and $[\\nu, \\partial_z \\nu, \\partial_t \\nu]$ is now a 12-element vector containing the primary conduit variables and their gradients with respect to $z$, e.g. a vector $[p, v, \\phi_g, m_h, \\partial_z p, \\partial_z v, \\partial_z \\phi_g, \\partial_z m_h, \\partial_t p, \\partial_t v, \\partial_t \\phi_g, \\partial_t m_h]$. We can actually reduce this by one because $ \\partial_t v$ does not appear in the governing equations due to low Reynolds number. But wait. Will this result in velocities being constant over time? The assumption here is that $v$ depends on the phase fractions and other properties, not on the inertial term.\n",
    "\n",
    "If we want to write this as a matrix-vector equation, we can express it as \n",
    "\n",
    "$$ H(t, z, [\\nu, \\partial_z \\nu, \\partial_t \\nu]) =  M(t, z, \\nu) \\frac{\\partial \\nu}{\\partial t} -  J(t, z, \\nu) \\frac{\\partial \\nu}{\\partial z} - Q(t, z, \\nu, \\partial_z p) = 0, $$"
   ]
  },
  {
   "cell_type": "markdown",
   "id": "three-cigarette",
   "metadata": {},
   "source": [
    "### Some numpy manipulations to show how to do the math once we have $J$ and $\\nu$"
   ]
  },
  {
   "cell_type": "code",
   "execution_count": 46,
   "id": "crucial-northern",
   "metadata": {},
   "outputs": [],
   "source": [
    "J = np.arange(5*3*4).reshape(5,3,4)\n",
    "nu = np.arange(5*4).reshape(5,4)\n",
    "result = np.zeros((5,3))"
   ]
  },
  {
   "cell_type": "code",
   "execution_count": 57,
   "id": "improving-nevada",
   "metadata": {},
   "outputs": [
    {
     "name": "stdout",
     "output_type": "stream",
     "text": [
      "[[  14.   38.   62.]\n",
      " [ 302.  390.  478.]\n",
      " [ 974. 1126. 1278.]\n",
      " [2030. 2246. 2462.]\n",
      " [3470. 3750. 4030.]]\n"
     ]
    }
   ],
   "source": [
    "for i in range(5):\n",
    "  result[i,:] = J[i,:,:].dot(nu[i,:])\n",
    "print(result)"
   ]
  },
  {
   "cell_type": "code",
   "execution_count": 58,
   "id": "dress-label",
   "metadata": {},
   "outputs": [
    {
     "name": "stdout",
     "output_type": "stream",
     "text": [
      "[[  14   38   62]\n",
      " [ 302  390  478]\n",
      " [ 974 1126 1278]\n",
      " [2030 2246 2462]\n",
      " [3470 3750 4030]]\n"
     ]
    }
   ],
   "source": [
    "# Faster (?) alternative\n",
    "result2 = np.einsum('ijk,ik->ij',J,nu)\n",
    "print(result2)"
   ]
  },
  {
   "cell_type": "code",
   "execution_count": 55,
   "id": "raised-table",
   "metadata": {},
   "outputs": [
    {
     "data": {
      "text/plain": [
       "array([[ True,  True,  True],\n",
       "       [ True,  True,  True],\n",
       "       [ True,  True,  True],\n",
       "       [ True,  True,  True],\n",
       "       [ True,  True,  True]])"
      ]
     },
     "execution_count": 55,
     "metadata": {},
     "output_type": "execute_result"
    }
   ],
   "source": [
    "result == result2"
   ]
  }
 ],
 "metadata": {
  "kernelspec": {
   "display_name": "neural_conduit",
   "language": "python",
   "name": "neural_conduit"
  },
  "language_info": {
   "codemirror_mode": {
    "name": "ipython",
    "version": 3
   },
   "file_extension": ".py",
   "mimetype": "text/x-python",
   "name": "python",
   "nbconvert_exporter": "python",
   "pygments_lexer": "ipython3",
   "version": "3.8.2"
  }
 },
 "nbformat": 4,
 "nbformat_minor": 5
}
