{
 "cells": [
  {
   "cell_type": "markdown",
   "id": "later-going",
   "metadata": {},
   "source": [
    "# TIme depeNdent ConduiT flow neUral netwoRk Emulator (TINCTURE)\n",
    "\n",
    "A collaboration between Ying Qi Wong, PhD and Ben Mullet"
   ]
  },
  {
   "cell_type": "code",
   "execution_count": 1,
   "id": "apart-memorabilia",
   "metadata": {},
   "outputs": [],
   "source": [
    "import hashlib\n",
    "import matplotlib.pyplot as plt\n",
    "import numpy as np\n",
    "import os\n",
    "import pathlib\n",
    "import pickle\n",
    "import tqdm\n",
    "import json\n",
    "import uuid\n",
    "\n",
    "import tensorflow as tf\n",
    "from tensorflow import keras\n",
    "from tensorflow.keras.layers import Dense\n",
    "\n",
    "import matlab.engine\n",
    "\n",
    "import domegoveqn\n",
    "import constitutive\n",
    "import utils"
   ]
  },
  {
   "cell_type": "code",
   "execution_count": 2,
   "id": "alleged-jason",
   "metadata": {},
   "outputs": [],
   "source": [
    "%load_ext autoreload\n",
    "%autoreload 2"
   ]
  },
  {
   "cell_type": "markdown",
   "id": "representative-israeli",
   "metadata": {},
   "source": [
    "## Gather training data\n",
    "\n",
    "(This section is adapted from YQ's notebook \"RunModel\")"
   ]
  },
  {
   "cell_type": "code",
   "execution_count": 3,
   "id": "falling-certificate",
   "metadata": {},
   "outputs": [],
   "source": [
    "eng = matlab.engine.start_matlab()\n",
    "\n",
    "path_to_domeconduit_code = \"/home/bmullet/Research/software/domeconduit/Code/\"  # on Ben's machine\n",
    "path_to_domeconduit_code = \"../domeconduit/Code/\"  # on YQ's machine\n",
    "\n",
    "eng.addpath (eng.genpath(path_to_domeconduit_code), nargout= 0 )"
   ]
  },
  {
   "cell_type": "code",
   "execution_count": null,
   "id": "thermal-component",
   "metadata": {},
   "outputs": [],
   "source": []
  },
  {
   "cell_type": "markdown",
   "id": "smoking-acquisition",
   "metadata": {},
   "source": [
    "### Run time-dependent conduit model by calling matlab functions \n",
    "\n",
    "First start matlab and add paths for model functions\n"
   ]
  },
  {
   "cell_type": "markdown",
   "id": "cubic-polls",
   "metadata": {},
   "source": [
    "#### Run the full time-dependent model using default parameters"
   ]
  },
  {
   "cell_type": "code",
   "execution_count": 4,
   "id": "opening-positive",
   "metadata": {},
   "outputs": [],
   "source": [
    "def n_by_1(array):\n",
    "  \"\"\"Transform array to Nx1\"\"\"\n",
    "  array = np.array(array)\n",
    "  \n",
    "  assert len(array.shape) <= 2, \"Array dim should be <= 2\"\n",
    "  \n",
    "  if len(array.shape) < 2:\n",
    "    array = array[:,np.newaxis]\n",
    "  \n",
    "  L, W = array.shape\n",
    "  if L < W:\n",
    "    array = array.T\n",
    "    \n",
    "  return array\n",
    "\n"
   ]
  },
  {
   "cell_type": "code",
   "execution_count": 5,
   "id": "pharmaceutical-midwest",
   "metadata": {},
   "outputs": [],
   "source": [
    "#TODO: Collect relevant pieces into a class that keeps list of inputs/outputs neat and clean\n",
    "\n",
    "# Global constants\n",
    "CONDUIT_VAR_NAMES = [\"p\", \"v\", \"phi_g\", \"mh\"] # TODO: change to mh\n",
    "DEFAULT_PARAMS = eng.tdcFV('setdef', nargout=1)\n",
    "DEFAULT_PARAMS['phi_gc'] = 0\n",
    "MODEL_PARAM_VARIABLES = DEFAULT_PARAMS.keys()\n",
    "DATA_CACHE_DIR = \"./data_cache\"\n",
    "\n",
    "# Make sure the cache directory exists\n",
    "pathlib.Path(DATA_CACHE_DIR).mkdir(parents=False, exist_ok=True)\n",
    "\n",
    "def check_model_params(params):\n",
    "  \"\"\"\n",
    "  Makes sure an object is a valid params dict\n",
    "  \"\"\"\n",
    "  assert DEFAULT_PARAMS.keys() == params.keys(), \"model params dict is not valid\"\n",
    "\n",
    "class matlab_conduit_data_loader():\n",
    "  \n",
    "  # Default parameter\n",
    "  Nz = 401\n",
    "    \n",
    "  def __init__(self,\n",
    "               model_params=DEFAULT_PARAMS,\n",
    "               use_cache=True\n",
    "               ):\n",
    "    \n",
    "    check_model_params(model_params)\n",
    "    \n",
    "    self.model_params = model_params\n",
    "    \n",
    "    # Make a file name from hasing the input dictionary\n",
    "    hash_code = hashlib.sha1(json.dumps(self.model_params, sort_keys=True).encode()).hexdigest()\n",
    "    self.file_name = os.path.join(DATA_CACHE_DIR, hash_code)\n",
    "    \n",
    "    # Load data\n",
    "    loaded_data = False\n",
    "    if pathlib.Path(self.file_name).is_file() and use_cache:\n",
    "      # We've already computed this and cached the values, so load the cached data\n",
    "      try:\n",
    "        with open(self.file_name, \"rb\") as f:\n",
    "          saved_data = pickle.load(f)\n",
    "          self.ss     = saved_data['ss']\n",
    "          self.opts   = saved_data['opts']\n",
    "          self.ssflag = saved_data['ss_flag']\n",
    "        loaded_data = True\n",
    "      except Exception as e:\n",
    "        print(\"Caught Exception:\", e)\n",
    "        print(\"Cannot load data. Will generate it from scratch.\")\n",
    "        \n",
    "    if not loaded_data:\n",
    "      \n",
    "      # Compute data\n",
    "      #model_params['Nz'] = matlab_conduit_data_loader.Nz\n",
    "      \n",
    "      # run steady-state model - YQ I tried doing this but it couldn't work for some reason.\n",
    "      #model_params  = eng.tdcFV('ss_init', model_params, nargout=1)\n",
    "      #model_params['Nz'] = matlab_conduit_data_loader.Nz\n",
    "      #ss, opts, ssflag = eng.tdcFV('run_ssc_opts', model_params, nargout=3)\n",
    "      \n",
    "      #self.ss     = ss\n",
    "      #self.opts   = opts\n",
    "      #self.ssflag = ssflag\n",
    "      \n",
    "      ss, opts, ssflag = eng.tdcFV('run_ssc', model_params, nargout=3)\n",
    "      self.ss     = ss\n",
    "      self.opts   = constitutive.reformat_params(ss['m'])\n",
    "      self.ssflag = ssflag\n",
    "      \n",
    "      # Cache data\n",
    "      if use_cache:\n",
    "        with open(self.file_name, \"wb\") as f:\n",
    "          data_to_save = {\"ss\" : self.ss, \"opts\" : self.opts, \n",
    "                          \"ss_flag\": self.ssflag}\n",
    "          pickle.dump(data_to_save, f)\n",
    "  \n",
    "  def get_transformed_data(self):\n",
    "    return conduit_data_transformer(self)\n",
    "          \n",
    "\n",
    "class conduit_data_transformer():\n",
    "  # Transform matlab conduit data into python and TF objects\n",
    "  \n",
    " \n",
    "  def __init__(self, ml_conduit_data):\n",
    "    \n",
    "    # Extract the variables and gradients\n",
    "    self.vars, self.grads = utils.get_steady_state_vars_and_grads(ml_conduit_data.ss)\n",
    "    \n",
    "    self.opts = ml_conduit_data.opts\n",
    "  \n",
    "  def create_tf_dataset(self):\n",
    "    \n",
    "    # create a dict to store the data\n",
    "    tf_dict = {}\n",
    "    \n",
    "    # adds z, p, phi_g, v, m_w\n",
    "    tf_dict.update({key : np.squeeze(var).astype(np.float32) for key, var in self.vars.items()})\n",
    "    \n",
    "    # adds gradients as nested dictionaries\n",
    "    tf_dict[\"gradients\"] = {key : np.squeeze(grad).astype(np.float32) for key, grad in self.grads.items()}\n",
    "    \n",
    "    # adds model parameters.\n",
    "    uid = str(uuid.uuid4())\n",
    "    tf_dict[\"uuid\"] = uid\n",
    "    opts = { uid : self.opts }\n",
    "    \n",
    "    # Get boundary conditions\n",
    "    bottom_idx = np.argmin(tf_dict[\"z\"])\n",
    "    top_idx = np.argmax(tf_dict[\"z\"])\n",
    "    \n",
    "    # Conduit bottom boundary conditions are set on p, phi_g, and m_h (not v)\n",
    "    bottom_bcs = [\"p\", \"phi_g\", \"mh\"]\n",
    "    \n",
    "    # Conduit top boundary conditions are only set on p\n",
    "    top_bcs = [\"p\"]\n",
    "\n",
    "    # Creates a mask for those entries which are also boundary conditions\n",
    "    conduit_bcs = {}\n",
    "    for var in CONDUIT_VAR_NAMES:\n",
    "      conduit_bcs[var] = np.zeros_like(tf_dict[\"z\"]).astype(np.float32)\n",
    "      if var in bottom_bcs:\n",
    "        conduit_bcs[var][bottom_idx] = 1.0\n",
    "      if var in top_bcs:\n",
    "        conduit_bcs[var][top_idx] = 1.0\n",
    "    \n",
    "    tf_dict.update({\"boundary_conditions\" : conduit_bcs})\n",
    "    \n",
    "    # Create tf dataset\n",
    "    dataset = tf.data.Dataset.from_tensors(tf_dict)\n",
    "    \n",
    "    return dataset, opts\n",
    "  \n",
    "def data_assembler_template(opts, input_vars=[\"z\"], input_model_params=[], output_vars=CONDUIT_VAR_NAMES):\n",
    "  \"\"\"\n",
    "  Creates a convenience function for splitting the dataset\n",
    "  Inputs:\n",
    "    opts: dictionary of opts from different models\n",
    "    input_vars: list of primary vars (z, phi_g, mh, p, v) to include in input to model\n",
    "    input_model_params: list of model params to include in input to model\n",
    "    output_vars: list of primary vars (z, phi_g, mh, p, v) to predict with model\n",
    "    \n",
    "  Output:\n",
    "    data_assembler function\n",
    "  \"\"\"\n",
    "  \n",
    "  assert input_vars[0] == \"z\", \"First input variable needs to be z\"\n",
    "  \n",
    "  def data_assembler(dataset):\n",
    "    \"\"\"Convenience function for splitting up a tf.dataset\n",
    "    Inputs:\n",
    "      dataset: tf.dataset of the form created by conduit_data_transformer\n",
    "    Outputs:\n",
    "      model_input: tensor that matches input_vars\n",
    "      model_output: tensor that matches output_vars\n",
    "      model_output_gradients: d()/dz gradients for output_vars\n",
    "      model_params: dict of model_params tensors\n",
    "      boundary_conditions: boundary conditions tensor mask\n",
    "    \"\"\"\n",
    "    \n",
    "    assert len(batch[\"uuid\"]) == 1, \"Data assembler is only set up for batch size of 1\"\n",
    "    \n",
    "    uid = batch[\"uuid\"].numpy()[0].decode('utf-8')\n",
    "    \n",
    "    # Load the opts associated with this batch\n",
    "    batch_opts = opts[uid]\n",
    "    \n",
    "    # Create the input tensor\n",
    "    model_input = tf.stack([tf.squeeze(dataset[var]) for var in input_vars], axis=1)\n",
    "    \n",
    "    # Add model parameters if we want to use those to train the model\n",
    "    if len(input_model_params) > 0:\n",
    "      dummy_tensor = tf.ones([model_input.shape[0]], dtype=tf.float32)\n",
    "      model_input_model_params = tf.stack([dummy_tensor*batch_opts[var] for var in input_model_params], axis=1)\n",
    "      \n",
    "      model_input = tf.concat([model_input, model_input_model_params], axis=1)\n",
    "    \n",
    "    # Create the output tensor\n",
    "    model_output = tf.stack([tf.squeeze(dataset[var]) for var in output_vars], axis=1)\n",
    "\n",
    "    # Gradients. Again we need to squeeze and reshape to make sure we have Nx1 vectors\n",
    "    model_output_gradients = {key : tf.squeeze(grad)[:,None] for key, grad in dataset[\"gradients\"].items()}\n",
    "    \n",
    "    # Boundary conditions\n",
    "    boundary_conditions = tf.stack([tf.squeeze(dataset[\"boundary_conditions\"][var]) for var in output_vars], axis=1)\n",
    "    \n",
    "    return model_input, model_output, model_output_gradients, boundary_conditions, batch_opts\n",
    "  \n",
    "  return data_assembler\n",
    "\n",
    "def plot_batch(model_input, model_output_true, model_output_pred=None):\n",
    "    \"\"\"Plot some output, given in_array and out_array\"\"\"\n",
    "    \n",
    "    # Cast to numpy\n",
    "    if isinstance(model_input, tf.Tensor):\n",
    "      model_input = model_input.numpy()\n",
    "    if isinstance(model_output_true, tf.Tensor):\n",
    "      model_output_true = model_output_true.numpy()\n",
    "    if isinstance(model_output_pred, tf.Tensor):\n",
    "      model_output_pred = model_output_pred.numpy()\n",
    "      \n",
    "    z = model_input[:,0]\n",
    "    \n",
    "    plt.figure(figsize=(15, 3))\n",
    "    nsub = len(CONDUIT_VAR_NAMES)\n",
    "    \n",
    "    for i, var_name in enumerate(CONDUIT_VAR_NAMES):\n",
    "      arrayi = model_output_true[:,i]\n",
    "    \n",
    "      plt.subplot(1, nsub, i+1)\n",
    "      lines = plt.plot(arrayi, z)\n",
    "\n",
    "      if model_output_pred is not None:\n",
    "        arrayi2 = model_output_pred[:,i]\n",
    "        plt.plot(arrayi2, z, \"--r\")\n",
    "        \n",
    "      plt.xlabel(var_name)\n",
    "      plt.ylabel(\"z\")\n",
    "      \n",
    "    plt.tight_layout()\n",
    "    plt.show()\n",
    "\n",
    "class data_transformer():\n",
    "\n",
    "  def __init__(self, variable_bounds):\n",
    "    \"\"\"\n",
    "    Create functions to normalize (and undimensionalize) and unnormalize our data\n",
    "    Input:\n",
    "      variable_bounds: dict of maxes and mins for normalizing\n",
    "    Output:\n",
    "      to_nondim: function for nondimensionalizing data\n",
    "      to_dim: function for dimensionalizing data\n",
    "    \"\"\"\n",
    "\n",
    "    mins  = tf.constant([variable_bounds[var][\"min\"] for var in CONDUIT_VAR_NAMES], dtype=tf.float32)\n",
    "    maxes = tf.constant([variable_bounds[var][\"max\"] for var in CONDUIT_VAR_NAMES], dtype=tf.float32)\n",
    "\n",
    "    def to_nondim(dimensional_tensor):\n",
    "      return (dimensional_tensor - mins)/(maxes - mins)\n",
    "\n",
    "    def to_dim(nondimensional_tensor):\n",
    "      return (nondimensional_tensor*(maxes-mins) + mins)\n",
    "    \n",
    "    self.to_nondim = to_nondim\n",
    "    self.to_dim = to_dim\n",
    "    "
   ]
  },
  {
   "cell_type": "code",
   "execution_count": 6,
   "id": "selective-clear",
   "metadata": {},
   "outputs": [
    {
     "name": "stdout",
     "output_type": "stream",
     "text": [
      "['p', 'v', 'phi_g', 'mh']\n",
      "[[1.00000000e-01]\n",
      " [2.40397045e+01]\n",
      " [4.32804962e+01]\n",
      " [4.41075121e+01]\n",
      " [4.58993797e+01]\n",
      " [4.82425913e+01]\n",
      " [4.98966230e+01]\n",
      " [5.18263267e+01]\n",
      " [5.58235700e+01]\n",
      " [6.46450724e+01]\n",
      " [7.70503101e+01]\n",
      " [1.07649897e+02]\n",
      " [1.68297726e+02]\n",
      " [2.00000000e+02]]\n"
     ]
    }
   ],
   "source": [
    "print(CONDUIT_VAR_NAMES)\n",
    "\n",
    "c = matlab_conduit_data_loader(use_cache=False)\n",
    "print(c.opts[\"pf\"]['breaks'])\n",
    "d = c.get_transformed_data()"
   ]
  },
  {
   "cell_type": "code",
   "execution_count": 7,
   "id": "every-disability",
   "metadata": {},
   "outputs": [],
   "source": [
    "mins_and_maxes = {}\n",
    "for var in CONDUIT_VAR_NAMES:\n",
    "  mins_and_maxes[var] = {\n",
    "    \"min\" : np.min(d.vars[var]),\n",
    "    \"max\" : np.max(d.vars[var])}\n",
    "  \n",
    "normalizer = data_transformer(mins_and_maxes)"
   ]
  },
  {
   "cell_type": "code",
   "execution_count": 8,
   "id": "handy-london",
   "metadata": {},
   "outputs": [
    {
     "name": "stdout",
     "output_type": "stream",
     "text": [
      "dict_keys(['p', 'v', 'phi_g', 'mh', 'z', 'gradients', 'uuid', 'boundary_conditions'])\n",
      "TensorSpec(shape=(), dtype=tf.string, name=None)\n",
      "dict_keys(['2ad49285-f467-4e79-aaf0-e9cf1642013a'])\n",
      "dict_keys(['ys', 'fr', 'slv', 'p_top', 'ch', 'R', 'g', 'conduit_length', 'Ti', 'T', 'rho_l', 'rho_hd', 'rho_cd', 'rho_s', 'rho_c', 'Rw', 'Rc', 'B', 'sig', 'expn', 'eta', 'k_lat_model', 'plug_gas_loss', 'k_lat', 'eta_g', 'use_phi_s_ratio', 'phydro', 'L_diff', 'phi_gc', 'klw', 'use_k_vert', 'model', 'newtonian', 'p_ch', 'v_ch_guess', 'mw_ch', 'phi_g_ch', 'blk', 'Nz', 'sy', 'syp', 'sF', 'pf', 'chi_ch', 'kc', 'vi'])\n"
     ]
    }
   ],
   "source": [
    "dataset, opts = d.create_tf_dataset()\n",
    "\n",
    "# Shows what one element of the dataset looks like\n",
    "print(dataset.element_spec.keys())\n",
    "print(dataset.element_spec[\"uuid\"])\n",
    "print(opts.keys())\n",
    "print(list(opts.values())[0].keys())"
   ]
  },
  {
   "cell_type": "code",
   "execution_count": 9,
   "id": "bridal-subcommittee",
   "metadata": {},
   "outputs": [
    {
     "data": {
      "image/png": "[encoded data removed]",
      "text/plain": [
       "<Figure size 1080x216 with 4 Axes>"
      ]
     },
     "metadata": {
      "needs_background": "light"
     },
     "output_type": "display_data"
    }
   ],
   "source": [
    "assembler = data_assembler_template(opts=opts, input_vars=[\"z\"], input_model_params=[], output_vars=CONDUIT_VAR_NAMES)\n",
    "batcher = dataset.batch(1)\n",
    "\n",
    "for batch in batcher:\n",
    "  model_input, model_output, model_output_gradients, boundary_conditions, batch_opts = assembler(batch)\n",
    "  plot_batch(model_input, model_output, model_output)\n",
    "  \n",
    "  break"
   ]
  },
  {
   "cell_type": "code",
   "execution_count": 10,
   "id": "american-bargain",
   "metadata": {},
   "outputs": [
    {
     "name": "stdout",
     "output_type": "stream",
     "text": [
      "(601, 1)\n",
      "(601, 4)\n",
      "['p : (601, 1)', 'v : (601, 1)', 'phi_g : (601, 1)', 'mh : (601, 1)']\n",
      "(601, 4)\n"
     ]
    }
   ],
   "source": [
    "print(model_input.shape)\n",
    "print(model_output.shape)\n",
    "print([f\"{name} : {grad.shape}\" for name, grad in model_output_gradients.items()])\n",
    "print(boundary_conditions.shape)"
   ]
  },
  {
   "cell_type": "markdown",
   "id": "regulation-charter",
   "metadata": {},
   "source": [
    "### Set up model"
   ]
  },
  {
   "cell_type": "code",
   "execution_count": 11,
   "id": "contrary-reggae",
   "metadata": {},
   "outputs": [],
   "source": [
    "# Neural network model\n",
    "\n",
    "class PDENeuralNet(tf.keras.Model):\n",
    "  def __init__(self, n_inputs, n_outputs):\n",
    "    super().__init__()\n",
    "    \n",
    "    self.n_inputs = n_inputs\n",
    "    self.n_outputs = n_outputs\n",
    "  \n",
    "    self.nn_model = tf.keras.Sequential([\n",
    "      Dense(100, activation=tf.nn.elu),\n",
    "      Dense(100, activation=tf.nn.elu),\n",
    "      Dense(40, activation=tf.nn.elu),\n",
    "      Dense(30, activation=tf.nn.elu),\n",
    "      Dense(10, activation=tf.nn.elu),\n",
    "      Dense(self.n_outputs, activation=None), # No activation last layer matches PINN paper\n",
    "    ])\n",
    "\n",
    "    self(tf.zeros([1, self.n_inputs]))  # dummy call to build the model\n",
    "\n",
    "  @tf.function\n",
    "  def call(self, x):\n",
    "    z = self.nn_model(x)\n",
    "    return z"
   ]
  },
  {
   "cell_type": "code",
   "execution_count": 12,
   "id": "changing-supply",
   "metadata": {},
   "outputs": [],
   "source": [
    "# Neural network parameters\n",
    "N_INPUTS = 1\n",
    "N_OUTPUTS = 4\n"
   ]
  },
  {
   "cell_type": "code",
   "execution_count": 13,
   "id": "eligible-failing",
   "metadata": {},
   "outputs": [],
   "source": [
    "OUTPUT_SCALING = tf.constant([1e7, 1e-3, 1/3, 0.95], dtype=tf.float32) # A dumb normalization for scaling the loss\n",
    "\n",
    "def get_optimzer(type=\"Adam\", lr=2e-3):\n",
    "  \"\"\"Sets up NN model optimizer\"\"\"\n",
    "  if type==\"Adam\":\n",
    "    trainer = tf.keras.optimizers.Adam(learning_rate = lr)\n",
    "  else:\n",
    "    trainer = tf.keras.optimizers.SGD(learning_rate = lr)\n",
    "  return trainer\n",
    "\n",
    "trainer = get_optimzer()\n",
    "\n",
    "def get_conduit_vals(p, u, A):\n",
    "  \n",
    "  raise NotImplementedError\n",
    "\n",
    "  return \n",
    "\n",
    "\n",
    "def get_physics(x, y, dydx, batch_opts):\n",
    "  \"\"\"Get the the governing equations.\n",
    "  Inputs:\n",
    "    x: (N x K) tensor of (z, [input_variables]) \n",
    "    y: (N x 4) tensor of (p,v,phi_g,m_g) primary conduit variables\n",
    "    dydx: 4 element list of gradients\n",
    "    batch_opts: dictionary of model parameters\n",
    "  Returns:\n",
    "    F: (N x M) tensor for the M governing equations for each of the N samples.\n",
    "       Each entry should equal zero if the physics are satisfied.\n",
    "  \n",
    "  See the note at the bottom of this notebook for an explanation.\n",
    "  \"\"\"\n",
    "      \n",
    "  z = x[:,0][:,None] # Enforce Nx1\n",
    "  \n",
    "  conduit_values = [val for val in split_tensor(y)]\n",
    "  conduit_variables = {var : conduit_values[i] for i, var in enumerate(CONDUIT_VAR_NAMES)}\n",
    "  conduit_gradients = {var : {\"z\" : dydx[i][:,0][:,None]} \n",
    "                       for i, var in enumerate(CONDUIT_VAR_NAMES)}\n",
    "  \n",
    "  # Variables are accessible in the conduit_variables dictionary by key equal to their variable name\n",
    "  #    e.g. conduit_variables[\"p\"] is (Nx1) tensor for pressure\n",
    "  # Gradients are accessible in the \"conduit_gradients\" two-level dictionary. First key is variable name;\n",
    "  # second is the variable with respect to which to take the derivative.\n",
    "  #    e.g. conduit_gradients[\"p\"][\"t\"] is (Nx1) tensor for dpdt\n",
    "  # Feel free to rename these variables/use as desired!\n",
    "\n",
    "  ####### YING QI'S CODE HERE #############\n",
    "  F = domegoveqn.ssc(z, conduit_variables, conduit_gradients, batch_opts)\n",
    "  \n",
    "  \n",
    "  #########################################\n",
    "  #raise NotImplementedError\n",
    "  \n",
    "  return F\n",
    "\n",
    "def split_tensor(tensor):\n",
    "  \"\"\"Splits NxM tensor into M Nx1 dimensional tensors\"\"\"\n",
    "  vectors = tf.unstack(tensor,axis=1)\n",
    "  for v in vectors:\n",
    "    yield v[:,None]\n",
    "  \n",
    "  \n",
    "def conduit_loss(x, y, dydx, y_true, model_output_gradients, bc_mask, batch_opts, iteration):\n",
    "  \"\"\"Calculate the loss function\"\"\"\n",
    "  \n",
    "  # Start training by just trying to match the matlab output\n",
    "  if iteration < N_DATA_EPOCHS:    \n",
    "    \n",
    "    loss = tf.reduce_mean(tf.square((normalizer.to_nondim(y) - normalizer.to_nondim(y_true))))\n",
    "    \n",
    "  # After a certain number of steps, switch to a \"physics-informed\" loss\n",
    "  else:\n",
    "    # We can multiply each of the equations by a constant to make sure they are\n",
    "    # weighted equally (i.e. do a simple normalization)\n",
    "    loss_multipliers = tf.constant([1, 1, 1, 1], dtype=tf.float32)\n",
    "    \n",
    "    # F should be (Nx4), for the 4 governing equations\n",
    "    F = get_physics(x, y, dydx, batch_opts)\n",
    "    \n",
    "    # loss_multipliers will broadcast to multiply F\n",
    "    physics_loss = tf.reduce_mean(tf.square(F*loss_multipliers))\n",
    "    \n",
    "    # Boundary condition loss. We use a binary mask to mask out all contributions\n",
    "    # except for the values that represent the boundary conditions. (Note this\n",
    "    # assumes that the matlab solution [in y_truey] satisfied the BCs.)\n",
    "    bc_loss = tf.reduce_mean(tf.square(y - y_true) * bc_mask)\n",
    "    \n",
    "    loss = physics_loss + bc_loss\n",
    " \n",
    "  return loss\n",
    "      \n",
    "def train(model, dataset):\n",
    "  trainer = get_optimzer()\n",
    "  \n",
    "  assembler = data_assembler_template(opts, input_vars=[\"z\"], input_model_params=[], output_vars=CONDUIT_VAR_NAMES)\n",
    "  \n",
    "  loss_best = 1e6 # arbitrary high number\n",
    "  \n",
    "  lr_counter = 0\n",
    "  \n",
    "\n",
    "  # Iterate over epochs\n",
    "  for i in tqdm.trange(N_EPOCHS, desc=\"Training\"):\n",
    "    \n",
    "    batches = dataset.batch(601)\n",
    "    \n",
    "    # Iterate over training set\n",
    "    for batch in batches:\n",
    "      x, y_true, gradients_true, bc_mask, batch_opts = assembler(batch)\n",
    "      \n",
    "      with tf.GradientTape(persistent=True) as t:\n",
    "        t.watch(x)\n",
    "\n",
    "        # forward pass of the model\n",
    "        y = model(x)\n",
    "        y = normalizer.to_dim(y) # output of the nn is non-dimensional\n",
    "        \n",
    "        outs = [tensor for tensor in split_tensor(y)]\n",
    "\n",
    "        # get gradients with respect to z\n",
    "        dydx = []\n",
    "        for j in range(len(outs)):\n",
    "          dydx.append(t.gradient(outs[j], x))\n",
    "\n",
    "        # Calculate loss\n",
    "        loss = conduit_loss(x, y, dydx, y_true, gradients_true, bc_mask, batch_opts, i)\n",
    "\n",
    "      # Reduce the learning rate if we hit a plateau\n",
    "      if loss < 0.9*loss_best:\n",
    "        lr_counter = 0\n",
    "        loss_best = loss\n",
    "      else:\n",
    "        lr_counter += 1\n",
    "\n",
    "      if lr_counter > 1000:\n",
    "        print(\"Reducing learning rate\")\n",
    "        lr_counter = 0\n",
    "        learning_rate = trainer.lr.numpy()*0.5\n",
    "        trainer.lr.assign(learning_rate)\n",
    "\n",
    "      # Get gradients for model\n",
    "      gradients = t.gradient(loss, model.weights)\n",
    "\n",
    "      # Switch to new optimzer when we switch loss functions (see loss definition)\n",
    "      if i == N_DATA_EPOCHS:\n",
    "        trainer = get_optimzer(\"SGD\")\n",
    "\n",
    "      # Apply gradients to model\n",
    "      trainer.apply_gradients(zip(gradients, model.weights))\n",
    "\n",
    "    # Plot every so often\n",
    "    if i % 1000 == 0:\n",
    "      print(f\"Step {i} loss is {loss}\")\n",
    "\n",
    "      plot_batch(x, normalizer.to_nondim(y), normalizer.to_nondim(y_true))\n",
    "\n",
    "    "
   ]
  },
  {
   "cell_type": "code",
   "execution_count": null,
   "id": "administrative-fusion",
   "metadata": {},
   "outputs": [],
   "source": []
  },
  {
   "cell_type": "code",
   "execution_count": 14,
   "id": "d3b924fc-582f-4b9b-9e10-9ac4d52e87f3",
   "metadata": {},
   "outputs": [
    {
     "name": "stderr",
     "output_type": "stream",
     "text": [
      "Training:   0%|          | 0/100000 [00:00<?, ?it/s]"
     ]
    },
    {
     "name": "stdout",
     "output_type": "stream",
     "text": [
      "WARNING:tensorflow:Calling GradientTape.gradient on a persistent tape inside its context is significantly less efficient than calling it outside the context (it causes the gradient ops to be recorded on the tape, leading to increased CPU and memory usage). Only call GradientTape.gradient inside the context if you actually want to trace the gradient in order to compute higher order derivatives.\n",
      "Step 0 loss is 2522.12646484375\n"
     ]
    },
    {
     "data": {
      "image/png": "[encoded data removed]",
      "text/plain": [
       "<Figure size 1080x216 with 4 Axes>"
      ]
     },
     "metadata": {
      "needs_background": "light"
     },
     "output_type": "display_data"
    },
    {
     "name": "stderr",
     "output_type": "stream",
     "text": [
      "Training:   0%|          | 100/100000 [00:02<27:54, 59.66it/s] /Users/ying-qiwong/Documents/Projects/MSHConduit/Code/neural_conduit/constitutive.py:152: RuntimeWarning: invalid value encountered in sqrt\n",
      "  sqrtPh  = np.sqrt(Ph)\n",
      "/Users/ying-qiwong/Documents/Projects/MSHConduit/Code/neural_conduit/constitutive.py:401: RuntimeWarning: divide by zero encountered in true_divide\n",
      "  kwall = m['klw']['top'] / np.power(1e-3*(-z),m['klw']['mi'])\n",
      "Training:   1%|          | 1000/100000 [00:50<1:27:51, 18.78it/s]"
     ]
    },
    {
     "name": "stdout",
     "output_type": "stream",
     "text": [
      "Step 1000 loss is nan\n"
     ]
    },
    {
     "data": {
      "image/png": "[encoded data removed]",
      "text/plain": [
       "<Figure size 1080x216 with 4 Axes>"
      ]
     },
     "metadata": {
      "needs_background": "light"
     },
     "output_type": "display_data"
    },
    {
     "name": "stderr",
     "output_type": "stream",
     "text": [
      "/Users/ying-qiwong/Documents/Projects/MSHConduit/Code/neural_conduit/constitutive.py:401: RuntimeWarning: divide by zero encountered in true_divide\n",
      "  kwall = m['klw']['top'] / np.power(1e-3*(-z),m['klw']['mi'])\n",
      "Training:   1%|          | 1080/100000 [00:55<1:28:51, 18.55it/s]"
     ]
    },
    {
     "name": "stdout",
     "output_type": "stream",
     "text": [
      "Reducing learning rate\n"
     ]
    },
    {
     "name": "stderr",
     "output_type": "stream",
     "text": [
      "Training:   1%|▏         | 1315/100000 [01:07<1:24:42, 19.42it/s]\n"
     ]
    },
    {
     "ename": "KeyboardInterrupt",
     "evalue": "",
     "output_type": "error",
     "traceback": [
      "\u001b[0;31m---------------------------------------------------------------------------\u001b[0m",
      "\u001b[0;31mKeyboardInterrupt\u001b[0m                         Traceback (most recent call last)",
      "\u001b[0;32m<ipython-input-14-628123e74acc>\u001b[0m in \u001b[0;36m<module>\u001b[0;34m\u001b[0m\n\u001b[1;32m      4\u001b[0m \u001b[0mconduit_nn\u001b[0m \u001b[0;34m=\u001b[0m \u001b[0mPDENeuralNet\u001b[0m\u001b[0;34m(\u001b[0m\u001b[0mN_INPUTS\u001b[0m\u001b[0;34m,\u001b[0m\u001b[0mN_OUTPUTS\u001b[0m\u001b[0;34m)\u001b[0m \u001b[0;31m# First output is pressure, second is u\u001b[0m\u001b[0;34m\u001b[0m\u001b[0;34m\u001b[0m\u001b[0m\n\u001b[1;32m      5\u001b[0m \u001b[0;34m\u001b[0m\u001b[0m\n\u001b[0;32m----> 6\u001b[0;31m \u001b[0mtrain\u001b[0m\u001b[0;34m(\u001b[0m\u001b[0mconduit_nn\u001b[0m\u001b[0;34m,\u001b[0m \u001b[0mdataset\u001b[0m\u001b[0;34m)\u001b[0m\u001b[0;34m\u001b[0m\u001b[0;34m\u001b[0m\u001b[0m\n\u001b[0m",
      "\u001b[0;32m<ipython-input-13-2d74604614f7>\u001b[0m in \u001b[0;36mtrain\u001b[0;34m(model, dataset)\u001b[0m\n\u001b[1;32m    125\u001b[0m \u001b[0;34m\u001b[0m\u001b[0m\n\u001b[1;32m    126\u001b[0m         \u001b[0;31m# Calculate loss\u001b[0m\u001b[0;34m\u001b[0m\u001b[0;34m\u001b[0m\u001b[0;34m\u001b[0m\u001b[0m\n\u001b[0;32m--> 127\u001b[0;31m         \u001b[0mloss\u001b[0m \u001b[0;34m=\u001b[0m \u001b[0mconduit_loss\u001b[0m\u001b[0;34m(\u001b[0m\u001b[0mx\u001b[0m\u001b[0;34m,\u001b[0m \u001b[0my\u001b[0m\u001b[0;34m,\u001b[0m \u001b[0mdydx\u001b[0m\u001b[0;34m,\u001b[0m \u001b[0my_true\u001b[0m\u001b[0;34m,\u001b[0m \u001b[0mgradients_true\u001b[0m\u001b[0;34m,\u001b[0m \u001b[0mbc_mask\u001b[0m\u001b[0;34m,\u001b[0m \u001b[0mbatch_opts\u001b[0m\u001b[0;34m,\u001b[0m \u001b[0mi\u001b[0m\u001b[0;34m)\u001b[0m\u001b[0;34m\u001b[0m\u001b[0;34m\u001b[0m\u001b[0m\n\u001b[0m\u001b[1;32m    128\u001b[0m \u001b[0;34m\u001b[0m\u001b[0m\n\u001b[1;32m    129\u001b[0m       \u001b[0;31m# Reduce the learning rate if we hit a plateau\u001b[0m\u001b[0;34m\u001b[0m\u001b[0;34m\u001b[0m\u001b[0;34m\u001b[0m\u001b[0m\n",
      "\u001b[0;32m<ipython-input-13-2d74604614f7>\u001b[0m in \u001b[0;36mconduit_loss\u001b[0;34m(x, y, dydx, y_true, model_output_gradients, bc_mask, batch_opts, iteration)\u001b[0m\n\u001b[1;32m     77\u001b[0m \u001b[0;34m\u001b[0m\u001b[0m\n\u001b[1;32m     78\u001b[0m     \u001b[0;31m# F should be (Nx4), for the 4 governing equations\u001b[0m\u001b[0;34m\u001b[0m\u001b[0;34m\u001b[0m\u001b[0;34m\u001b[0m\u001b[0m\n\u001b[0;32m---> 79\u001b[0;31m     \u001b[0mF\u001b[0m \u001b[0;34m=\u001b[0m \u001b[0mget_physics\u001b[0m\u001b[0;34m(\u001b[0m\u001b[0mx\u001b[0m\u001b[0;34m,\u001b[0m \u001b[0my\u001b[0m\u001b[0;34m,\u001b[0m \u001b[0mdydx\u001b[0m\u001b[0;34m,\u001b[0m \u001b[0mbatch_opts\u001b[0m\u001b[0;34m)\u001b[0m\u001b[0;34m\u001b[0m\u001b[0;34m\u001b[0m\u001b[0m\n\u001b[0m\u001b[1;32m     80\u001b[0m \u001b[0;34m\u001b[0m\u001b[0m\n\u001b[1;32m     81\u001b[0m     \u001b[0;31m# loss_multipliers will broadcast to multiply F\u001b[0m\u001b[0;34m\u001b[0m\u001b[0;34m\u001b[0m\u001b[0;34m\u001b[0m\u001b[0m\n",
      "\u001b[0;32m<ipython-input-13-2d74604614f7>\u001b[0m in \u001b[0;36mget_physics\u001b[0;34m(x, y, dydx, batch_opts)\u001b[0m\n\u001b[1;32m     47\u001b[0m \u001b[0;34m\u001b[0m\u001b[0m\n\u001b[1;32m     48\u001b[0m   \u001b[0;31m####### YING QI'S CODE HERE #############\u001b[0m\u001b[0;34m\u001b[0m\u001b[0;34m\u001b[0m\u001b[0;34m\u001b[0m\u001b[0m\n\u001b[0;32m---> 49\u001b[0;31m   \u001b[0mF\u001b[0m \u001b[0;34m=\u001b[0m \u001b[0mdomegoveqn\u001b[0m\u001b[0;34m.\u001b[0m\u001b[0mssc\u001b[0m\u001b[0;34m(\u001b[0m\u001b[0mz\u001b[0m\u001b[0;34m,\u001b[0m \u001b[0mconduit_variables\u001b[0m\u001b[0;34m,\u001b[0m \u001b[0mconduit_gradients\u001b[0m\u001b[0;34m,\u001b[0m \u001b[0mbatch_opts\u001b[0m\u001b[0;34m)\u001b[0m\u001b[0;34m\u001b[0m\u001b[0;34m\u001b[0m\u001b[0m\n\u001b[0m\u001b[1;32m     50\u001b[0m \u001b[0;34m\u001b[0m\u001b[0m\n\u001b[1;32m     51\u001b[0m \u001b[0;34m\u001b[0m\u001b[0m\n",
      "\u001b[0;32m~/Documents/Projects/MSHConduit/Code/neural_conduit/domegoveqn.py\u001b[0m in \u001b[0;36mssc\u001b[0;34m(z, var, grad, m)\u001b[0m\n\u001b[1;32m     38\u001b[0m \u001b[0;34m\u001b[0m\u001b[0m\n\u001b[1;32m     39\u001b[0m     \u001b[0;31m# mbe--------------------------------------------------------------------------------\u001b[0m\u001b[0;34m\u001b[0m\u001b[0;34m\u001b[0m\u001b[0;34m\u001b[0m\u001b[0m\n\u001b[0;32m---> 40\u001b[0;31m     \u001b[0mmbe\u001b[0m \u001b[0;34m=\u001b[0m \u001b[0mmbe_vals\u001b[0m\u001b[0;34m(\u001b[0m\u001b[0mz\u001b[0m\u001b[0;34m,\u001b[0m \u001b[0mvar\u001b[0m\u001b[0;34m[\u001b[0m\u001b[0;34m'v'\u001b[0m\u001b[0;34m]\u001b[0m\u001b[0;34m,\u001b[0m \u001b[0mvar\u001b[0m\u001b[0;34m[\u001b[0m\u001b[0;34m'phi_g'\u001b[0m\u001b[0;34m]\u001b[0m\u001b[0;34m,\u001b[0m \u001b[0mgrad\u001b[0m\u001b[0;34m[\u001b[0m\u001b[0;34m'p'\u001b[0m\u001b[0;34m]\u001b[0m\u001b[0;34m[\u001b[0m\u001b[0;34m'z'\u001b[0m\u001b[0;34m]\u001b[0m\u001b[0;34m,\u001b[0m \u001b[0;36m100\u001b[0m\u001b[0;34m*\u001b[0m\u001b[0mh2o\u001b[0m\u001b[0;34m[\u001b[0m\u001b[0;34m'dissolved'\u001b[0m\u001b[0;34m]\u001b[0m\u001b[0;34m,\u001b[0m \u001b[0mphi\u001b[0m\u001b[0;34m,\u001b[0m \u001b[0mrho\u001b[0m\u001b[0;34m[\u001b[0m\u001b[0;34m'mix'\u001b[0m\u001b[0;34m]\u001b[0m\u001b[0;34m,\u001b[0m \u001b[0mm\u001b[0m\u001b[0;34m)\u001b[0m\u001b[0;34m\u001b[0m\u001b[0;34m\u001b[0m\u001b[0m\n\u001b[0m\u001b[1;32m     41\u001b[0m \u001b[0;34m\u001b[0m\u001b[0m\n\u001b[1;32m     42\u001b[0m     \u001b[0;31m# What we want to do, but tensorflow is dumb\u001b[0m\u001b[0;34m\u001b[0m\u001b[0;34m\u001b[0m\u001b[0;34m\u001b[0m\u001b[0m\n",
      "\u001b[0;32m~/Documents/Projects/MSHConduit/Code/neural_conduit/domegoveqn.py\u001b[0m in \u001b[0;36mmbe_vals\u001b[0;34m(z, v, phi_g, dpdz, h2o_d, phi, rho, m)\u001b[0m\n\u001b[1;32m    128\u001b[0m     \u001b[0mgdot\u001b[0m  \u001b[0;34m=\u001b[0m \u001b[0;36m2\u001b[0m\u001b[0;34m*\u001b[0m\u001b[0mnp\u001b[0m\u001b[0;34m.\u001b[0m\u001b[0mabsolute\u001b[0m\u001b[0;34m(\u001b[0m\u001b[0mv\u001b[0m\u001b[0;34m)\u001b[0m\u001b[0;34m/\u001b[0m\u001b[0mm\u001b[0m\u001b[0;34m[\u001b[0m\u001b[0;34m'R'\u001b[0m\u001b[0;34m]\u001b[0m\u001b[0;34m\u001b[0m\u001b[0;34m\u001b[0m\u001b[0m\n\u001b[1;32m    129\u001b[0m \u001b[0;34m\u001b[0m\u001b[0m\n\u001b[0;32m--> 130\u001b[0;31m     \u001b[0meta\u001b[0m   \u001b[0;34m=\u001b[0m \u001b[0mconstitutive\u001b[0m\u001b[0;34m.\u001b[0m\u001b[0mviscosity\u001b[0m\u001b[0;34m(\u001b[0m\u001b[0mh2o_d\u001b[0m\u001b[0;34m,\u001b[0m \u001b[0mphi_s_eta\u001b[0m\u001b[0;34m,\u001b[0m \u001b[0mgdot\u001b[0m\u001b[0;34m,\u001b[0m \u001b[0mm\u001b[0m\u001b[0;34m)\u001b[0m\u001b[0;34m\u001b[0m\u001b[0;34m\u001b[0m\u001b[0m\n\u001b[0m\u001b[1;32m    131\u001b[0m     \u001b[0mtau_R\u001b[0m \u001b[0;34m=\u001b[0m \u001b[0;34m-\u001b[0m\u001b[0;36m0.5\u001b[0m\u001b[0;34m*\u001b[0m\u001b[0mm\u001b[0m\u001b[0;34m[\u001b[0m\u001b[0;34m'R'\u001b[0m\u001b[0;34m]\u001b[0m\u001b[0;34m*\u001b[0m\u001b[0;34m(\u001b[0m\u001b[0mdpdz\u001b[0m \u001b[0;34m+\u001b[0m \u001b[0mrho\u001b[0m\u001b[0;34m*\u001b[0m\u001b[0mm\u001b[0m\u001b[0;34m[\u001b[0m\u001b[0;34m'g'\u001b[0m\u001b[0;34m]\u001b[0m\u001b[0;34m)\u001b[0m\u001b[0;34m\u001b[0m\u001b[0;34m\u001b[0m\u001b[0m\n\u001b[1;32m    132\u001b[0m \u001b[0;34m\u001b[0m\u001b[0m\n",
      "\u001b[0;32m~/Documents/Projects/MSHConduit/Code/neural_conduit/constitutive.py\u001b[0m in \u001b[0;36mviscosity\u001b[0;34m(h2o_d, phi_s_eta, gdot, m)\u001b[0m\n\u001b[1;32m     69\u001b[0m     \u001b[0mtop\u001b[0m \u001b[0;34m=\u001b[0m \u001b[0;34m(\u001b[0m\u001b[0;36m1.\u001b[0m \u001b[0;34m+\u001b[0m \u001b[0mnp\u001b[0m\u001b[0;34m.\u001b[0m\u001b[0mpower\u001b[0m\u001b[0;34m(\u001b[0m\u001b[0mphifr\u001b[0m\u001b[0;34m,\u001b[0m\u001b[0mdelta\u001b[0m\u001b[0;34m)\u001b[0m\u001b[0;34m)\u001b[0m    \u001b[0;31m#numerator\u001b[0m\u001b[0;34m\u001b[0m\u001b[0;34m\u001b[0m\u001b[0m\n\u001b[1;32m     70\u001b[0m     \u001b[0mefarg\u001b[0m \u001b[0;34m=\u001b[0m \u001b[0;36m0.5\u001b[0m\u001b[0;34m*\u001b[0m\u001b[0mpih\u001b[0m\u001b[0;34m*\u001b[0m\u001b[0mphifr\u001b[0m\u001b[0;34m/\u001b[0m\u001b[0mkappa\u001b[0m\u001b[0;34m*\u001b[0m\u001b[0;34m(\u001b[0m\u001b[0;36m1.\u001b[0m \u001b[0;34m+\u001b[0m \u001b[0mnp\u001b[0m\u001b[0;34m.\u001b[0m\u001b[0mpower\u001b[0m\u001b[0;34m(\u001b[0m\u001b[0mphifr\u001b[0m\u001b[0;34m,\u001b[0m\u001b[0mgamma\u001b[0m\u001b[0;34m)\u001b[0m\u001b[0;34m)\u001b[0m  \u001b[0;31m#error function argument\u001b[0m\u001b[0;34m\u001b[0m\u001b[0;34m\u001b[0m\u001b[0m\n\u001b[0;32m---> 71\u001b[0;31m     \u001b[0meta\u001b[0m\u001b[0;34m[\u001b[0m\u001b[0;34m'xtal'\u001b[0m\u001b[0;34m]\u001b[0m \u001b[0;34m=\u001b[0m \u001b[0mtop\u001b[0m\u001b[0;34m/\u001b[0m\u001b[0mnp\u001b[0m\u001b[0;34m.\u001b[0m\u001b[0mpower\u001b[0m\u001b[0;34m(\u001b[0m\u001b[0;34m(\u001b[0m\u001b[0;36m1.\u001b[0m \u001b[0;34m-\u001b[0m \u001b[0mkappa\u001b[0m\u001b[0;34m*\u001b[0m\u001b[0msp\u001b[0m\u001b[0;34m.\u001b[0m\u001b[0merf\u001b[0m\u001b[0;34m(\u001b[0m\u001b[0mefarg\u001b[0m\u001b[0;34m)\u001b[0m\u001b[0;34m)\u001b[0m\u001b[0;34m,\u001b[0m \u001b[0mB\u001b[0m\u001b[0;34m*\u001b[0m\u001b[0mphistar\u001b[0m\u001b[0;34m)\u001b[0m\u001b[0;34m\u001b[0m\u001b[0;34m\u001b[0m\u001b[0m\n\u001b[0m\u001b[1;32m     72\u001b[0m \u001b[0;34m\u001b[0m\u001b[0m\n\u001b[1;32m     73\u001b[0m     \u001b[0meta\u001b[0m\u001b[0;34m[\u001b[0m\u001b[0;34m'mix'\u001b[0m\u001b[0;34m]\u001b[0m \u001b[0;34m=\u001b[0m \u001b[0meta\u001b[0m\u001b[0;34m[\u001b[0m\u001b[0;34m'melt'\u001b[0m\u001b[0;34m]\u001b[0m\u001b[0;34m*\u001b[0m\u001b[0meta\u001b[0m\u001b[0;34m[\u001b[0m\u001b[0;34m'xtal'\u001b[0m\u001b[0;34m]\u001b[0m\u001b[0;34m\u001b[0m\u001b[0;34m\u001b[0m\u001b[0m\n",
      "\u001b[0;31mKeyboardInterrupt\u001b[0m: "
     ]
    }
   ],
   "source": [
    "N_EPOCHS=100000\n",
    "N_DATA_EPOCHS=100\n",
    "\n",
    "conduit_nn = PDENeuralNet(N_INPUTS,N_OUTPUTS) # First output is pressure, second is u\n",
    "\n",
    "train(conduit_nn, dataset)"
   ]
  },
  {
   "cell_type": "code",
   "execution_count": null,
   "id": "63fa40a2-639b-4207-9595-2ac008d28194",
   "metadata": {},
   "outputs": [],
   "source": []
  },
  {
   "cell_type": "markdown",
   "id": "finnish-confidence",
   "metadata": {},
   "source": [
    "# How to add the physics"
   ]
  },
  {
   "cell_type": "markdown",
   "id": "naval-bones",
   "metadata": {},
   "source": [
    "As a reminder, the neural network is set up to mimic the function $f(z,t) = [p, v, \\phi_g, m_h](z,t)$, which is a map $\\mathbb{R}^2 \\to \\mathbb{R}^4$.\n",
    "\n",
    "In practice, we train the neural network with a \"batch\" of $(z,t)$ samples. This adds an extra dimension to the tensors being passed in and out of the model, where different elements of a batch are stacked along the first axis. Therefore, during training we expect inputs of size $(N,2)$ (2 because of z and t) and outputs of size $(N,4)$ (4 because of the conduit model outputs), where $N$ is the batch size.\n",
    "\n",
    "## Steady-State Governing Equations\n",
    "\n",
    "We can write the governing equations for the steady-state conduit model in the form (YQ is working on this)\n",
    "\n",
    "$$F(z, [\\nu, \\partial_z \\nu]) = 0$$\n",
    "\n",
    "where $F$ is a matrix of size $(M,1)$ governing equations and $[\\nu, \\partial_z \\nu]$ is a 8-element vector containing the primary conduit variables and their gradients with respect to $z$, e.g. a vector $[p, v, \\phi_g, m_h, \\partial_z p, \\partial_z v, \\partial_z \\phi_g, \\partial_z m_h]$. If we want to write this as a matrix-vector equation, we can express it as \n",
    "\n",
    "$$ F(z, [\\nu, \\partial_z \\nu]) = J(z, \\nu) \\frac{\\partial \\nu}{\\partial z} + Q(z, \\nu, \\partial_z p) = 0, $$\n",
    "\n",
    "where $ J(z, \\nu)$ is a matrix of size $(M,4)$ containing the coefficients for $\\partial_z \\nu$ in the $M$ governing equations. However, one issue is that in the  momentum balance equation, $\\partial_z p$ appears in the sinh function for the frictional velocity and is therefore not linear in $\\partial_z p$, thus  $Q_{mbe}$ does contain the $\\partial_z p$ term. \n",
    "\n",
    "**Q for Ben**: can we just rewrite the equations in the form $F(z, \\nu) = 0$, instead of $J(z, \\nu) \\frac{\\partial \\nu}{\\partial z} + Q(\\nu) = 0$? Since $Q(\\nu)$ is so weird and contains $\\partial_z p$. Seems like the loss only calculates $F$ anyway. Maybe it would help if you just write down what the loss calculation would be?\n",
    "\n",
    "Also, how to implement boundary conditions?\n",
    "\n",
    "**A for YQ**: yes! We can definitely do that. No tensorflow reason to do one or the other -- I just figured you would have written the equations in the $J$, etc. way in your matlab code. I've re-written the loss function to show how that's done.\n",
    "\n",
    "The tensorflow code will produce conduit variables and their associated derivatives of size (N x 1) (where $N$ is the batch size). From these variables it is easy to assemble the vector $\\nu$.\n",
    "\n",
    "**What we still need:** a function that takes in these variables and gradients, and assembles the matrix $J$. \n",
    "\n",
    "Note that because of the batch dimension, $J$ will no longer be of size $(M,12)$, but should be of size $(N,M,12)$. We can then take this tensor and multiply it with $\\nu$ to get the governing equations.\n",
    "\n",
    "\n",
    "\n",
    "\n",
    "## Time-Dependent Governing Equations\n",
    "The time-dependent governing equations can be rewritten as \n",
    "\n",
    "$$H(t, z, [\\nu, \\partial_z \\nu, \\partial_t \\nu]) = 0, $$\n",
    "\n",
    "where $H$ is a matrix of size $(M,1)$ governing equations and $[\\nu, \\partial_z \\nu, \\partial_t \\nu]$ is now a 12-element vector containing the primary conduit variables and their gradients with respect to $z$, e.g. a vector $[p, v, \\phi_g, m_h, \\partial_z p, \\partial_z v, \\partial_z \\phi_g, \\partial_z m_h, \\partial_t p, \\partial_t v, \\partial_t \\phi_g, \\partial_t m_h]$. We can actually reduce this by one because $ \\partial_t v$ does not appear in the governing equations due to low Reynolds number. But wait. Will this result in velocities being constant over time? The assumption here is that $v$ depends on the phase fractions and other properties, not on the inertial term.\n",
    "\n",
    "If we want to write this as a matrix-vector equation, we can express it as \n",
    "\n",
    "$$ H(t, z, [\\nu, \\partial_z \\nu, \\partial_t \\nu]) =  M(t, z, \\nu) \\frac{\\partial \\nu}{\\partial t} -  J(t, z, \\nu) \\frac{\\partial \\nu}{\\partial z} - Q(t, z, \\nu, \\partial_z p) = 0, $$"
   ]
  },
  {
   "cell_type": "markdown",
   "id": "external-microwave",
   "metadata": {},
   "source": [
    "### Some numpy manipulations to show how to do the math once we have $J$ and $\\nu$"
   ]
  },
  {
   "cell_type": "code",
   "execution_count": null,
   "id": "victorian-ranch",
   "metadata": {},
   "outputs": [],
   "source": [
    "J = np.arange(5*3*4).reshape(5,3,4)\n",
    "nu = np.arange(5*4).reshape(5,4)\n",
    "result = np.zeros((5,3))"
   ]
  },
  {
   "cell_type": "code",
   "execution_count": null,
   "id": "opponent-steal",
   "metadata": {},
   "outputs": [],
   "source": [
    "for i in range(5):\n",
    "  result[i,:] = J[i,:,:].dot(nu[i,:])\n",
    "print(result)"
   ]
  },
  {
   "cell_type": "code",
   "execution_count": null,
   "id": "secure-steam",
   "metadata": {},
   "outputs": [],
   "source": [
    "# Faster (?) alternative\n",
    "result2 = np.einsum('ijk,ik->ij',J,nu)\n",
    "print(result2)"
   ]
  },
  {
   "cell_type": "code",
   "execution_count": null,
   "id": "upset-james",
   "metadata": {},
   "outputs": [],
   "source": [
    "result == result2"
   ]
  },
  {
   "cell_type": "code",
   "execution_count": null,
   "id": "fatal-albuquerque",
   "metadata": {},
   "outputs": [],
   "source": []
  },
  {
   "cell_type": "code",
   "execution_count": null,
   "id": "color-hacker",
   "metadata": {},
   "outputs": [],
   "source": []
  },
  {
   "cell_type": "code",
   "execution_count": null,
   "id": "capital-apollo",
   "metadata": {},
   "outputs": [],
   "source": []
  },
  {
   "cell_type": "code",
   "execution_count": null,
   "id": "portuguese-marks",
   "metadata": {},
   "outputs": [],
   "source": []
  },
  {
   "cell_type": "code",
   "execution_count": null,
   "id": "inner-ambassador",
   "metadata": {},
   "outputs": [],
   "source": []
  }
 ],
 "metadata": {
  "kernelspec": {
   "display_name": "neural_conduit",
   "language": "python",
   "name": "neural_conduit"
  },
  "language_info": {
   "codemirror_mode": {
    "name": "ipython",
    "version": 3
   },
   "file_extension": ".py",
   "mimetype": "text/x-python",
   "name": "python",
   "nbconvert_exporter": "python",
   "pygments_lexer": "ipython3",
   "version": "3.8.2"
  }
 },
 "nbformat": 4,
 "nbformat_minor": 5
}
