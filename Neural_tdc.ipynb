{
 "cells": [
  {
   "cell_type": "markdown",
   "id": "balanced-directive",
   "metadata": {},
   "source": [
    "# TIme depeNdent ConduiT flow neUral netwoRk Emulator (TINCTURE)\n",
    "\n",
    "A collaboration between Ying Qi Wong, PhD and Ben Mullet"
   ]
  },
  {
   "cell_type": "code",
   "execution_count": 9,
   "id": "stupid-preserve",
   "metadata": {},
   "outputs": [],
   "source": [
    "import numpy as np\n",
    "import tensorflow as tf\n",
    "from tensorflow.keras.layers import Dense\n",
    "import matplotlib.pyplot as plt\n",
    "import tqdm\n",
    "\n",
    "import domegoveqn\n",
    "import constitutive\n"
   ]
  },
  {
   "cell_type": "markdown",
   "id": "polar-appearance",
   "metadata": {},
   "source": [
    "## Gather training data\n",
    "\n",
    "(This section is adapted from YQ's notebook \"RunModel\")"
   ]
  },
  {
   "cell_type": "code",
   "execution_count": 2,
   "id": "spectacular-iceland",
   "metadata": {},
   "outputs": [],
   "source": [
    "import matlab.engine\n",
    "eng = matlab.engine.start_matlab()\n",
    "\n",
    "path_to_domeconduit_code = \"/home/bmullet/Research/software/domeconduit/Code/\"\n",
    "\n",
    "eng.addpath (eng.genpath(path_to_domeconduit_code), nargout= 0 )"
   ]
  },
  {
   "cell_type": "markdown",
   "id": "renewable-genre",
   "metadata": {},
   "source": [
    "### Run time-dependent conduit model by calling matlab functions \n",
    "\n",
    "First start matlab and add paths for model functions\n"
   ]
  },
  {
   "cell_type": "markdown",
   "id": "square-elevation",
   "metadata": {},
   "source": [
    "#### Run the full time-dependent model using default parameters"
   ]
  },
  {
   "cell_type": "code",
   "execution_count": 3,
   "id": "bearing-print",
   "metadata": {},
   "outputs": [],
   "source": [
    "def n_by_1(array):\n",
    "  \"\"\"Transform array to Nx1\"\"\"\n",
    "  array = np.array(array)\n",
    "  \n",
    "  assert len(array.shape) <= 2, \"Array dim should be <= 2\"\n",
    "  \n",
    "  if len(array.shape) < 2:\n",
    "    array = array[:,np.newaxis]\n",
    "  \n",
    "  L, W = array.shape\n",
    "  if L < W:\n",
    "    array = array.T\n",
    "    \n",
    "  return array\n",
    "\n"
   ]
  },
  {
   "cell_type": "code",
   "execution_count": 4,
   "id": "becoming-burst",
   "metadata": {},
   "outputs": [],
   "source": [
    "n = n_by_1(np.array([1,2,3]))\n",
    "m = np.array([1,2,3])"
   ]
  },
  {
   "cell_type": "code",
   "execution_count": 23,
   "id": "severe-organizer",
   "metadata": {},
   "outputs": [],
   "source": [
    "class conduit_model_data_handler():\n",
    "  \n",
    "  conduit_var_names = [\"p\", \"v\", \"phi_g\", \"mw\"]\n",
    "  \n",
    "  def __init__(self,\n",
    "               normalize=True,\n",
    "               use_default_params=True,\n",
    "              ):\n",
    "    \n",
    "    # options\n",
    "    self.normalize = normalize    # Should we rescale data to (0,1)\n",
    "    \n",
    "    if use_default_params:\n",
    "      # Get data\n",
    "      o    = eng.tdcFV('setdef', nargout=1)\n",
    "      opts = eng.tdcFV('ss_init',o,nargout=1)\n",
    "      opts['Nz'] = 401.\n",
    "\n",
    "      # run steady-state model\n",
    "      ss, opts, ssflag = eng.tdcFV('run_ssc_opts', opts, nargout=3)\n",
    "\n",
    "      # load time-dependent options\n",
    "      m, y0, z = eng.tdcFV('td_init', ss['m'], ss, 0, 0, nargout=3)\n",
    "\n",
    "      # run time-dependent model\n",
    "      td, m, flag = eng.tdcFV('run_tdc', y0, z, m, nargout=3)\n",
    "    else:\n",
    "      # Do custom set of model parameters\n",
    "      raise NotImplementedError\n",
    "    \n",
    "    # Set model parameters\n",
    "    self.model_params = constitutive.reformat_params(ss['m'])\n",
    "\n",
    "    # Sets self.z, self.t, and self.conduit_vars\n",
    "    self.set_results_vars(td, m)\n",
    "    \n",
    "    # Set dimensions\n",
    "    self.nz = max(self.z.shape)\n",
    "    self.nt = max(self.t.shape)\n",
    "    self.default_shape = (self.nz, self.nt)\n",
    "    \n",
    "    # Sets self.in_array, self.out_array\n",
    "    self.set_nn_inputs_and_outputs()\n",
    "    \n",
    "\n",
    "  def set_results_vars(self, td, m):\n",
    "\n",
    "    # Extract solution\n",
    "    tdvarsVec = eng.extract_y(td, m, nargout=1)\n",
    "\n",
    "    # Get time and conduit depth variables\n",
    "    self.z = n_by_1(td['z'])\n",
    "    self.t = n_by_1(td['x'])\n",
    "\n",
    "    # Subsample (for now)\n",
    "    t_idx = (np.linspace(0,max(self.t.shape)- 1,3)).astype(int)\n",
    "    \n",
    "    self.t = self.t[t_idx]\n",
    "    \n",
    "    import pdb; pdb.set_trace()\n",
    "    # Get conduit variables\n",
    "    self.conduit_vars = {key: np.array(val)[:, t_idx] for key, val in tdvarsVec.items()\n",
    "                    if key in conduit_model_data_handler.conduit_var_names}  \n",
    "    \n",
    "    # Get boundary conditions\n",
    "    bottom_idx = np.argmin(self.z)\n",
    "    top_idx = np.argmax(self.z)\n",
    "    \n",
    "    # Conduit bottom boundary conditions are set on p, phi_g, and m_h (not v)\n",
    "    bottom_bcs = [\"p\", \"phi_g\", \"mw\"]\n",
    "    \n",
    "    # Conduit top boundary conditions are only set on p\n",
    "    top_bcs = [\"p\"]\n",
    "\n",
    "    # Creates a mask for those entries which are also boundary conditions\n",
    "    self.conduit_bcs = {}\n",
    "    for var in conduit_model_data_handler.conduit_var_names:\n",
    "      self.conduit_bcs[var] = np.zeros(self.conduit_vars[var].shape)\n",
    "      if var in bottom_bcs:\n",
    "        self.conduit_bcs[var][bottom_idx, :] = 1\n",
    "      if var in top_bcs:\n",
    "        self.conduit_bcs[var][top_idx, :] = 1\n",
    "        \n",
    "    \n",
    "    \n",
    "  def set_nn_inputs_and_outputs(self):\n",
    "    # We need to reshape the inputs and outputs to fit what tensorflow expects.\n",
    "    # Inputs should be size (Nx2) where 2 is because we have two input variables t and z\n",
    "    # Outputs should be size (Nx4) where 4 is ebcause we have four outputs variables,\n",
    "    # p, v, phi_g and mw\n",
    "\n",
    "    nt = self.t.shape[0]\n",
    "    nz = self.z.shape[0]\n",
    "\n",
    "    nouts = len(self.conduit_vars)\n",
    "    nins = 2 # one for t and one for z\n",
    "\n",
    "    out_array = np.empty((nt*nz, nouts))\n",
    "    bc_mask = np.empty((nt*nz, nouts))\n",
    "    \n",
    "    for i, var_name in enumerate(conduit_model_data_handler.conduit_var_names):\n",
    "      bc_mask[:,i] = self.conduit_bcs[var_name].flatten()\n",
    "      \n",
    "      var_1d = self.conduit_vars[var_name].flatten()\n",
    "      if self.normalize:\n",
    "        valmax = np.amax(var_1d)\n",
    "        valmin = np.amin(var_1d)\n",
    "        out_array[:,i] = (var_1d - valmin)/(valmax - valmin) # normalize\n",
    "      else:\n",
    "        out_array[:,i] = var_1d\n",
    "\n",
    "    in_array = np.empty(((nt*nz), nins))\n",
    "    T, Z = np.meshgrid(self.t, self.z)\n",
    "    \n",
    "    if self.normalize:\n",
    "      in_array[:,0] = T.flatten()/np.amax(np.abs(T))\n",
    "      in_array[:,1] = Z.flatten()/np.amax(np.abs(Z))\n",
    "    else:\n",
    "      in_array[:,0] = T.flatten()\n",
    "      in_array[:,1] = Z.flatten()\n",
    "\n",
    "    self.in_array = in_array\n",
    "    self.out_array = out_array\n",
    "    self.bc_mask = bc_mask\n",
    "    \n",
    "  def plot(self, num_profiles=3, in_array=None, out_array=None, out_array2=None):\n",
    "    \"\"\"Plot some output, given in_array and out_array\"\"\"\n",
    "    if in_array is None:\n",
    "      in_array = self.in_array\n",
    "    if out_array is None:\n",
    "      out_array = self.out_array\n",
    "      \n",
    "    if out_array2 is not None:\n",
    "      assert out_array2.shape == self.out_array.shape, \"The shape of out_array2 is incorrect\"\n",
    "      \n",
    "    assert in_array.shape == self.in_array.shape, \"The shape of in_array is incorrect\"\n",
    "    assert out_array.shape == self.out_array.shape, \"The shape of out_array is incorrect\"\n",
    "    \n",
    "    plt.figure(figsize=(15, 3))\n",
    "    nsub = len(conduit_model_data_handler.conduit_var_names)\n",
    "    \n",
    "    # Get indices for plotting\n",
    "    plot_t_idx = (np.linspace(0,self.nt - 1,num_profiles)).astype(int)\n",
    "    \n",
    "    for i, var_name in enumerate(conduit_model_data_handler.conduit_var_names):\n",
    "      arrayi = out_array[:,i].reshape((self.default_shape))\n",
    "    \n",
    "      plt.subplot(1, nsub, i+1)\n",
    "      lines = plt.plot(arrayi[:,plot_t_idx], self.z)\n",
    "      for j, line in enumerate(lines):\n",
    "        years = f\"{seconds_to_years(self.t[plot_t_idx][j,0]):0.2f}\"\n",
    "        line.set_label(years)\n",
    "      if out_array2 is not None:\n",
    "        arrayi2 = out_array2[:,i].reshape((self.default_shape))\n",
    "        plt.plot(arrayi2[:,plot_t_idx], self.z, \"--r\")\n",
    "        \n",
    "      plt.xlabel(var_name)\n",
    "      plt.ylabel(\"z\")\n",
    "      plt.legend()\n",
    "  \n",
    "    plt.tight_layout()\n",
    "    plt.show()\n",
    "\n",
    "def seconds_to_years(seconds):\n",
    "  return seconds/60/60/24/365\n",
    "    "
   ]
  },
  {
   "cell_type": "code",
   "execution_count": 24,
   "id": "caring-wellington",
   "metadata": {},
   "outputs": [
    {
     "name": "stdout",
     "output_type": "stream",
     "text": [
      "> \u001b[0;32m<ipython-input-23-1ca8af4bd57a>\u001b[0m(62)\u001b[0;36mset_results_vars\u001b[0;34m()\u001b[0m\n",
      "\u001b[0;32m     60 \u001b[0;31m    \u001b[0;32mimport\u001b[0m \u001b[0mpdb\u001b[0m\u001b[0;34m;\u001b[0m \u001b[0mpdb\u001b[0m\u001b[0;34m.\u001b[0m\u001b[0mset_trace\u001b[0m\u001b[0;34m(\u001b[0m\u001b[0;34m)\u001b[0m\u001b[0;34m\u001b[0m\u001b[0;34m\u001b[0m\u001b[0m\n",
      "\u001b[0m\u001b[0;32m     61 \u001b[0;31m    \u001b[0;31m# Get conduit variables\u001b[0m\u001b[0;34m\u001b[0m\u001b[0;34m\u001b[0m\u001b[0;34m\u001b[0m\u001b[0m\n",
      "\u001b[0m\u001b[0;32m---> 62 \u001b[0;31m    self.conduit_vars = {key: np.array(val)[:, t_idx] for key, val in tdvarsVec.items()\n",
      "\u001b[0m\u001b[0;32m     63 \u001b[0;31m                    if key in conduit_model_data_handler.conduit_var_names}  \n",
      "\u001b[0m\u001b[0;32m     64 \u001b[0;31m\u001b[0;34m\u001b[0m\u001b[0m\n",
      "\u001b[0m\n"
     ]
    },
    {
     "name": "stdin",
     "output_type": "stream",
     "text": [
      "ipdb>  print(tdvarsVec.keys())\n"
     ]
    },
    {
     "name": "stdout",
     "output_type": "stream",
     "text": [
      "dict_keys(['x', 'y', 'z', 'yp', 'xe', 'ye', 'ie', 'tyr', 'p', 'v', 'phi_g', 'mw'])\n"
     ]
    },
    {
     "name": "stdin",
     "output_type": "stream",
     "text": [
      "ipdb>  exit\n"
     ]
    },
    {
     "ename": "BdbQuit",
     "evalue": "",
     "output_type": "error",
     "traceback": [
      "\u001b[0;31m---------------------------------------------------------------------------\u001b[0m",
      "\u001b[0;31mBdbQuit\u001b[0m                                   Traceback (most recent call last)",
      "\u001b[0;32m<ipython-input-24-305d742984aa>\u001b[0m in \u001b[0;36m<module>\u001b[0;34m\u001b[0m\n\u001b[1;32m      1\u001b[0m \u001b[0;31m# Load data\u001b[0m\u001b[0;34m\u001b[0m\u001b[0;34m\u001b[0m\u001b[0;34m\u001b[0m\u001b[0m\n\u001b[0;32m----> 2\u001b[0;31m \u001b[0mc\u001b[0m \u001b[0;34m=\u001b[0m \u001b[0mconduit_model_data_handler\u001b[0m\u001b[0;34m(\u001b[0m\u001b[0;34m)\u001b[0m\u001b[0;34m\u001b[0m\u001b[0;34m\u001b[0m\u001b[0m\n\u001b[0m\u001b[1;32m      3\u001b[0m \u001b[0mprint\u001b[0m\u001b[0;34m(\u001b[0m\u001b[0mc\u001b[0m\u001b[0;34m.\u001b[0m\u001b[0mmodel_params\u001b[0m\u001b[0;34m.\u001b[0m\u001b[0mkeys\u001b[0m\u001b[0;34m(\u001b[0m\u001b[0;34m)\u001b[0m\u001b[0;34m)\u001b[0m\u001b[0;34m\u001b[0m\u001b[0;34m\u001b[0m\u001b[0m\n",
      "\u001b[0;32m<ipython-input-23-1ca8af4bd57a>\u001b[0m in \u001b[0;36m__init__\u001b[0;34m(self, normalize, use_default_params)\u001b[0m\n\u001b[1;32m     33\u001b[0m \u001b[0;34m\u001b[0m\u001b[0m\n\u001b[1;32m     34\u001b[0m     \u001b[0;31m# Sets self.z, self.t, and self.conduit_vars\u001b[0m\u001b[0;34m\u001b[0m\u001b[0;34m\u001b[0m\u001b[0;34m\u001b[0m\u001b[0m\n\u001b[0;32m---> 35\u001b[0;31m     \u001b[0mself\u001b[0m\u001b[0;34m.\u001b[0m\u001b[0mset_results_vars\u001b[0m\u001b[0;34m(\u001b[0m\u001b[0mtd\u001b[0m\u001b[0;34m,\u001b[0m \u001b[0mm\u001b[0m\u001b[0;34m)\u001b[0m\u001b[0;34m\u001b[0m\u001b[0;34m\u001b[0m\u001b[0m\n\u001b[0m\u001b[1;32m     36\u001b[0m \u001b[0;34m\u001b[0m\u001b[0m\n\u001b[1;32m     37\u001b[0m     \u001b[0;31m# Set dimensions\u001b[0m\u001b[0;34m\u001b[0m\u001b[0;34m\u001b[0m\u001b[0;34m\u001b[0m\u001b[0m\n",
      "\u001b[0;32m<ipython-input-23-1ca8af4bd57a>\u001b[0m in \u001b[0;36mset_results_vars\u001b[0;34m(self, td, m)\u001b[0m\n\u001b[1;32m     60\u001b[0m     \u001b[0;32mimport\u001b[0m \u001b[0mpdb\u001b[0m\u001b[0;34m;\u001b[0m \u001b[0mpdb\u001b[0m\u001b[0;34m.\u001b[0m\u001b[0mset_trace\u001b[0m\u001b[0;34m(\u001b[0m\u001b[0;34m)\u001b[0m\u001b[0;34m\u001b[0m\u001b[0;34m\u001b[0m\u001b[0m\n\u001b[1;32m     61\u001b[0m     \u001b[0;31m# Get conduit variables\u001b[0m\u001b[0;34m\u001b[0m\u001b[0;34m\u001b[0m\u001b[0;34m\u001b[0m\u001b[0m\n\u001b[0;32m---> 62\u001b[0;31m     self.conduit_vars = {key: np.array(val)[:, t_idx] for key, val in tdvarsVec.items()\n\u001b[0m\u001b[1;32m     63\u001b[0m                     if key in conduit_model_data_handler.conduit_var_names}  \n\u001b[1;32m     64\u001b[0m \u001b[0;34m\u001b[0m\u001b[0m\n",
      "\u001b[0;32m<ipython-input-23-1ca8af4bd57a>\u001b[0m in \u001b[0;36mset_results_vars\u001b[0;34m(self, td, m)\u001b[0m\n\u001b[1;32m     60\u001b[0m     \u001b[0;32mimport\u001b[0m \u001b[0mpdb\u001b[0m\u001b[0;34m;\u001b[0m \u001b[0mpdb\u001b[0m\u001b[0;34m.\u001b[0m\u001b[0mset_trace\u001b[0m\u001b[0;34m(\u001b[0m\u001b[0;34m)\u001b[0m\u001b[0;34m\u001b[0m\u001b[0;34m\u001b[0m\u001b[0m\n\u001b[1;32m     61\u001b[0m     \u001b[0;31m# Get conduit variables\u001b[0m\u001b[0;34m\u001b[0m\u001b[0;34m\u001b[0m\u001b[0;34m\u001b[0m\u001b[0m\n\u001b[0;32m---> 62\u001b[0;31m     self.conduit_vars = {key: np.array(val)[:, t_idx] for key, val in tdvarsVec.items()\n\u001b[0m\u001b[1;32m     63\u001b[0m                     if key in conduit_model_data_handler.conduit_var_names}  \n\u001b[1;32m     64\u001b[0m \u001b[0;34m\u001b[0m\u001b[0m\n",
      "\u001b[0;32m/usr/lib/python3.6/bdb.py\u001b[0m in \u001b[0;36mtrace_dispatch\u001b[0;34m(self, frame, event, arg)\u001b[0m\n\u001b[1;32m     49\u001b[0m             \u001b[0;32mreturn\u001b[0m \u001b[0;31m# None\u001b[0m\u001b[0;34m\u001b[0m\u001b[0;34m\u001b[0m\u001b[0m\n\u001b[1;32m     50\u001b[0m         \u001b[0;32mif\u001b[0m \u001b[0mevent\u001b[0m \u001b[0;34m==\u001b[0m \u001b[0;34m'line'\u001b[0m\u001b[0;34m:\u001b[0m\u001b[0;34m\u001b[0m\u001b[0;34m\u001b[0m\u001b[0m\n\u001b[0;32m---> 51\u001b[0;31m             \u001b[0;32mreturn\u001b[0m \u001b[0mself\u001b[0m\u001b[0;34m.\u001b[0m\u001b[0mdispatch_line\u001b[0m\u001b[0;34m(\u001b[0m\u001b[0mframe\u001b[0m\u001b[0;34m)\u001b[0m\u001b[0;34m\u001b[0m\u001b[0;34m\u001b[0m\u001b[0m\n\u001b[0m\u001b[1;32m     52\u001b[0m         \u001b[0;32mif\u001b[0m \u001b[0mevent\u001b[0m \u001b[0;34m==\u001b[0m \u001b[0;34m'call'\u001b[0m\u001b[0;34m:\u001b[0m\u001b[0;34m\u001b[0m\u001b[0;34m\u001b[0m\u001b[0m\n\u001b[1;32m     53\u001b[0m             \u001b[0;32mreturn\u001b[0m \u001b[0mself\u001b[0m\u001b[0;34m.\u001b[0m\u001b[0mdispatch_call\u001b[0m\u001b[0;34m(\u001b[0m\u001b[0mframe\u001b[0m\u001b[0;34m,\u001b[0m \u001b[0marg\u001b[0m\u001b[0;34m)\u001b[0m\u001b[0;34m\u001b[0m\u001b[0;34m\u001b[0m\u001b[0m\n",
      "\u001b[0;32m/usr/lib/python3.6/bdb.py\u001b[0m in \u001b[0;36mdispatch_line\u001b[0;34m(self, frame)\u001b[0m\n\u001b[1;32m     68\u001b[0m         \u001b[0;32mif\u001b[0m \u001b[0mself\u001b[0m\u001b[0;34m.\u001b[0m\u001b[0mstop_here\u001b[0m\u001b[0;34m(\u001b[0m\u001b[0mframe\u001b[0m\u001b[0;34m)\u001b[0m \u001b[0;32mor\u001b[0m \u001b[0mself\u001b[0m\u001b[0;34m.\u001b[0m\u001b[0mbreak_here\u001b[0m\u001b[0;34m(\u001b[0m\u001b[0mframe\u001b[0m\u001b[0;34m)\u001b[0m\u001b[0;34m:\u001b[0m\u001b[0;34m\u001b[0m\u001b[0;34m\u001b[0m\u001b[0m\n\u001b[1;32m     69\u001b[0m             \u001b[0mself\u001b[0m\u001b[0;34m.\u001b[0m\u001b[0muser_line\u001b[0m\u001b[0;34m(\u001b[0m\u001b[0mframe\u001b[0m\u001b[0;34m)\u001b[0m\u001b[0;34m\u001b[0m\u001b[0;34m\u001b[0m\u001b[0m\n\u001b[0;32m---> 70\u001b[0;31m             \u001b[0;32mif\u001b[0m \u001b[0mself\u001b[0m\u001b[0;34m.\u001b[0m\u001b[0mquitting\u001b[0m\u001b[0;34m:\u001b[0m \u001b[0;32mraise\u001b[0m \u001b[0mBdbQuit\u001b[0m\u001b[0;34m\u001b[0m\u001b[0;34m\u001b[0m\u001b[0m\n\u001b[0m\u001b[1;32m     71\u001b[0m         \u001b[0;32mreturn\u001b[0m \u001b[0mself\u001b[0m\u001b[0;34m.\u001b[0m\u001b[0mtrace_dispatch\u001b[0m\u001b[0;34m\u001b[0m\u001b[0;34m\u001b[0m\u001b[0m\n\u001b[1;32m     72\u001b[0m \u001b[0;34m\u001b[0m\u001b[0m\n",
      "\u001b[0;31mBdbQuit\u001b[0m: "
     ]
    }
   ],
   "source": [
    "# Load data\n",
    "c = conduit_model_data_handler()\n",
    "print(c.model_params.keys())"
   ]
  },
  {
   "cell_type": "code",
   "execution_count": 7,
   "id": "union-bennett",
   "metadata": {},
   "outputs": [
    {
     "name": "stdout",
     "output_type": "stream",
     "text": [
      "[[1.         0.         0.         0.        ]\n",
      " [0.98585104 0.         0.00676944 0.02413536]\n",
      " [0.95044581 0.         0.02458012 0.08145108]\n",
      " ...\n",
      " [0.         0.         0.         0.        ]\n",
      " [0.         0.         0.         0.        ]\n",
      " [0.         0.         0.         0.        ]]\n",
      "[6. 0. 3. 3.]\n"
     ]
    }
   ],
   "source": [
    "# Check to make sure we have the right boundary conditions\n",
    "a = c.out_array*c.bc_mask\n",
    "ind = a > 0\n",
    "\n",
    "print(a) # should be pressure, phi_g, and mw only\n",
    "print(sum(c.bc_mask)) # should have twice as many for p as for phi_g and mw (b/c p is top and bottom bc)"
   ]
  },
  {
   "cell_type": "code",
   "execution_count": 11,
   "id": "under-blowing",
   "metadata": {},
   "outputs": [
    {
     "data": {
      "image/png": "[encoded data removed]",
      "text/plain": [
       "<Figure size 1080x216 with 4 Axes>"
      ]
     },
     "metadata": {
      "needs_background": "light"
     },
     "output_type": "display_data"
    }
   ],
   "source": [
    "# Plot example model realizations\n",
    "c.plot()  "
   ]
  },
  {
   "cell_type": "markdown",
   "id": "suitable-robert",
   "metadata": {},
   "source": [
    "### Set up model"
   ]
  },
  {
   "cell_type": "code",
   "execution_count": 12,
   "id": "detailed-background",
   "metadata": {},
   "outputs": [],
   "source": [
    "# Neural network model\n",
    "\n",
    "class PDENeuralNet(tf.keras.Model):\n",
    "  def __init__(self, n_inputs, n_outputs):\n",
    "    super().__init__()\n",
    "    \n",
    "    self.n_inputs = n_inputs\n",
    "    self.n_outputs = n_outputs\n",
    "  \n",
    "    self.nn_model = tf.keras.Sequential([\n",
    "      Dense(100, activation=tf.nn.elu),\n",
    "      Dense(100, activation=tf.nn.elu),\n",
    "      Dense(40, activation=tf.nn.elu),\n",
    "      Dense(30, activation=tf.nn.elu),\n",
    "      Dense(10, activation=tf.nn.elu),\n",
    "      Dense(self.n_outputs, activation=None), # No activation last layer matches PINN paper\n",
    "    ])\n",
    "\n",
    "    self(tf.zeros([1, self.n_inputs]))  # dummy call to build the model\n",
    "\n",
    "  @tf.function\n",
    "  def call(self, x):\n",
    "    z = self.nn_model(x)\n",
    "    return z"
   ]
  },
  {
   "cell_type": "code",
   "execution_count": 13,
   "id": "abandoned-future",
   "metadata": {},
   "outputs": [],
   "source": [
    "# Neural network parameters\n",
    "N_INPUTS = 2\n",
    "N_OUTPUTS = 4\n"
   ]
  },
  {
   "cell_type": "code",
   "execution_count": 18,
   "id": "stainless-spiritual",
   "metadata": {},
   "outputs": [],
   "source": [
    "def get_optimzer(type=\"Adam\", lr=2e-3):\n",
    "  \"\"\"Sets up NN model optimizer\"\"\"\n",
    "  if type==\"Adam\":\n",
    "    trainer = tf.keras.optimizers.Adam(learning_rate = lr)\n",
    "  else:\n",
    "    trainer = tf.keras.optimizers.SGD(learning_rate = lr)\n",
    "  return trainer\n",
    "\n",
    "trainer = get_optimzer()\n",
    "\n",
    "def get_conduit_vals(p, u, A):\n",
    "  \n",
    "  raise NotImplementedError\n",
    "\n",
    "  return \n",
    "\n",
    "\n",
    "def get_physics(y, v, dvdy, modelparams):\n",
    "  \"\"\"Get the the governing equations.\n",
    "  Inputs:\n",
    "    y: (N x 2) tensor of (z,t) pairs\n",
    "    v: (N x 4) tensor of (p,v,phi_g,m_g) primary conduit variables\n",
    "    dvdy: 4 element list of gradients\n",
    "    modelparams: dictionary of model parameters\n",
    "  Returns:\n",
    "    F: (N x M) tensor for the M governing equations for each of the N samples.\n",
    "       Each entry should equal zero if the physics are satisfied.\n",
    "  \n",
    "  See the note at the bottom of this notebook for an explanation.\n",
    "  \"\"\"\n",
    " \n",
    "  z, t = split_tensor(y)\n",
    "  conduit_values = [val for val in split_tensor(v)]\n",
    "  conduit_variables = {var : conduit_values[i] for i, var \n",
    "                       in enumerate(conduit_model_data_handler.conduit_var_names)}\n",
    "  conduit_gradients = {var : {\"z\" : dvdy[i][:,0][:,None] , \"t\" : dvdy[i][:,0][:,None]} \n",
    "                       for i, var in enumerate(conduit_model_data_handler.conduit_var_names)}\n",
    "  \n",
    "  # Variables are accessible in the conduit_variables dictionary by key equal to their variable name\n",
    "  #    e.g. conduit_variables[\"p\"] is (Nx1) tensor for pressure\n",
    "  # Gradients are accessible in the \"conduit_gradients\" two-level dictionary. First key is variable name;\n",
    "  # second is the variable with respect to which to take the derivative.\n",
    "  #    e.g. conduit_gradients[\"p\"][\"t\"] is (Nx1) tensor for dpdt\n",
    "  # Feel free to rename these variables/use as desired!\n",
    "  \n",
    "  ####### YING QI'S CODE HERE #############\n",
    "  F, msl, mh2o, mco2, iplug, mbe, phi, h2o, co2, rho = domegoveqn.ssc(z, conduit_variables, conduit_gradients, modelparams)\n",
    "  \n",
    "  \n",
    "  #########################################\n",
    "  #raise NotImplementedError\n",
    "  \n",
    "  return F\n",
    "\n",
    "def split_tensor(tensor):\n",
    "  \"\"\"Splits NxM tensor into M Nx1 dimensional tensors\"\"\"\n",
    "  vectors = tf.unstack(tensor,axis=1)\n",
    "  for v in vectors:\n",
    "    yield v[:,None]\n",
    "  \n",
    "  \n",
    "def conduit_loss(y, v, dvdy, c, iteration):\n",
    "  \"\"\"Calculate the loss function\"\"\"\n",
    "  \n",
    "  # Start training by just trying to match the matlab output\n",
    "  if iteration < N_DATA_STEPS:    \n",
    "    loss = tf.reduce_mean(tf.square(v - c.out_array))\n",
    "    \n",
    "  # After a certain number of steps, switch to a \"physics-informed\" loss\n",
    "  else:\n",
    "    # We can multiply each of the equations by a constant to make sure they are\n",
    "    # weighted equally (i.e. do a simple normalization)\n",
    "    loss_multipliers = tf.constant([1, 1, 1, 1], dtype=tf.float32)\n",
    "    \n",
    "    # F should be (Nx4), for the 4 governing equations\n",
    "    F = get_physics(y, v, dvdy, c.model_params)\n",
    "    \n",
    "    # loss_multipliers will broadcast to multiply F\n",
    "    physics_loss = tf.reduce_mean(tf.square(F*loss_multipliers))\n",
    "    \n",
    "    # Boundary condition loss. We use a binary mask to mask out all contributions\n",
    "    # except for the values that represent the boundary conditions. (Note this\n",
    "    # assumes that the matlab solution [in c.out_array] satisfied the BCs.)\n",
    "    bc_loss = tf.reduce_mean(tf.square(v - c.out_array) * c.bc_mask)\n",
    "    \n",
    "    loss = physics_loss + bc_loss\n",
    " \n",
    "  return loss\n",
    "      \n",
    "def train(model, y, c, loss_func):\n",
    "  trainer = get_optimzer()\n",
    "  \n",
    "  loss_best = 1e6 # arbitrary high number\n",
    "  \n",
    "  lr_counter = 0\n",
    "  \n",
    "  # Iterate over epochs\n",
    "  for i in tqdm.trange(N_ITER, desc=\"Training\"):\n",
    "    with tf.GradientTape(persistent=True) as t:\n",
    "      t.watch(y)\n",
    "      \n",
    "      # forward pass of the model\n",
    "      v = model(y)\n",
    "\n",
    "      outs = [tensor for tensor in split_tensor(v)]\n",
    "      \n",
    "      # get gradients with respect to y\n",
    "      dvdy = []\n",
    "      for j in range(len(outs)):\n",
    "        dvdy.append(t.gradient(outs[j],y))\n",
    "\n",
    "      # Calculate loss\n",
    "      loss = loss_func(y, v, dvdy, c, i)\n",
    "    \n",
    "    # Reduce the learning rate if we hit a plateau\n",
    "    if loss < 0.9*loss_best:\n",
    "      lr_counter = 0\n",
    "      loss_best = loss\n",
    "    else:\n",
    "      lr_counter += 1\n",
    "      \n",
    "    if lr_counter > 1000:\n",
    "      print(\"Reducing learning rate\")\n",
    "      lr_counter = 0\n",
    "      learning_rate = trainer.lr.numpy()*0.5\n",
    "      trainer.lr.assign(learning_rate)\n",
    "      \n",
    " \n",
    "    # Get gradients for model\n",
    "    gradients = t.gradient(loss, model.weights)\n",
    "\n",
    "    # Switch to new optimzer when we switch loss functions (see loss definition)\n",
    "    if i == N_DATA_STEPS:\n",
    "      trainer = get_optimzer(\"SGD\")\n",
    "      \n",
    "    # Apply gradients to model\n",
    "    trainer.apply_gradients(zip(gradients, model.weights))\n",
    " \n",
    "    # Plot every so often\n",
    "    if i % 1000 == 0:\n",
    "      \n",
    "      print(f\"Step {i} loss is {loss}\")\n",
    "\n",
    "      c.plot(out_array2=v.numpy())  \n",
    "\n",
    "\n",
    "    "
   ]
  },
  {
   "cell_type": "code",
   "execution_count": 20,
   "id": "tender-specific",
   "metadata": {},
   "outputs": [
    {
     "name": "stderr",
     "output_type": "stream",
     "text": [
      "Training:   0%|          | 0/100000 [00:00<?, ?it/s]"
     ]
    },
    {
     "name": "stdout",
     "output_type": "stream",
     "text": [
      "Step 0 loss is 0.28273966908454895\n"
     ]
    },
    {
     "data": {
      "image/png": "[encoded data removed]",
      "text/plain": [
       "<Figure size 1080x216 with 4 Axes>"
      ]
     },
     "metadata": {
      "needs_background": "light"
     },
     "output_type": "display_data"
    },
    {
     "name": "stderr",
     "output_type": "stream",
     "text": [
      "Training:   1%|          | 1000/100000 [00:11<18:33, 88.91it/s]\n"
     ]
    },
    {
     "ename": "KeyError",
     "evalue": "'mh'",
     "output_type": "error",
     "traceback": [
      "\u001b[0;31m---------------------------------------------------------------------------\u001b[0m",
      "\u001b[0;31mKeyError\u001b[0m                                  Traceback (most recent call last)",
      "\u001b[0;32m<ipython-input-20-d3f9842ef412>\u001b[0m in \u001b[0;36m<module>\u001b[0;34m\u001b[0m\n\u001b[1;32m      4\u001b[0m \u001b[0mconduit_nn\u001b[0m \u001b[0;34m=\u001b[0m \u001b[0mPDENeuralNet\u001b[0m\u001b[0;34m(\u001b[0m\u001b[0mN_INPUTS\u001b[0m\u001b[0;34m,\u001b[0m\u001b[0mN_OUTPUTS\u001b[0m\u001b[0;34m)\u001b[0m \u001b[0;31m# First output is pressure, second is u\u001b[0m\u001b[0;34m\u001b[0m\u001b[0;34m\u001b[0m\u001b[0m\n\u001b[1;32m      5\u001b[0m \u001b[0;34m\u001b[0m\u001b[0m\n\u001b[0;32m----> 6\u001b[0;31m \u001b[0mtrain\u001b[0m\u001b[0;34m(\u001b[0m\u001b[0mconduit_nn\u001b[0m\u001b[0;34m,\u001b[0m \u001b[0mtf\u001b[0m\u001b[0;34m.\u001b[0m\u001b[0mconvert_to_tensor\u001b[0m\u001b[0;34m(\u001b[0m\u001b[0mc\u001b[0m\u001b[0;34m.\u001b[0m\u001b[0min_array\u001b[0m\u001b[0;34m)\u001b[0m\u001b[0;34m,\u001b[0m \u001b[0mc\u001b[0m\u001b[0;34m,\u001b[0m \u001b[0mconduit_loss\u001b[0m\u001b[0;34m)\u001b[0m\u001b[0;34m\u001b[0m\u001b[0;34m\u001b[0m\u001b[0m\n\u001b[0m",
      "\u001b[0;32m<ipython-input-18-4013de6e86e9>\u001b[0m in \u001b[0;36mtrain\u001b[0;34m(model, y, c, loss_func)\u001b[0m\n\u001b[1;32m    111\u001b[0m \u001b[0;34m\u001b[0m\u001b[0m\n\u001b[1;32m    112\u001b[0m       \u001b[0;31m# Calculate loss\u001b[0m\u001b[0;34m\u001b[0m\u001b[0;34m\u001b[0m\u001b[0;34m\u001b[0m\u001b[0m\n\u001b[0;32m--> 113\u001b[0;31m       \u001b[0mloss\u001b[0m \u001b[0;34m=\u001b[0m \u001b[0mloss_func\u001b[0m\u001b[0;34m(\u001b[0m\u001b[0my\u001b[0m\u001b[0;34m,\u001b[0m \u001b[0mv\u001b[0m\u001b[0;34m,\u001b[0m \u001b[0mdvdy\u001b[0m\u001b[0;34m,\u001b[0m \u001b[0mc\u001b[0m\u001b[0;34m,\u001b[0m \u001b[0mi\u001b[0m\u001b[0;34m)\u001b[0m\u001b[0;34m\u001b[0m\u001b[0;34m\u001b[0m\u001b[0m\n\u001b[0m\u001b[1;32m    114\u001b[0m \u001b[0;34m\u001b[0m\u001b[0m\n\u001b[1;32m    115\u001b[0m     \u001b[0;31m# Reduce the learning rate if we hit a plateau\u001b[0m\u001b[0;34m\u001b[0m\u001b[0;34m\u001b[0m\u001b[0;34m\u001b[0m\u001b[0m\n",
      "\u001b[0;32m<ipython-input-18-4013de6e86e9>\u001b[0m in \u001b[0;36mconduit_loss\u001b[0;34m(y, v, dvdy, c, iteration)\u001b[0m\n\u001b[1;32m     74\u001b[0m \u001b[0;34m\u001b[0m\u001b[0m\n\u001b[1;32m     75\u001b[0m     \u001b[0;31m# F should be (Nx4), for the 4 governing equations\u001b[0m\u001b[0;34m\u001b[0m\u001b[0;34m\u001b[0m\u001b[0;34m\u001b[0m\u001b[0m\n\u001b[0;32m---> 76\u001b[0;31m     \u001b[0mF\u001b[0m \u001b[0;34m=\u001b[0m \u001b[0mget_physics\u001b[0m\u001b[0;34m(\u001b[0m\u001b[0my\u001b[0m\u001b[0;34m,\u001b[0m \u001b[0mv\u001b[0m\u001b[0;34m,\u001b[0m \u001b[0mdvdy\u001b[0m\u001b[0;34m,\u001b[0m \u001b[0mc\u001b[0m\u001b[0;34m.\u001b[0m\u001b[0mmodel_params\u001b[0m\u001b[0;34m)\u001b[0m\u001b[0;34m\u001b[0m\u001b[0;34m\u001b[0m\u001b[0m\n\u001b[0m\u001b[1;32m     77\u001b[0m \u001b[0;34m\u001b[0m\u001b[0m\n\u001b[1;32m     78\u001b[0m     \u001b[0;31m# loss_multipliers will broadcast to multiply F\u001b[0m\u001b[0;34m\u001b[0m\u001b[0;34m\u001b[0m\u001b[0;34m\u001b[0m\u001b[0m\n",
      "\u001b[0;32m<ipython-input-18-4013de6e86e9>\u001b[0m in \u001b[0;36mget_physics\u001b[0;34m(y, v, dvdy, modelparams)\u001b[0m\n\u001b[1;32m     45\u001b[0m \u001b[0;34m\u001b[0m\u001b[0m\n\u001b[1;32m     46\u001b[0m   \u001b[0;31m####### YING QI'S CODE HERE #############\u001b[0m\u001b[0;34m\u001b[0m\u001b[0;34m\u001b[0m\u001b[0;34m\u001b[0m\u001b[0m\n\u001b[0;32m---> 47\u001b[0;31m   \u001b[0mF\u001b[0m\u001b[0;34m,\u001b[0m \u001b[0mmsl\u001b[0m\u001b[0;34m,\u001b[0m \u001b[0mmh2o\u001b[0m\u001b[0;34m,\u001b[0m \u001b[0mmco2\u001b[0m\u001b[0;34m,\u001b[0m \u001b[0miplug\u001b[0m\u001b[0;34m,\u001b[0m \u001b[0mmbe\u001b[0m\u001b[0;34m,\u001b[0m \u001b[0mphi\u001b[0m\u001b[0;34m,\u001b[0m \u001b[0mh2o\u001b[0m\u001b[0;34m,\u001b[0m \u001b[0mco2\u001b[0m\u001b[0;34m,\u001b[0m \u001b[0mrho\u001b[0m \u001b[0;34m=\u001b[0m \u001b[0mdomegoveqn\u001b[0m\u001b[0;34m.\u001b[0m\u001b[0mssc\u001b[0m\u001b[0;34m(\u001b[0m\u001b[0mz\u001b[0m\u001b[0;34m,\u001b[0m \u001b[0mconduit_variables\u001b[0m\u001b[0;34m,\u001b[0m \u001b[0mconduit_gradients\u001b[0m\u001b[0;34m,\u001b[0m \u001b[0mmodelparams\u001b[0m\u001b[0;34m)\u001b[0m\u001b[0;34m\u001b[0m\u001b[0;34m\u001b[0m\u001b[0m\n\u001b[0m\u001b[1;32m     48\u001b[0m \u001b[0;34m\u001b[0m\u001b[0m\n\u001b[1;32m     49\u001b[0m \u001b[0;34m\u001b[0m\u001b[0m\n",
      "\u001b[0;32m~/Research/neural_conduit/domegoveqn.py\u001b[0m in \u001b[0;36mssc\u001b[0;34m(z, var, grad, m)\u001b[0m\n\u001b[1;32m     21\u001b[0m \u001b[0;34m\u001b[0m\u001b[0m\n\u001b[1;32m     22\u001b[0m     \u001b[0;31m# necessary constitutive relations\u001b[0m\u001b[0;34m\u001b[0m\u001b[0;34m\u001b[0m\u001b[0;34m\u001b[0m\u001b[0m\n\u001b[0;32m---> 23\u001b[0;31m     \u001b[0mh2o\u001b[0m\u001b[0;34m,\u001b[0m \u001b[0mco2\u001b[0m\u001b[0;34m,\u001b[0m \u001b[0mc\u001b[0m\u001b[0;34m,\u001b[0m \u001b[0mphi\u001b[0m\u001b[0;34m,\u001b[0m \u001b[0mrho\u001b[0m \u001b[0;34m=\u001b[0m \u001b[0mdensity\u001b[0m\u001b[0;34m(\u001b[0m\u001b[0mvar\u001b[0m\u001b[0;34m[\u001b[0m\u001b[0;34m'p'\u001b[0m\u001b[0;34m]\u001b[0m\u001b[0;34m,\u001b[0m \u001b[0mvar\u001b[0m\u001b[0;34m[\u001b[0m\u001b[0;34m'phi_g'\u001b[0m\u001b[0;34m]\u001b[0m\u001b[0;34m,\u001b[0m \u001b[0mvar\u001b[0m\u001b[0;34m[\u001b[0m\u001b[0;34m'mh'\u001b[0m\u001b[0;34m]\u001b[0m\u001b[0;34m,\u001b[0m \u001b[0mm\u001b[0m\u001b[0;34m)\u001b[0m\u001b[0;34m\u001b[0m\u001b[0;34m\u001b[0m\u001b[0m\n\u001b[0m\u001b[1;32m     24\u001b[0m     \u001b[0mgamma\u001b[0m \u001b[0;34m=\u001b[0m \u001b[0mexsolvedco2h2o\u001b[0m\u001b[0;34m(\u001b[0m\u001b[0mvar\u001b[0m\u001b[0;34m[\u001b[0m\u001b[0;34m'mh'\u001b[0m\u001b[0;34m]\u001b[0m\u001b[0;34m,\u001b[0m\u001b[0mm\u001b[0m\u001b[0;34m)\u001b[0m\u001b[0;34m\u001b[0m\u001b[0;34m\u001b[0m\u001b[0m\n\u001b[1;32m     25\u001b[0m     \u001b[0mdegas\u001b[0m \u001b[0;34m=\u001b[0m \u001b[0;36m1.\u001b[0m\u001b[0;34m\u001b[0m\u001b[0;34m\u001b[0m\u001b[0m\n",
      "\u001b[0;31mKeyError\u001b[0m: 'mh'"
     ]
    }
   ],
   "source": [
    "N_ITER=100000\n",
    "N_DATA_STEPS=1000\n",
    "\n",
    "conduit_nn = PDENeuralNet(N_INPUTS,N_OUTPUTS) # First output is pressure, second is u\n",
    "\n",
    "train(conduit_nn, tf.convert_to_tensor(c.in_array), c, conduit_loss)\n"
   ]
  },
  {
   "cell_type": "markdown",
   "id": "waiting-skiing",
   "metadata": {},
   "source": [
    "# How to add the physics"
   ]
  },
  {
   "cell_type": "markdown",
   "id": "hungry-senator",
   "metadata": {},
   "source": [
    "As a reminder, the neural network is set up to mimic the function $f(z,t) = [p, v, \\phi_g, m_h](z,t)$, which is a map $\\mathbb{R}^2 \\to \\mathbb{R}^4$.\n",
    "\n",
    "In practice, we train the neural network with a \"batch\" of $(z,t)$ samples. This adds an extra dimension to the tensors being passed in and out of the model, where different elements of a batch are stacked along the first axis. Therefore, during training we expect inputs of size $(N,2)$ (2 because of z and t) and outputs of size $(N,4)$ (4 because of the conduit model outputs), where $N$ is the batch size.\n",
    "\n",
    "## Steady-State Governing Equations\n",
    "\n",
    "We can write the governing equations for the steady-state conduit model in the form (YQ is working on this)\n",
    "\n",
    "$$F(z, [\\nu, \\partial_z \\nu]) = 0$$\n",
    "\n",
    "where $F$ is a matrix of size $(M,1)$ governing equations and $[\\nu, \\partial_z \\nu]$ is a 8-element vector containing the primary conduit variables and their gradients with respect to $z$, e.g. a vector $[p, v, \\phi_g, m_h, \\partial_z p, \\partial_z v, \\partial_z \\phi_g, \\partial_z m_h]$. If we want to write this as a matrix-vector equation, we can express it as \n",
    "\n",
    "$$ F(z, [\\nu, \\partial_z \\nu]) = J(z, \\nu) \\frac{\\partial \\nu}{\\partial z} + Q(z, \\nu, \\partial_z p) = 0, $$\n",
    "\n",
    "where $ J(z, \\nu)$ is a matrix of size $(M,4)$ containing the coefficients for $\\partial_z \\nu$ in the $M$ governing equations. However, one issue is that in the  momentum balance equation, $\\partial_z p$ appears in the sinh function for the frictional velocity and is therefore not linear in $\\partial_z p$, thus  $Q_{mbe}$ does contain the $\\partial_z p$ term. \n",
    "\n",
    "**Q for Ben**: can we just rewrite the equations in the form $F(z, \\nu) = 0$, instead of $J(z, \\nu) \\frac{\\partial \\nu}{\\partial z} + Q(\\nu) = 0$? Since $Q(\\nu)$ is so weird and contains $\\partial_z p$. Seems like the loss only calculates $F$ anyway. Maybe it would help if you just write down what the loss calculation would be?\n",
    "\n",
    "Also, how to implement boundary conditions?\n",
    "\n",
    "**A for YQ**: yes! We can definitely do that. No tensorflow reason to do one or the other -- I just figured you would have written the equations in the $J$, etc. way in your matlab code. I've re-written the loss function to show how that's done.\n",
    "\n",
    "The tensorflow code will produce conduit variables and their associated derivatives of size (N x 1) (where $N$ is the batch size). From these variables it is easy to assemble the vector $\\nu$.\n",
    "\n",
    "**What we still need:** a function that takes in these variables and gradients, and assembles the matrix $J$. \n",
    "\n",
    "Note that because of the batch dimension, $J$ will no longer be of size $(M,12)$, but should be of size $(N,M,12)$. We can then take this tensor and multiply it with $\\nu$ to get the governing equations.\n",
    "\n",
    "\n",
    "\n",
    "\n",
    "## Time-Dependent Governing Equations\n",
    "The time-dependent governing equations can be rewritten as \n",
    "\n",
    "$$H(t, z, [\\nu, \\partial_z \\nu, \\partial_t \\nu]) = 0, $$\n",
    "\n",
    "where $H$ is a matrix of size $(M,1)$ governing equations and $[\\nu, \\partial_z \\nu, \\partial_t \\nu]$ is now a 12-element vector containing the primary conduit variables and their gradients with respect to $z$, e.g. a vector $[p, v, \\phi_g, m_h, \\partial_z p, \\partial_z v, \\partial_z \\phi_g, \\partial_z m_h, \\partial_t p, \\partial_t v, \\partial_t \\phi_g, \\partial_t m_h]$. We can actually reduce this by one because $ \\partial_t v$ does not appear in the governing equations due to low Reynolds number. But wait. Will this result in velocities being constant over time? The assumption here is that $v$ depends on the phase fractions and other properties, not on the inertial term.\n",
    "\n",
    "If we want to write this as a matrix-vector equation, we can express it as \n",
    "\n",
    "$$ H(t, z, [\\nu, \\partial_z \\nu, \\partial_t \\nu]) =  M(t, z, \\nu) \\frac{\\partial \\nu}{\\partial t} -  J(t, z, \\nu) \\frac{\\partial \\nu}{\\partial z} - Q(t, z, \\nu, \\partial_z p) = 0, $$"
   ]
  },
  {
   "cell_type": "markdown",
   "id": "collective-flashing",
   "metadata": {},
   "source": [
    "### Some numpy manipulations to show how to do the math once we have $J$ and $\\nu$"
   ]
  },
  {
   "cell_type": "code",
   "execution_count": 46,
   "id": "outside-arrest",
   "metadata": {},
   "outputs": [],
   "source": [
    "J = np.arange(5*3*4).reshape(5,3,4)\n",
    "nu = np.arange(5*4).reshape(5,4)\n",
    "result = np.zeros((5,3))"
   ]
  },
  {
   "cell_type": "code",
   "execution_count": 57,
   "id": "portuguese-composite",
   "metadata": {},
   "outputs": [
    {
     "name": "stdout",
     "output_type": "stream",
     "text": [
      "[[  14.   38.   62.]\n",
      " [ 302.  390.  478.]\n",
      " [ 974. 1126. 1278.]\n",
      " [2030. 2246. 2462.]\n",
      " [3470. 3750. 4030.]]\n"
     ]
    }
   ],
   "source": [
    "for i in range(5):\n",
    "  result[i,:] = J[i,:,:].dot(nu[i,:])\n",
    "print(result)"
   ]
  },
  {
   "cell_type": "code",
   "execution_count": 58,
   "id": "unsigned-princess",
   "metadata": {},
   "outputs": [
    {
     "name": "stdout",
     "output_type": "stream",
     "text": [
      "[[  14   38   62]\n",
      " [ 302  390  478]\n",
      " [ 974 1126 1278]\n",
      " [2030 2246 2462]\n",
      " [3470 3750 4030]]\n"
     ]
    }
   ],
   "source": [
    "# Faster (?) alternative\n",
    "result2 = np.einsum('ijk,ik->ij',J,nu)\n",
    "print(result2)"
   ]
  },
  {
   "cell_type": "code",
   "execution_count": 55,
   "id": "linear-causing",
   "metadata": {},
   "outputs": [
    {
     "data": {
      "text/plain": [
       "array([[ True,  True,  True],\n",
       "       [ True,  True,  True],\n",
       "       [ True,  True,  True],\n",
       "       [ True,  True,  True],\n",
       "       [ True,  True,  True]])"
      ]
     },
     "execution_count": 55,
     "metadata": {},
     "output_type": "execute_result"
    }
   ],
   "source": [
    "result == result2"
   ]
  },
  {
   "cell_type": "code",
   "execution_count": null,
   "id": "curious-produce",
   "metadata": {},
   "outputs": [],
   "source": []
  }
 ],
 "metadata": {
  "kernelspec": {
   "display_name": "nc_venv",
   "language": "python",
   "name": "nc_venv"
  },
  "language_info": {
   "codemirror_mode": {
    "name": "ipython",
    "version": 3
   },
   "file_extension": ".py",
   "mimetype": "text/x-python",
   "name": "python",
   "nbconvert_exporter": "python",
   "pygments_lexer": "ipython3",
   "version": "3.6.9"
  }
 },
 "nbformat": 4,
 "nbformat_minor": 5
}
