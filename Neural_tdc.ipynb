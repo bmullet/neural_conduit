{
 "cells": [
  {
   "cell_type": "markdown",
   "id": "understanding-mileage",
   "metadata": {},
   "source": [
    "# TIme depeNdent ConduiT flow neUral netwoRk Emulator (TINCTURE)\n",
    "\n",
    "A collaboration between Ying Qi Wong, PhD and Ben Mullet"
   ]
  },
  {
   "cell_type": "code",
   "execution_count": 1,
   "id": "spectacular-payday",
   "metadata": {},
   "outputs": [],
   "source": [
    "import hashlib\n",
    "import matplotlib.pyplot as plt\n",
    "import numpy as np\n",
    "import os\n",
    "import pathlib\n",
    "import pickle\n",
    "import tqdm\n",
    "import json\n",
    "import uuid\n",
    "\n",
    "import tensorflow as tf\n",
    "from tensorflow import keras\n",
    "from tensorflow.keras.layers import Dense\n",
    "\n",
    "import matlab.engine\n",
    "\n",
    "import domegoveqn\n",
    "import constitutive\n",
    "import utils"
   ]
  },
  {
   "cell_type": "code",
   "execution_count": 2,
   "id": "technical-reminder",
   "metadata": {},
   "outputs": [],
   "source": [
    "%load_ext autoreload\n",
    "%autoreload 2"
   ]
  },
  {
   "cell_type": "markdown",
   "id": "intended-tension",
   "metadata": {},
   "source": [
    "## Gather training data\n",
    "\n",
    "(This section is adapted from YQ's notebook \"RunModel\")"
   ]
  },
  {
   "cell_type": "code",
   "execution_count": 3,
   "id": "collect-joining",
   "metadata": {},
   "outputs": [],
   "source": [
    "eng = matlab.engine.start_matlab()\n",
    "\n",
    "path_to_domeconduit_code = \"/home/bmullet/Research/software/domeconduit/Code/\"  # on Ben's machine\n",
    "path_to_domeconduit_code = \"../domeconduit/Code/\"  # on YQ's machine\n",
    "\n",
    "eng.addpath (eng.genpath(path_to_domeconduit_code), nargout= 0 )"
   ]
  },
  {
   "cell_type": "code",
   "execution_count": null,
   "id": "sacred-packaging",
   "metadata": {},
   "outputs": [],
   "source": []
  },
  {
   "cell_type": "markdown",
   "id": "announced-hotel",
   "metadata": {},
   "source": [
    "### Run time-dependent conduit model by calling matlab functions \n",
    "\n",
    "First start matlab and add paths for model functions\n"
   ]
  },
  {
   "cell_type": "markdown",
   "id": "front-liberal",
   "metadata": {},
   "source": [
    "#### Run the full time-dependent model using default parameters"
   ]
  },
  {
   "cell_type": "code",
   "execution_count": 4,
   "id": "correct-graphics",
   "metadata": {},
   "outputs": [],
   "source": [
    "def n_by_1(array):\n",
    "  \"\"\"Transform array to Nx1\"\"\"\n",
    "  array = np.array(array)\n",
    "  \n",
    "  assert len(array.shape) <= 2, \"Array dim should be <= 2\"\n",
    "  \n",
    "  if len(array.shape) < 2:\n",
    "    array = array[:,np.newaxis]\n",
    "  \n",
    "  L, W = array.shape\n",
    "  if L < W:\n",
    "    array = array.T\n",
    "    \n",
    "  return array\n",
    "\n"
   ]
  },
  {
   "cell_type": "code",
   "execution_count": 31,
   "id": "atomic-market",
   "metadata": {},
   "outputs": [],
   "source": [
    "#TODO: Collect relevant pieces into a class that keeps list of inputs/outputs neat and clean\n",
    "\n",
    "# Global constants\n",
    "CONDUIT_VAR_NAMES = [\"p\", \"v\", \"phi_g\", \"mh\"] # TODO: change to mh\n",
    "#ACTIVATIONS = [tf.keras.backend.abs, tf.keras.backend.abs, tf.nn.sigmoid, tf.nn.sigmoid] # should match the order of CONDUIT_VAR_NAMES\n",
    "ACTIVATIONS = [tf.nn.sigmoid, tf.nn.sigmoid, tf.nn.sigmoid, tf.nn.sigmoid] # should match the order of CONDUIT_VAR_NAMES\n",
    "\n",
    "DEFAULT_PARAMS = eng.tdcFV('setdef', nargout=1)\n",
    "DEFAULT_PARAMS['phi_gc'] = 0\n",
    "MODEL_PARAM_VARIABLES = DEFAULT_PARAMS.keys()\n",
    "DATA_CACHE_DIR = \"./data_cache\"\n",
    "\n",
    "# Make sure the cache directory exists\n",
    "pathlib.Path(DATA_CACHE_DIR).mkdir(parents=False, exist_ok=True)\n",
    "\n",
    "def check_model_params(params):\n",
    "  \"\"\"\n",
    "  Makes sure an object is a valid params dict\n",
    "  \"\"\"\n",
    "  assert DEFAULT_PARAMS.keys() == params.keys(), \"model params dict is not valid\"\n",
    "\n",
    "class matlab_conduit_data_loader():\n",
    "  \n",
    "  # Default parameter\n",
    "  Nz = 401\n",
    "    \n",
    "  def __init__(self,\n",
    "               model_params=DEFAULT_PARAMS,\n",
    "               use_cache=True\n",
    "               ):\n",
    "    \n",
    "    check_model_params(model_params)\n",
    "    \n",
    "    self.model_params = model_params\n",
    "    \n",
    "    # Make a file name from hasing the input dictionary\n",
    "    hash_code = hashlib.sha1(json.dumps(self.model_params, sort_keys=True).encode()).hexdigest()\n",
    "    self.file_name = os.path.join(DATA_CACHE_DIR, hash_code)\n",
    "    \n",
    "    # Load data\n",
    "    loaded_data = False\n",
    "    if pathlib.Path(self.file_name).is_file() and use_cache:\n",
    "      # We've already computed this and cached the values, so load the cached data\n",
    "      try:\n",
    "        with open(self.file_name, \"rb\") as f:\n",
    "          saved_data = pickle.load(f)\n",
    "          self.ss     = saved_data['ss']\n",
    "          self.opts   = saved_data['opts']\n",
    "          self.ssflag = saved_data['ss_flag']\n",
    "        loaded_data = True\n",
    "      except Exception as e:\n",
    "        print(\"Caught Exception:\", e)\n",
    "        print(\"Cannot load data. Will generate it from scratch.\")\n",
    "        \n",
    "    if not loaded_data:\n",
    "      \n",
    "      # Compute data\n",
    "      #model_params['Nz'] = matlab_conduit_data_loader.Nz\n",
    "      \n",
    "      # run steady-state model - YQ I tried doing this but it couldn't work for some reason.\n",
    "      #model_params  = eng.tdcFV('ss_init', model_params, nargout=1)\n",
    "      #model_params['Nz'] = matlab_conduit_data_loader.Nz\n",
    "      #ss, opts, ssflag = eng.tdcFV('run_ssc_opts', model_params, nargout=3)\n",
    "      \n",
    "      #self.ss     = ss\n",
    "      #self.opts   = opts\n",
    "      #self.ssflag = ssflag\n",
    "      \n",
    "      ss, opts, ssflag = eng.tdcFV('run_ssc', model_params, nargout=3)\n",
    "      self.ss     = ss\n",
    "      self.opts   = constitutive.reformat_params(ss['m'])\n",
    "      self.ssflag = ssflag\n",
    "      \n",
    "      # Cache data\n",
    "      if use_cache:\n",
    "        with open(self.file_name, \"wb\") as f:\n",
    "          data_to_save = {\"ss\" : self.ss, \"opts\" : self.opts, \n",
    "                          \"ss_flag\": self.ssflag}\n",
    "          pickle.dump(data_to_save, f)\n",
    "  \n",
    "  def get_transformed_data(self):\n",
    "    return conduit_data_transformer(self)\n",
    "          \n",
    "\n",
    "class conduit_data_transformer():\n",
    "  # Transform matlab conduit data into python and TF objects\n",
    "  \n",
    " \n",
    "  def __init__(self, ml_conduit_data):\n",
    "    \n",
    "    # Extract the variables and gradients\n",
    "    self.vars, self.grads = utils.get_steady_state_vars_and_grads(ml_conduit_data.ss)\n",
    "    \n",
    "    self.opts = ml_conduit_data.opts\n",
    "  \n",
    "  def create_tf_dataset(self):\n",
    "    \n",
    "    # create a dict to store the data\n",
    "    tf_dict = {}\n",
    "    \n",
    "    # adds z, p, phi_g, v, m_w\n",
    "    tf_dict.update({key : np.squeeze(var).astype(np.float32) for key, var in self.vars.items()})\n",
    "    \n",
    "    # adds gradients as nested dictionaries\n",
    "    tf_dict[\"gradients\"] = {key : np.squeeze(grad).astype(np.float32) for key, grad in self.grads.items()}\n",
    "    \n",
    "    # adds model parameters.\n",
    "    uid = str(uuid.uuid4())\n",
    "    tf_dict[\"uuid\"] = uid\n",
    "    opts = { uid : self.opts }\n",
    "    \n",
    "    # Get boundary conditions\n",
    "    bottom_idx = np.argmin(tf_dict[\"z\"])\n",
    "    top_idx = np.argmax(tf_dict[\"z\"])\n",
    "    \n",
    "    # Conduit bottom boundary conditions are set on p, phi_g, and m_h (not v)\n",
    "    bottom_bcs = [\"p\", \"phi_g\", \"mh\"]\n",
    "    \n",
    "    # Conduit top boundary conditions are only set on p\n",
    "    top_bcs = [\"p\"]\n",
    "\n",
    "    # Creates a mask for those entries which are also boundary conditions\n",
    "    conduit_bcs = {}\n",
    "    for var in CONDUIT_VAR_NAMES:\n",
    "      conduit_bcs[var] = np.zeros_like(tf_dict[\"z\"]).astype(np.float32)\n",
    "      if var in bottom_bcs:\n",
    "        conduit_bcs[var][bottom_idx] = 1.0\n",
    "      if var in top_bcs:\n",
    "        conduit_bcs[var][top_idx] = 1.0\n",
    "    \n",
    "    tf_dict.update({\"boundary_conditions\" : conduit_bcs})\n",
    "    \n",
    "    # Create tf dataset\n",
    "    dataset = tf.data.Dataset.from_tensors(tf_dict)\n",
    "    \n",
    "    return dataset, opts\n",
    "  \n",
    "def data_assembler_template(opts, input_vars=[\"z\"], input_model_params=[], output_vars=CONDUIT_VAR_NAMES):\n",
    "  \"\"\"\n",
    "  Creates a convenience function for splitting the dataset\n",
    "  Inputs:\n",
    "    opts: dictionary of opts from different models\n",
    "    input_vars: list of primary vars (z, phi_g, mh, p, v) to include in input to model\n",
    "    input_model_params: list of model params to include in input to model\n",
    "    output_vars: list of primary vars (z, phi_g, mh, p, v) to predict with model\n",
    "    \n",
    "  Output:\n",
    "    data_assembler function\n",
    "  \"\"\"\n",
    "  \n",
    "  assert input_vars[0] == \"z\", \"First input variable needs to be z\"\n",
    "  \n",
    "  def data_assembler(dataset):\n",
    "    \"\"\"Convenience function for splitting up a tf.dataset\n",
    "    Inputs:\n",
    "      dataset: tf.dataset of the form created by conduit_data_transformer\n",
    "    Outputs:\n",
    "      model_input: tensor that matches input_vars\n",
    "      model_output: tensor that matches output_vars\n",
    "      model_output_gradients: d()/dz gradients for output_vars\n",
    "      model_params: dict of model_params tensors\n",
    "      boundary_conditions: boundary conditions tensor mask\n",
    "    \"\"\"\n",
    "    \n",
    "    assert len(batch[\"uuid\"]) == 1, \"Data assembler is only set up for batch size of 1\"\n",
    "    \n",
    "    uid = batch[\"uuid\"].numpy()[0].decode('utf-8')\n",
    "    \n",
    "    # Load the opts associated with this batch\n",
    "    batch_opts = opts[uid]\n",
    "    \n",
    "    # Create the input tensor\n",
    "    model_input = tf.stack([tf.squeeze(dataset[var]) for var in input_vars], axis=1)\n",
    "    \n",
    "    # Add model parameters if we want to use those to train the model\n",
    "    if len(input_model_params) > 0:\n",
    "      dummy_tensor = tf.ones([model_input.shape[0]], dtype=tf.float32)\n",
    "      model_input_model_params = tf.stack([dummy_tensor*batch_opts[var] for var in input_model_params], axis=1)\n",
    "      \n",
    "      model_input = tf.concat([model_input, model_input_model_params], axis=1)\n",
    "    \n",
    "    # Create the output tensor\n",
    "    model_output = tf.stack([tf.squeeze(dataset[var]) for var in output_vars], axis=1)\n",
    "\n",
    "    # Gradients. Again we need to squeeze and reshape to make sure we have Nx1 vectors\n",
    "    model_output_gradients = {key : tf.squeeze(grad)[:,None] for key, grad in dataset[\"gradients\"].items()}\n",
    "    \n",
    "    # Boundary conditions\n",
    "    boundary_conditions = tf.stack([tf.squeeze(dataset[\"boundary_conditions\"][var]) for var in output_vars], axis=1)\n",
    "    \n",
    "    return model_input, model_output, model_output_gradients, boundary_conditions, batch_opts\n",
    "  \n",
    "  return data_assembler\n",
    "\n",
    "def plot_batch(model_input, model_output_true, model_output_pred=None):\n",
    "    \"\"\"Plot some output, given in_array and out_array\"\"\"\n",
    "    \n",
    "    # Cast to numpy\n",
    "    if isinstance(model_input, tf.Tensor):\n",
    "      model_input = model_input.numpy()\n",
    "    if isinstance(model_output_true, tf.Tensor):\n",
    "      model_output_true = model_output_true.numpy()\n",
    "    if isinstance(model_output_pred, tf.Tensor):\n",
    "      model_output_pred = model_output_pred.numpy()\n",
    "      \n",
    "    z = model_input[:,0]\n",
    "    \n",
    "    plt.figure(figsize=(15, 3))\n",
    "    nsub = len(CONDUIT_VAR_NAMES)\n",
    "    \n",
    "    for i, var_name in enumerate(CONDUIT_VAR_NAMES):\n",
    "      arrayi = model_output_true[:,i]\n",
    "    \n",
    "      plt.subplot(1, nsub, i+1)\n",
    "      lines = plt.plot(arrayi, z)\n",
    "\n",
    "      if model_output_pred is not None:\n",
    "        arrayi2 = model_output_pred[:,i]\n",
    "        plt.plot(arrayi2, z, \"--r\")\n",
    "        \n",
    "      plt.xlabel(var_name)\n",
    "      plt.ylabel(\"z\")\n",
    "      \n",
    "    plt.tight_layout()\n",
    "    plt.show()\n",
    "\n",
    "class data_transformer():\n",
    "\n",
    "  def __init__(self, variable_bounds):\n",
    "    \"\"\"\n",
    "    Create functions to normalize (and undimensionalize) and unnormalize our data\n",
    "    Input:\n",
    "      variable_bounds: dict of maxes and mins for normalizing\n",
    "    Output:\n",
    "      to_nondim: function for nondimensionalizing data\n",
    "      to_dim: function for dimensionalizing data\n",
    "    \"\"\"\n",
    "\n",
    "    mins  = tf.constant([variable_bounds[var][\"min\"] for var in CONDUIT_VAR_NAMES], dtype=tf.float32)\n",
    "    maxes = tf.constant([variable_bounds[var][\"max\"] for var in CONDUIT_VAR_NAMES], dtype=tf.float32)\n",
    "\n",
    "    def to_nondim(dimensional_tensor):\n",
    "      return (dimensional_tensor - mins)/(maxes - mins)\n",
    "\n",
    "    def to_dim(nondimensional_tensor):\n",
    "      return (nondimensional_tensor*(maxes-mins) + mins)\n",
    "    \n",
    "    def to_nondim_z(x):\n",
    "      # Assumes that z is the first column of x\n",
    "      dimensional_z = x[:,0][:, None]\n",
    "      nondimensional_z = (dimensional_z - variable_bounds[\"z\"][\"min\"])/(variable_bounds[\"z\"][\"max\"] - variable_bounds[\"z\"][\"min\"])\n",
    "      return tf.concat([nondimensional_z, x[:,1:]], axis=1)\n",
    "    \n",
    "    def to_dim_z(x):\n",
    "      # Assumes that z is the first column of x\n",
    "      nondimensional_z = x[:,0][:, None]\n",
    "      dimensional_z = (nondimensional_z*(variable_bounds[\"z\"][\"max\"] - variable_bounds[\"z\"][\"min\"]) + variable_bounds[\"z\"][\"min\"])\n",
    "      return tf.concat([dimensional_z, x[:,1:]], axis=1)\n",
    "      \n",
    "    def unnormalize_z_gradient(nondimensional_gradient):\n",
    "      # Unnormalizes the z part of the gradient\n",
    "      return nondimensional_gradient/(variable_bounds[\"z\"][\"max\"] - variable_bounds[\"z\"][\"min\"])\n",
    "      \n",
    "    \n",
    "    self.to_nondim = to_nondim\n",
    "    self.to_dim = to_dim\n",
    "    self.to_nondim_z = to_nondim_z\n",
    "    self.to_dim_z = to_dim_z\n",
    "    self.unnormalize_z_gradient = unnormalize_z_gradient\n",
    "    "
   ]
  },
  {
   "cell_type": "code",
   "execution_count": 32,
   "id": "competitive-shuttle",
   "metadata": {},
   "outputs": [
    {
     "name": "stdout",
     "output_type": "stream",
     "text": [
      "tf.Tensor(\n",
      "[[-4.e+03  1.e+00  2.e+00  3.e+00]\n",
      " [ 0.e+00  4.e+00  5.e+00  6.e+00]], shape=(2, 4), dtype=float32)\n",
      "tf.Tensor(\n",
      "[[0. 1. 2. 3.]\n",
      " [1. 4. 5. 6.]], shape=(2, 4), dtype=float32)\n"
     ]
    },
    {
     "data": {
      "text/plain": [
       "{'min': -4000.0, 'max': -0.0}"
      ]
     },
     "execution_count": 32,
     "metadata": {},
     "output_type": "execute_result"
    }
   ],
   "source": [
    "f = tf.constant([[-4000,1,2,3],[0,4,5,6]], dtype = tf.float32)\n",
    "print(tf.concat([f[:,0][:,None], f[:,1:]], axis=1))\n",
    "dt = data_transformer(mins_and_maxes)\n",
    "print(dt.to_nondim_z(f))\n",
    "mins_and_maxes[\"z\"]"
   ]
  },
  {
   "cell_type": "code",
   "execution_count": 33,
   "id": "green-piece",
   "metadata": {},
   "outputs": [
    {
     "name": "stdout",
     "output_type": "stream",
     "text": [
      "['p', 'v', 'phi_g', 'mh']\n"
     ]
    }
   ],
   "source": [
    "print(CONDUIT_VAR_NAMES)\n",
    "\n",
    "c = matlab_conduit_data_loader(use_cache=True)\n",
    "d = c.get_transformed_data()"
   ]
  },
  {
   "cell_type": "code",
   "execution_count": 34,
   "id": "streaming-demographic",
   "metadata": {},
   "outputs": [
    {
     "name": "stdout",
     "output_type": "stream",
     "text": [
      "dict_keys(['fr', 'p_top', 'ch', 'R', 'g', 'conduit_length', 'Ti', 'T', 'rho_l', 'rho_hd', 'rho_cd', 'rho_s', 'rho_c', 'Rw', 'Rc', 'B', 'sig', 'plug_gas_loss', 'k_lat', 'eta_g', 'phydro', 'phi_gc', 'klw', 'model', 'p_ch', 'mw_ch', 'phi_g_ch', 'Nz', 'pf', 'chi_ch', 'kc', 'vvfrac_thr', 'vi'])\n"
     ]
    }
   ],
   "source": [
    "print(c.opts.keys())\n"
   ]
  },
  {
   "cell_type": "code",
   "execution_count": 35,
   "id": "sticky-delicious",
   "metadata": {},
   "outputs": [],
   "source": [
    "mins_and_maxes = {}\n",
    "for var in CONDUIT_VAR_NAMES + [\"z\"]:\n",
    "  mins_and_maxes[var] = {\n",
    "    \"min\" : np.min(d.vars[var]),\n",
    "    \"max\" : np.max(d.vars[var])}\n",
    "  \n",
    "normalizer = data_transformer(mins_and_maxes)"
   ]
  },
  {
   "cell_type": "code",
   "execution_count": 36,
   "id": "actual-publicity",
   "metadata": {},
   "outputs": [
    {
     "name": "stdout",
     "output_type": "stream",
     "text": [
      "dict_keys(['p', 'v', 'phi_g', 'mh', 'z', 'gradients', 'uuid', 'boundary_conditions'])\n",
      "TensorSpec(shape=(), dtype=tf.string, name=None)\n",
      "dict_keys(['d7bbd231-ab0d-4c10-ad14-21d0d3216870'])\n",
      "dict_keys(['fr', 'p_top', 'ch', 'R', 'g', 'conduit_length', 'Ti', 'T', 'rho_l', 'rho_hd', 'rho_cd', 'rho_s', 'rho_c', 'Rw', 'Rc', 'B', 'sig', 'plug_gas_loss', 'k_lat', 'eta_g', 'phydro', 'phi_gc', 'klw', 'model', 'p_ch', 'mw_ch', 'phi_g_ch', 'Nz', 'pf', 'chi_ch', 'kc', 'vvfrac_thr', 'vi'])\n"
     ]
    }
   ],
   "source": [
    "dataset, opts = d.create_tf_dataset()\n",
    "\n",
    "# Shows what one element of the dataset looks like\n",
    "print(dataset.element_spec.keys())\n",
    "print(dataset.element_spec[\"uuid\"])\n",
    "print(opts.keys())\n",
    "print(list(opts.values())[0].keys())"
   ]
  },
  {
   "cell_type": "code",
   "execution_count": 37,
   "id": "instant-chester",
   "metadata": {},
   "outputs": [
    {
     "data": {
      "image/png": "[encoded data removed]",
      "text/plain": [
       "<Figure size 1080x216 with 4 Axes>"
      ]
     },
     "metadata": {
      "needs_background": "light"
     },
     "output_type": "display_data"
    }
   ],
   "source": [
    "assembler = data_assembler_template(opts=opts, input_vars=[\"z\"], input_model_params=[], output_vars=CONDUIT_VAR_NAMES)\n",
    "batcher = dataset.batch(1)\n",
    "\n",
    "for batch in batcher:\n",
    "  model_input, model_output, model_output_gradients, boundary_conditions, batch_opts = assembler(batch)\n",
    "  plot_batch(model_input, model_output, model_output)\n",
    "  \n",
    "  break"
   ]
  },
  {
   "cell_type": "code",
   "execution_count": 38,
   "id": "intellectual-today",
   "metadata": {},
   "outputs": [
    {
     "name": "stdout",
     "output_type": "stream",
     "text": [
      "(601, 1)\n",
      "(601, 4)\n",
      "['p : (601, 1)', 'v : (601, 1)', 'phi_g : (601, 1)', 'mh : (601, 1)']\n",
      "(601, 4)\n"
     ]
    }
   ],
   "source": [
    "print(model_input.shape)\n",
    "print(model_output.shape)\n",
    "print([f\"{name} : {grad.shape}\" for name, grad in model_output_gradients.items()])\n",
    "print(boundary_conditions.shape)\n",
    "#print(model_input)"
   ]
  },
  {
   "cell_type": "markdown",
   "id": "seasonal-triumph",
   "metadata": {},
   "source": [
    "### Set up model"
   ]
  },
  {
   "cell_type": "code",
   "execution_count": 39,
   "id": "intellectual-plant",
   "metadata": {},
   "outputs": [],
   "source": [
    "# Neural network model\n",
    "\n",
    "class PDENeuralNet(tf.keras.Model):\n",
    "  def __init__(self, n_inputs, n_outputs, activations=None):\n",
    "    assert (isinstance(activations, list)) or (activations is None), \"Please provide a list of activations, if desired\"\n",
    "    \n",
    "    if activations is not None:\n",
    "      assert len(activations) == n_outputs, \"Please provide an activation layer for each output\"\n",
    "    \n",
    "    super().__init__()\n",
    "    \n",
    "    self.n_inputs = n_inputs\n",
    "    self.n_outputs = n_outputs\n",
    "    \n",
    "    # Define model\n",
    "    inputs = keras.Input(shape=(self.n_inputs,))\n",
    "    x = Dense(100, activation=tf.nn.elu)(inputs)\n",
    "    x = Dense(100, activation=tf.nn.elu)(x)\n",
    "    x = Dense(40, activation=tf.nn.elu)(x)\n",
    "    x = Dense(30, activation=tf.nn.elu)(x)\n",
    "    x = Dense(10, activation=tf.nn.elu)(x)\n",
    "    x = Dense(self.n_outputs, activation=None)(x)\n",
    "    \n",
    "    output = []\n",
    "    if activations is not None:\n",
    "      for xi, activation in zip(tf.unstack(x,axis=-1), activations):\n",
    "        output.append(activation(xi))\n",
    "      x = tf.stack(output, axis=1)\n",
    "    \n",
    "    self.nn_model = keras.Model(inputs=inputs, outputs=x, name=\"PDEModel\")\n",
    "        \n",
    "    self(tf.zeros([1, self.n_inputs]))  # dummy call to build the model\n",
    "\n",
    "  @tf.function\n",
    "  def call(self, x):\n",
    "    z = self.nn_model(x)\n",
    "    return z"
   ]
  },
  {
   "cell_type": "code",
   "execution_count": 40,
   "id": "natural-garden",
   "metadata": {},
   "outputs": [],
   "source": [
    "# Neural network parameters\n",
    "N_INPUTS = 1\n",
    "N_OUTPUTS = 4\n"
   ]
  },
  {
   "cell_type": "code",
   "execution_count": 41,
   "id": "clinical-california",
   "metadata": {},
   "outputs": [],
   "source": [
    "testmodel = PDENeuralNet(N_INPUTS, N_OUTPUTS, activations=ACTIVATIONS)"
   ]
  },
  {
   "cell_type": "code",
   "execution_count": 42,
   "id": "occupied-relative",
   "metadata": {},
   "outputs": [],
   "source": [
    "OUTPUT_SCALING = tf.constant([1e7, 1e-3, 1/3, 0.95], dtype=tf.float32) # A dumb normalization for scaling the loss\n",
    "\n",
    "def get_optimzer(type=\"Adam\", lr=2e-2):\n",
    "  \"\"\"Sets up NN model optimizer\"\"\"\n",
    "  if type==\"Adam\":\n",
    "    trainer = tf.keras.optimizers.Adam(learning_rate = lr)\n",
    "  else:\n",
    "    trainer = tf.keras.optimizers.SGD(learning_rate = lr)\n",
    "  return trainer\n",
    "\n",
    "trainer = get_optimzer()\n",
    "\n",
    "def get_conduit_vals(p, u, A):\n",
    "  \n",
    "  raise NotImplementedError\n",
    "\n",
    "  return \n",
    "\n",
    "\n",
    "def get_physics(x, y, dydx, batch_opts):\n",
    "  \"\"\"Get the the governing equations.\n",
    "  Inputs:\n",
    "    x: (N x K) tensor of (z, [input_variables]) \n",
    "    y: (N x 4) tensor of (p,v,phi_g,m_g) primary conduit variables\n",
    "    dydx: 4 element list of gradients\n",
    "    batch_opts: dictionary of model parameters\n",
    "  Returns:\n",
    "    F: (N x M) tensor for the M governing equations for each of the N samples.\n",
    "       Each entry should equal zero if the physics are satisfied.\n",
    "  \n",
    "  See the note at the bottom of this notebook for an explanation.\n",
    "  \"\"\"\n",
    "      \n",
    "  z = x[:,0][:,None] # Enforce Nx1\n",
    "  \n",
    "  conduit_values = [val for val in split_tensor(y)]\n",
    "  conduit_variables = {var : conduit_values[i] for i, var in enumerate(CONDUIT_VAR_NAMES)}\n",
    "  conduit_gradients = {var : {\"z\" : dydx[i][:,0][:,None]} \n",
    "                       for i, var in enumerate(CONDUIT_VAR_NAMES)}\n",
    "  \n",
    "  # Variables are accessible in the conduit_variables dictionary by key equal to their variable name\n",
    "  #    e.g. conduit_variables[\"p\"] is (Nx1) tensor for pressure\n",
    "  # Gradients are accessible in the \"conduit_gradients\" two-level dictionary. First key is variable name;\n",
    "  # second is the variable with respect to which to take the derivative.\n",
    "  #    e.g. conduit_gradients[\"p\"][\"t\"] is (Nx1) tensor for dpdt\n",
    "  # Feel free to rename these variables/use as desired!\n",
    "\n",
    "  ####### YING QI'S CODE HERE #############\n",
    "  F = domegoveqn.ssc(z, conduit_variables, conduit_gradients, batch_opts)\n",
    "  \n",
    "  \n",
    "  #########################################\n",
    "  #raise NotImplementedError\n",
    "  \n",
    "  return F\n",
    "\n",
    "def split_tensor(tensor):\n",
    "  \"\"\"Splits NxM tensor into M Nx1 dimensional tensors\"\"\"\n",
    "  vectors = tf.unstack(tensor,axis=1)\n",
    "  for v in vectors:\n",
    "    yield v[:,None]\n",
    "  \n",
    "  \n",
    "def conduit_loss(x, y, dydx, y_true, model_output_gradients, bc_mask, batch_opts, iteration):\n",
    "  \"\"\"Calculate the loss function\"\"\"\n",
    "  \n",
    "  # Start training by just trying to match the matlab output\n",
    "  if iteration < N_DATA_EPOCHS:    \n",
    "    \n",
    "    loss = tf.reduce_mean(tf.square((normalizer.to_nondim(y) - normalizer.to_nondim(y_true))))\n",
    "    \n",
    "  # After a certain number of steps, switch to a \"physics-informed\" loss\n",
    "  else:\n",
    "    # We can multiply each of the equations by a constant to make sure they are\n",
    "    # weighted equally (i.e. do a simple normalization)\n",
    "    loss_multipliers = tf.constant([1, 1, 1, 1], dtype=tf.float32)\n",
    "    \n",
    "    # F should be (Nx4), for the 4 governing equations\n",
    "    F = get_physics(x, y, dydx, batch_opts)\n",
    "    \n",
    "    # loss_multipliers will broadcast to multiply F\n",
    "    physics_loss = tf.reduce_mean(tf.square(F*loss_multipliers))\n",
    "    \n",
    "    # Boundary condition loss. We use a binary mask to mask out all contributions\n",
    "    # except for the values that represent the boundary conditions. (Note this\n",
    "    # assumes that the matlab solution [in y_truey] satisfied the BCs.)\n",
    "    bc_loss = tf.reduce_mean(tf.square(y - y_true) * bc_mask)\n",
    "    \n",
    "    loss = physics_loss + bc_loss\n",
    " \n",
    "  return loss\n",
    "      \n",
    "def train(model, dataset):\n",
    "  trainer = get_optimzer()\n",
    "  \n",
    "  assembler = data_assembler_template(opts, input_vars=[\"z\"], input_model_params=[], output_vars=CONDUIT_VAR_NAMES)\n",
    "  \n",
    "  loss_best = 1e6 # arbitrary high number\n",
    "  \n",
    "  lr_counter = 0\n",
    "  \n",
    "\n",
    "  # Iterate over epochs\n",
    "  for i in tqdm.trange(N_EPOCHS, desc=\"Training\"):\n",
    "    \n",
    "    batches = dataset.batch(601)\n",
    "    \n",
    "    # Iterate over training set\n",
    "    for batch in batches:\n",
    "      x, y_true, gradients_true, bc_mask, batch_opts = assembler(batch)\n",
    "      \n",
    "      x = normalizer.to_nondim_z(x)\n",
    "      \n",
    "      with tf.GradientTape(persistent=True) as t:\n",
    "        t.watch(x)\n",
    "\n",
    "        # forward pass of the model\n",
    "        y = model(x)\n",
    "        y = normalizer.to_dim(y) # output of the nn is non-dimensional\n",
    "        \n",
    "        x = normalizer.to_dim_z(x)\n",
    "        \n",
    "        outs = [tensor for tensor in split_tensor(y)]\n",
    "\n",
    "        # get gradients with respect to z\n",
    "        dydx = []\n",
    "        for j in range(len(outs)):\n",
    "          dydx.append(t.gradient(outs[j], x))\n",
    "\n",
    "        # Calculate loss\n",
    "        loss = conduit_loss(x, y, dydx, y_true, gradients_true, bc_mask, batch_opts, i)\n",
    "\n",
    "      # Reduce the learning rate if we hit a plateau\n",
    "      if loss < 0.9*loss_best:\n",
    "        lr_counter = 0\n",
    "        loss_best = loss\n",
    "      else:\n",
    "        lr_counter += 1\n",
    "\n",
    "      if lr_counter > 1000:\n",
    "        print(\"Reducing learning rate\")\n",
    "        lr_counter = 0\n",
    "        learning_rate = trainer.lr.numpy()*0.5\n",
    "        trainer.lr.assign(learning_rate)\n",
    "\n",
    "      # Get gradients for model\n",
    "      gradients = t.gradient(loss, model.weights)\n",
    "\n",
    "      # Switch to new optimzer when we switch loss functions (see loss definition)\n",
    "      if i == N_DATA_EPOCHS:\n",
    "        trainer = get_optimzer(\"SGD\")\n",
    "\n",
    "      # Apply gradients to model\n",
    "      trainer.apply_gradients(zip(gradients, model.weights))\n",
    "\n",
    "    # Plot every so often\n",
    "    if i % 1000 == 0:\n",
    "      print(f\"Step {i} loss is {loss}\")\n",
    "\n",
    "      plot_batch(x, y, y_true)\n",
    "\n",
    "    "
   ]
  },
  {
   "cell_type": "code",
   "execution_count": null,
   "id": "interpreted-vermont",
   "metadata": {},
   "outputs": [],
   "source": []
  },
  {
   "cell_type": "code",
   "execution_count": 43,
   "id": "center-palmer",
   "metadata": {},
   "outputs": [
    {
     "name": "stderr",
     "output_type": "stream",
     "text": [
      "Training:   0%|          | 0/100000 [00:00<?, ?it/s]"
     ]
    },
    {
     "name": "stdout",
     "output_type": "stream",
     "text": [
      "WARNING:tensorflow:Calling GradientTape.gradient on a persistent tape inside its context is significantly less efficient than calling it outside the context (it causes the gradient ops to be recorded on the tape, leading to increased CPU and memory usage). Only call GradientTape.gradient inside the context if you actually want to trace the gradient in order to compute higher order derivatives.\n",
      "Step 0 loss is 0.09460112452507019\n"
     ]
    },
    {
     "data": {
      "image/png": "[encoded data removed]",
      "text/plain": [
       "<Figure size 1080x216 with 4 Axes>"
      ]
     },
     "metadata": {
      "needs_background": "light"
     },
     "output_type": "display_data"
    },
    {
     "name": "stderr",
     "output_type": "stream",
     "text": [
      "Training:   1%|          | 996/100000 [00:21<33:45, 48.87it/s] "
     ]
    },
    {
     "name": "stdout",
     "output_type": "stream",
     "text": [
      "Step 1000 loss is 0.00016598132788203657\n"
     ]
    },
    {
     "data": {
      "image/png": "[encoded data removed]",
      "text/plain": [
       "<Figure size 1080x216 with 4 Axes>"
      ]
     },
     "metadata": {
      "needs_background": "light"
     },
     "output_type": "display_data"
    },
    {
     "name": "stderr",
     "output_type": "stream",
     "text": [
      "Training:   2%|▏         | 1996/100000 [00:41<33:37, 48.58it/s]"
     ]
    },
    {
     "name": "stdout",
     "output_type": "stream",
     "text": [
      "Step 2000 loss is 1.8294696928933263e-05\n"
     ]
    },
    {
     "data": {
      "image/png": "[encoded data removed]",
      "text/plain": [
       "<Figure size 1080x216 with 4 Axes>"
      ]
     },
     "metadata": {
      "needs_background": "light"
     },
     "output_type": "display_data"
    },
    {
     "name": "stderr",
     "output_type": "stream",
     "text": [
      "Training:   3%|▎         | 2999/100000 [01:02<32:31, 49.70it/s]  "
     ]
    },
    {
     "name": "stdout",
     "output_type": "stream",
     "text": [
      "Step 3000 loss is 1.8599035684019327e-05\n"
     ]
    },
    {
     "data": {
      "image/png": "[encoded data removed]",
      "text/plain": [
       "<Figure size 1080x216 with 4 Axes>"
      ]
     },
     "metadata": {
      "needs_background": "light"
     },
     "output_type": "display_data"
    },
    {
     "name": "stderr",
     "output_type": "stream",
     "text": [
      "Training:   4%|▍         | 3999/100000 [01:22<31:23, 50.98it/s]"
     ]
    },
    {
     "name": "stdout",
     "output_type": "stream",
     "text": [
      "Step 4000 loss is 1.3059724551567342e-05\n"
     ]
    },
    {
     "data": {
      "image/png": "[encoded data removed]",
      "text/plain": [
       "<Figure size 1080x216 with 4 Axes>"
      ]
     },
     "metadata": {
      "needs_background": "light"
     },
     "output_type": "display_data"
    },
    {
     "name": "stderr",
     "output_type": "stream",
     "text": [
      "Training:   4%|▍         | 4062/100000 [01:24<33:04, 48.35it/s]\n"
     ]
    },
    {
     "ename": "KeyboardInterrupt",
     "evalue": "",
     "output_type": "error",
     "traceback": [
      "\u001b[0;31m---------------------------------------------------------------------------\u001b[0m",
      "\u001b[0;31mKeyboardInterrupt\u001b[0m                         Traceback (most recent call last)",
      "\u001b[0;32m<ipython-input-43-feb53c1ef7eb>\u001b[0m in \u001b[0;36m<module>\u001b[0;34m\u001b[0m\n\u001b[1;32m      4\u001b[0m \u001b[0mconduit_nn\u001b[0m \u001b[0;34m=\u001b[0m \u001b[0mPDENeuralNet\u001b[0m\u001b[0;34m(\u001b[0m\u001b[0mN_INPUTS\u001b[0m\u001b[0;34m,\u001b[0m\u001b[0mN_OUTPUTS\u001b[0m\u001b[0;34m,\u001b[0m \u001b[0mactivations\u001b[0m\u001b[0;34m=\u001b[0m \u001b[0mACTIVATIONS\u001b[0m\u001b[0;34m)\u001b[0m \u001b[0;31m# should match the order of CONDUIT_VAR_NAMES) # First output is pressure, second is u\u001b[0m\u001b[0;34m\u001b[0m\u001b[0;34m\u001b[0m\u001b[0m\n\u001b[1;32m      5\u001b[0m \u001b[0;34m\u001b[0m\u001b[0m\n\u001b[0;32m----> 6\u001b[0;31m \u001b[0mtrain\u001b[0m\u001b[0;34m(\u001b[0m\u001b[0mconduit_nn\u001b[0m\u001b[0;34m,\u001b[0m \u001b[0mdataset\u001b[0m\u001b[0;34m)\u001b[0m\u001b[0;34m\u001b[0m\u001b[0;34m\u001b[0m\u001b[0m\n\u001b[0m",
      "\u001b[0;32m<ipython-input-42-22a09f4dfecf>\u001b[0m in \u001b[0;36mtrain\u001b[0;34m(model, dataset)\u001b[0m\n\u001b[1;32m    126\u001b[0m         \u001b[0mdydx\u001b[0m \u001b[0;34m=\u001b[0m \u001b[0;34m[\u001b[0m\u001b[0;34m]\u001b[0m\u001b[0;34m\u001b[0m\u001b[0;34m\u001b[0m\u001b[0m\n\u001b[1;32m    127\u001b[0m         \u001b[0;32mfor\u001b[0m \u001b[0mj\u001b[0m \u001b[0;32min\u001b[0m \u001b[0mrange\u001b[0m\u001b[0;34m(\u001b[0m\u001b[0mlen\u001b[0m\u001b[0;34m(\u001b[0m\u001b[0mouts\u001b[0m\u001b[0;34m)\u001b[0m\u001b[0;34m)\u001b[0m\u001b[0;34m:\u001b[0m\u001b[0;34m\u001b[0m\u001b[0;34m\u001b[0m\u001b[0m\n\u001b[0;32m--> 128\u001b[0;31m           \u001b[0mdydx\u001b[0m\u001b[0;34m.\u001b[0m\u001b[0mappend\u001b[0m\u001b[0;34m(\u001b[0m\u001b[0mt\u001b[0m\u001b[0;34m.\u001b[0m\u001b[0mgradient\u001b[0m\u001b[0;34m(\u001b[0m\u001b[0mouts\u001b[0m\u001b[0;34m[\u001b[0m\u001b[0mj\u001b[0m\u001b[0;34m]\u001b[0m\u001b[0;34m,\u001b[0m \u001b[0mx\u001b[0m\u001b[0;34m)\u001b[0m\u001b[0;34m)\u001b[0m\u001b[0;34m\u001b[0m\u001b[0;34m\u001b[0m\u001b[0m\n\u001b[0m\u001b[1;32m    129\u001b[0m \u001b[0;34m\u001b[0m\u001b[0m\n\u001b[1;32m    130\u001b[0m         \u001b[0;31m# Calculate loss\u001b[0m\u001b[0;34m\u001b[0m\u001b[0;34m\u001b[0m\u001b[0;34m\u001b[0m\u001b[0m\n",
      "\u001b[0;32m~/Research/neural_conduit/venv/lib/python3.6/site-packages/tensorflow/python/eager/backprop.py\u001b[0m in \u001b[0;36mgradient\u001b[0;34m(self, target, sources, output_gradients, unconnected_gradients)\u001b[0m\n\u001b[1;32m   1084\u001b[0m         \u001b[0moutput_gradients\u001b[0m\u001b[0;34m=\u001b[0m\u001b[0moutput_gradients\u001b[0m\u001b[0;34m,\u001b[0m\u001b[0;34m\u001b[0m\u001b[0;34m\u001b[0m\u001b[0m\n\u001b[1;32m   1085\u001b[0m         \u001b[0msources_raw\u001b[0m\u001b[0;34m=\u001b[0m\u001b[0mflat_sources_raw\u001b[0m\u001b[0;34m,\u001b[0m\u001b[0;34m\u001b[0m\u001b[0;34m\u001b[0m\u001b[0m\n\u001b[0;32m-> 1086\u001b[0;31m         unconnected_gradients=unconnected_gradients)\n\u001b[0m\u001b[1;32m   1087\u001b[0m \u001b[0;34m\u001b[0m\u001b[0m\n\u001b[1;32m   1088\u001b[0m     \u001b[0;32mif\u001b[0m \u001b[0;32mnot\u001b[0m \u001b[0mself\u001b[0m\u001b[0;34m.\u001b[0m\u001b[0m_persistent\u001b[0m\u001b[0;34m:\u001b[0m\u001b[0;34m\u001b[0m\u001b[0;34m\u001b[0m\u001b[0m\n",
      "\u001b[0;32m~/Research/neural_conduit/venv/lib/python3.6/site-packages/tensorflow/python/eager/imperative_grad.py\u001b[0m in \u001b[0;36mimperative_grad\u001b[0;34m(tape, target, sources, output_gradients, sources_raw, unconnected_gradients)\u001b[0m\n\u001b[1;32m     75\u001b[0m       \u001b[0moutput_gradients\u001b[0m\u001b[0;34m,\u001b[0m\u001b[0;34m\u001b[0m\u001b[0;34m\u001b[0m\u001b[0m\n\u001b[1;32m     76\u001b[0m       \u001b[0msources_raw\u001b[0m\u001b[0;34m,\u001b[0m\u001b[0;34m\u001b[0m\u001b[0;34m\u001b[0m\u001b[0m\n\u001b[0;32m---> 77\u001b[0;31m       compat.as_str(unconnected_gradients.value))\n\u001b[0m",
      "\u001b[0;32m~/Research/neural_conduit/venv/lib/python3.6/site-packages/tensorflow/python/eager/function.py\u001b[0m in \u001b[0;36m_backward_function_wrapper\u001b[0;34m(*args)\u001b[0m\n\u001b[1;32m   1282\u001b[0m           \u001b[0;32mbreak\u001b[0m\u001b[0;34m\u001b[0m\u001b[0;34m\u001b[0m\u001b[0m\n\u001b[1;32m   1283\u001b[0m       return backward._call_flat(  # pylint: disable=protected-access\n\u001b[0;32m-> 1284\u001b[0;31m           processed_args, remapped_captures)\n\u001b[0m\u001b[1;32m   1285\u001b[0m \u001b[0;34m\u001b[0m\u001b[0m\n\u001b[1;32m   1286\u001b[0m     \u001b[0;32mreturn\u001b[0m \u001b[0m_backward_function_wrapper\u001b[0m\u001b[0;34m,\u001b[0m \u001b[0mrecorded_outputs\u001b[0m\u001b[0;34m\u001b[0m\u001b[0;34m\u001b[0m\u001b[0m\n",
      "\u001b[0;32m~/Research/neural_conduit/venv/lib/python3.6/site-packages/tensorflow/python/eager/function.py\u001b[0m in \u001b[0;36m_call_flat\u001b[0;34m(self, args, captured_inputs, cancellation_manager)\u001b[0m\n\u001b[1;32m   1931\u001b[0m            \"StatefulPartitionedCall\": self._get_gradient_function()}):\n\u001b[1;32m   1932\u001b[0m         \u001b[0mflat_outputs\u001b[0m \u001b[0;34m=\u001b[0m \u001b[0mforward_function\u001b[0m\u001b[0;34m.\u001b[0m\u001b[0mcall\u001b[0m\u001b[0;34m(\u001b[0m\u001b[0mctx\u001b[0m\u001b[0;34m,\u001b[0m \u001b[0margs_with_tangents\u001b[0m\u001b[0;34m)\u001b[0m\u001b[0;34m\u001b[0m\u001b[0;34m\u001b[0m\u001b[0m\n\u001b[0;32m-> 1933\u001b[0;31m     \u001b[0mforward_backward\u001b[0m\u001b[0;34m.\u001b[0m\u001b[0mrecord\u001b[0m\u001b[0;34m(\u001b[0m\u001b[0mflat_outputs\u001b[0m\u001b[0;34m)\u001b[0m\u001b[0;34m\u001b[0m\u001b[0;34m\u001b[0m\u001b[0m\n\u001b[0m\u001b[1;32m   1934\u001b[0m     \u001b[0;32mreturn\u001b[0m \u001b[0mself\u001b[0m\u001b[0;34m.\u001b[0m\u001b[0m_build_call_outputs\u001b[0m\u001b[0;34m(\u001b[0m\u001b[0mflat_outputs\u001b[0m\u001b[0;34m)\u001b[0m\u001b[0;34m\u001b[0m\u001b[0;34m\u001b[0m\u001b[0m\n\u001b[1;32m   1935\u001b[0m \u001b[0;34m\u001b[0m\u001b[0m\n",
      "\u001b[0;32m~/Research/neural_conduit/venv/lib/python3.6/site-packages/tensorflow/python/eager/function.py\u001b[0m in \u001b[0;36mrecord\u001b[0;34m(self, flat_outputs)\u001b[0m\n\u001b[1;32m   1457\u001b[0m       \u001b[0;31m# tape is watching.\u001b[0m\u001b[0;34m\u001b[0m\u001b[0;34m\u001b[0m\u001b[0;34m\u001b[0m\u001b[0m\n\u001b[1;32m   1458\u001b[0m       self._functions.record(\n\u001b[0;32m-> 1459\u001b[0;31m           flat_outputs, self._inference_args, self._input_tangents)\n\u001b[0m\u001b[1;32m   1460\u001b[0m \u001b[0;34m\u001b[0m\u001b[0m\n\u001b[1;32m   1461\u001b[0m \u001b[0;34m\u001b[0m\u001b[0m\n",
      "\u001b[0;32m~/Research/neural_conduit/venv/lib/python3.6/site-packages/tensorflow/python/eager/function.py\u001b[0m in \u001b[0;36mrecord\u001b[0;34m(self, flat_outputs, inference_args, input_tangents)\u001b[0m\n\u001b[1;32m   1301\u001b[0m     \"\"\"\n\u001b[1;32m   1302\u001b[0m     backward_function, to_record = self._wrap_backward_function(\n\u001b[0;32m-> 1303\u001b[0;31m         self._forward_graph, self._backward, flat_outputs)\n\u001b[0m\u001b[1;32m   1304\u001b[0m     \u001b[0;32mif\u001b[0m \u001b[0mself\u001b[0m\u001b[0;34m.\u001b[0m\u001b[0m_forwardprop_output_indices\u001b[0m\u001b[0;34m:\u001b[0m\u001b[0;34m\u001b[0m\u001b[0;34m\u001b[0m\u001b[0m\n\u001b[1;32m   1305\u001b[0m       tape.record_operation_backprop_only(\n",
      "\u001b[0;32m~/Research/neural_conduit/venv/lib/python3.6/site-packages/tensorflow/python/eager/function.py\u001b[0m in \u001b[0;36m_wrap_backward_function\u001b[0;34m(self, forward_graph, backward, outputs)\u001b[0m\n\u001b[1;32m   1212\u001b[0m     capture_mapping = dict(\n\u001b[1;32m   1213\u001b[0m         zip((ops.tensor_id(t) for t in forward_graph.outputs), outputs))\n\u001b[0;32m-> 1214\u001b[0;31m     \u001b[0mcaptured_inputs\u001b[0m \u001b[0;34m=\u001b[0m \u001b[0mbackward\u001b[0m\u001b[0;34m.\u001b[0m\u001b[0mcaptured_inputs\u001b[0m\u001b[0;34m\u001b[0m\u001b[0;34m\u001b[0m\u001b[0m\n\u001b[0m\u001b[1;32m   1215\u001b[0m     remapped_captures = [\n\u001b[1;32m   1216\u001b[0m         \u001b[0mcapture_mapping\u001b[0m\u001b[0;34m.\u001b[0m\u001b[0mget\u001b[0m\u001b[0;34m(\u001b[0m\u001b[0mops\u001b[0m\u001b[0;34m.\u001b[0m\u001b[0mtensor_id\u001b[0m\u001b[0;34m(\u001b[0m\u001b[0mcapture\u001b[0m\u001b[0;34m)\u001b[0m\u001b[0;34m,\u001b[0m \u001b[0mcapture\u001b[0m\u001b[0;34m)\u001b[0m\u001b[0;34m\u001b[0m\u001b[0;34m\u001b[0m\u001b[0m\n",
      "\u001b[0;32m~/Research/neural_conduit/venv/lib/python3.6/site-packages/tensorflow/python/eager/function.py\u001b[0m in \u001b[0;36mcaptured_inputs\u001b[0;34m(self)\u001b[0m\n\u001b[1;32m   2006\u001b[0m     \u001b[0mself\u001b[0m\u001b[0;34m.\u001b[0m\u001b[0m__call__\u001b[0m\u001b[0;34m(\u001b[0m\u001b[0;34m*\u001b[0m\u001b[0margs\u001b[0m\u001b[0;34m)\u001b[0m \u001b[0mpasses\u001b[0m\u001b[0;31m \u001b[0m\u001b[0;31m`\u001b[0m\u001b[0margs\u001b[0m \u001b[0;34m+\u001b[0m \u001b[0mself\u001b[0m\u001b[0;34m.\u001b[0m\u001b[0mcaptured_inputs\u001b[0m\u001b[0;31m`\u001b[0m \u001b[0mto\u001b[0m \u001b[0mthe\u001b[0m \u001b[0mfunction\u001b[0m\u001b[0;34m.\u001b[0m\u001b[0;34m\u001b[0m\u001b[0;34m\u001b[0m\u001b[0m\n\u001b[1;32m   2007\u001b[0m     \"\"\"\n\u001b[0;32m-> 2008\u001b[0;31m     from_closures = nest.flatten([x() for x in self._captured_closures],\n\u001b[0m\u001b[1;32m   2009\u001b[0m                                  expand_composites=True)\n\u001b[1;32m   2010\u001b[0m     \u001b[0;32mreturn\u001b[0m \u001b[0mself\u001b[0m\u001b[0;34m.\u001b[0m\u001b[0m_captured_inputs\u001b[0m \u001b[0;34m+\u001b[0m \u001b[0mfrom_closures\u001b[0m\u001b[0;34m\u001b[0m\u001b[0;34m\u001b[0m\u001b[0m\n",
      "\u001b[0;31mKeyboardInterrupt\u001b[0m: "
     ]
    }
   ],
   "source": [
    "N_EPOCHS=100000\n",
    "N_DATA_EPOCHS=10000\n",
    "\n",
    "conduit_nn = PDENeuralNet(N_INPUTS,N_OUTPUTS, activations= ACTIVATIONS) # should match the order of CONDUIT_VAR_NAMES) # First output is pressure, second is u\n",
    "\n",
    "train(conduit_nn, dataset)"
   ]
  },
  {
   "cell_type": "code",
   "execution_count": null,
   "id": "streaming-conflict",
   "metadata": {},
   "outputs": [],
   "source": []
  },
  {
   "cell_type": "markdown",
   "id": "covered-marathon",
   "metadata": {},
   "source": [
    "# How to add the physics"
   ]
  },
  {
   "cell_type": "markdown",
   "id": "surgical-aspect",
   "metadata": {},
   "source": [
    "As a reminder, the neural network is set up to mimic the function $f(z,t) = [p, v, \\phi_g, m_h](z,t)$, which is a map $\\mathbb{R}^2 \\to \\mathbb{R}^4$.\n",
    "\n",
    "In practice, we train the neural network with a \"batch\" of $(z,t)$ samples. This adds an extra dimension to the tensors being passed in and out of the model, where different elements of a batch are stacked along the first axis. Therefore, during training we expect inputs of size $(N,2)$ (2 because of z and t) and outputs of size $(N,4)$ (4 because of the conduit model outputs), where $N$ is the batch size.\n",
    "\n",
    "## Steady-State Governing Equations\n",
    "\n",
    "We can write the governing equations for the steady-state conduit model in the form (YQ is working on this)\n",
    "\n",
    "$$F(z, [\\nu, \\partial_z \\nu]) = 0$$\n",
    "\n",
    "where $F$ is a matrix of size $(M,1)$ governing equations and $[\\nu, \\partial_z \\nu]$ is a 8-element vector containing the primary conduit variables and their gradients with respect to $z$, e.g. a vector $[p, v, \\phi_g, m_h, \\partial_z p, \\partial_z v, \\partial_z \\phi_g, \\partial_z m_h]$. If we want to write this as a matrix-vector equation, we can express it as \n",
    "\n",
    "$$ F(z, [\\nu, \\partial_z \\nu]) = J(z, \\nu) \\frac{\\partial \\nu}{\\partial z} + Q(z, \\nu, \\partial_z p) = 0, $$\n",
    "\n",
    "where $ J(z, \\nu)$ is a matrix of size $(M,4)$ containing the coefficients for $\\partial_z \\nu$ in the $M$ governing equations. However, one issue is that in the  momentum balance equation, $\\partial_z p$ appears in the sinh function for the frictional velocity and is therefore not linear in $\\partial_z p$, thus  $Q_{mbe}$ does contain the $\\partial_z p$ term. \n",
    "\n",
    "**Q for Ben**: can we just rewrite the equations in the form $F(z, \\nu) = 0$, instead of $J(z, \\nu) \\frac{\\partial \\nu}{\\partial z} + Q(\\nu) = 0$? Since $Q(\\nu)$ is so weird and contains $\\partial_z p$. Seems like the loss only calculates $F$ anyway. Maybe it would help if you just write down what the loss calculation would be?\n",
    "\n",
    "Also, how to implement boundary conditions?\n",
    "\n",
    "**A for YQ**: yes! We can definitely do that. No tensorflow reason to do one or the other -- I just figured you would have written the equations in the $J$, etc. way in your matlab code. I've re-written the loss function to show how that's done.\n",
    "\n",
    "The tensorflow code will produce conduit variables and their associated derivatives of size (N x 1) (where $N$ is the batch size). From these variables it is easy to assemble the vector $\\nu$.\n",
    "\n",
    "**What we still need:** a function that takes in these variables and gradients, and assembles the matrix $J$. \n",
    "\n",
    "Note that because of the batch dimension, $J$ will no longer be of size $(M,12)$, but should be of size $(N,M,12)$. We can then take this tensor and multiply it with $\\nu$ to get the governing equations.\n",
    "\n",
    "\n",
    "\n",
    "\n",
    "## Time-Dependent Governing Equations\n",
    "The time-dependent governing equations can be rewritten as \n",
    "\n",
    "$$H(t, z, [\\nu, \\partial_z \\nu, \\partial_t \\nu]) = 0, $$\n",
    "\n",
    "where $H$ is a matrix of size $(M,1)$ governing equations and $[\\nu, \\partial_z \\nu, \\partial_t \\nu]$ is now a 12-element vector containing the primary conduit variables and their gradients with respect to $z$, e.g. a vector $[p, v, \\phi_g, m_h, \\partial_z p, \\partial_z v, \\partial_z \\phi_g, \\partial_z m_h, \\partial_t p, \\partial_t v, \\partial_t \\phi_g, \\partial_t m_h]$. We can actually reduce this by one because $ \\partial_t v$ does not appear in the governing equations due to low Reynolds number. But wait. Will this result in velocities being constant over time? The assumption here is that $v$ depends on the phase fractions and other properties, not on the inertial term.\n",
    "\n",
    "If we want to write this as a matrix-vector equation, we can express it as \n",
    "\n",
    "$$ H(t, z, [\\nu, \\partial_z \\nu, \\partial_t \\nu]) =  M(t, z, \\nu) \\frac{\\partial \\nu}{\\partial t} -  J(t, z, \\nu) \\frac{\\partial \\nu}{\\partial z} - Q(t, z, \\nu, \\partial_z p) = 0, $$"
   ]
  },
  {
   "cell_type": "markdown",
   "id": "brilliant-financing",
   "metadata": {},
   "source": [
    "### Some numpy manipulations to show how to do the math once we have $J$ and $\\nu$"
   ]
  },
  {
   "cell_type": "code",
   "execution_count": null,
   "id": "animated-rapid",
   "metadata": {},
   "outputs": [],
   "source": [
    "J = np.arange(5*3*4).reshape(5,3,4)\n",
    "nu = np.arange(5*4).reshape(5,4)\n",
    "result = np.zeros((5,3))"
   ]
  },
  {
   "cell_type": "code",
   "execution_count": null,
   "id": "opposed-ethernet",
   "metadata": {},
   "outputs": [],
   "source": [
    "for i in range(5):\n",
    "  result[i,:] = J[i,:,:].dot(nu[i,:])\n",
    "print(result)"
   ]
  },
  {
   "cell_type": "code",
   "execution_count": null,
   "id": "judicial-shelter",
   "metadata": {},
   "outputs": [],
   "source": [
    "# Faster (?) alternative\n",
    "result2 = np.einsum('ijk,ik->ij',J,nu)\n",
    "print(result2)"
   ]
  },
  {
   "cell_type": "code",
   "execution_count": null,
   "id": "advisory-proxy",
   "metadata": {},
   "outputs": [],
   "source": [
    "result == result2"
   ]
  },
  {
   "cell_type": "code",
   "execution_count": null,
   "id": "missing-gregory",
   "metadata": {},
   "outputs": [],
   "source": []
  },
  {
   "cell_type": "code",
   "execution_count": null,
   "id": "increasing-buddy",
   "metadata": {},
   "outputs": [],
   "source": []
  },
  {
   "cell_type": "code",
   "execution_count": null,
   "id": "affecting-seafood",
   "metadata": {},
   "outputs": [],
   "source": []
  },
  {
   "cell_type": "code",
   "execution_count": null,
   "id": "promotional-landscape",
   "metadata": {},
   "outputs": [],
   "source": []
  },
  {
   "cell_type": "code",
   "execution_count": null,
   "id": "enclosed-chemistry",
   "metadata": {},
   "outputs": [],
   "source": []
  }
 ],
 "metadata": {
  "kernelspec": {
   "display_name": "nc_venv",
   "language": "python",
   "name": "nc_venv"
  },
  "language_info": {
   "codemirror_mode": {
    "name": "ipython",
    "version": 3
   },
   "file_extension": ".py",
   "mimetype": "text/x-python",
   "name": "python",
   "nbconvert_exporter": "python",
   "pygments_lexer": "ipython3",
   "version": "3.6.9"
  }
 },
 "nbformat": 4,
 "nbformat_minor": 5
}
